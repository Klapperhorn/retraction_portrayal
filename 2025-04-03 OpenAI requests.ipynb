{
 "cells": [
  {
   "cell_type": "code",
   "execution_count": 1,
   "id": "2512e9b8-85d8-4fe6-8855-ad5fd52b62f0",
   "metadata": {},
   "outputs": [],
   "source": [
    "# ensure that lists are read as list and not as strings\n",
    "import pandas as pd\n",
    "from tqdm import tqdm # progress apply :)\n",
    "tqdm.pandas()\n",
    "from ast import literal_eval\n",
    "columns_to_convert=[\"texts\",\"labels\",\"retraction_counts\",\"has_retraction\",\"retract_tokens\",\"has_retraction_label\"]\n",
    "converters = {col: literal_eval for col in columns_to_convert}\n",
    "\n",
    "#df=pd.read_csv(\"2025-04-03 PDF import complete.json\", converters=converters)\n",
    "\n",
    "\n",
    "df=pd.read_json(\"2025-04-03 PDF import complete.json\")\n",
    "\n",
    "df=df[df[\"has_retraction\"]==True]\n",
    "\n",
    "\n",
    "%load_ext autoreload\n",
    "%autoreload 2\n",
    "def d(l):\n",
    "    pd.set_option('display.max_colwidth', l)"
   ]
  },
  {
   "cell_type": "code",
   "execution_count": 54,
   "id": "5d3500ab-6278-403c-9d94-e4b4ab8ff04f",
   "metadata": {
    "scrolled": true
   },
   "outputs": [
    {
     "data": {
      "text/plain": [
       "texts             [NEWS, Intellectual disability is a condition,...\n",
       "retract_tokens    [retracting, retraction, retract, retract, ret...\n",
       "Name: Science188, dtype: object"
      ]
     },
     "execution_count": 54,
     "metadata": {},
     "output_type": "execute_result"
    }
   ],
   "source": [
    "\n",
    "df.loc[\"Science188\"][[\"texts\",\"retract_tokens\"]]"
   ]
  },
  {
   "cell_type": "code",
   "execution_count": 15,
   "id": "3f6f30d6-d914-4734-bcaf-b75a1cad4755",
   "metadata": {},
   "outputs": [
    {
     "data": {
      "text/plain": [
       "retract_tokens\n",
       "refract       136\n",
       "retracts      105\n",
       "refraction     76\n",
       "Retracted      27\n",
       "Retract        27\n",
       "             ... \n",
       "reiraction      1\n",
       "r tract         1\n",
       "detracts        1\n",
       "de tract        1\n",
       "rge tracts      1\n",
       "Name: count, Length: 73, dtype: int64"
      ]
     },
     "execution_count": 15,
     "metadata": {},
     "output_type": "execute_result"
    }
   ],
   "source": [
    "df[\"retract_tokens\"].explode().value_counts()[5:]"
   ]
  },
  {
   "cell_type": "code",
   "execution_count": 4,
   "id": "3c520f5c-5f0e-44cf-b167-948ddda6d01b",
   "metadata": {},
   "outputs": [
    {
     "data": {
      "text/plain": [
       "texts                         53.915366\n",
       "filtered_texts                 2.029992\n",
       "neighboring_texts              7.689811\n",
       "texts_until_section_header     4.021364\n",
       "dtype: float64"
      ]
     },
     "execution_count": 4,
     "metadata": {},
     "output_type": "execute_result"
    }
   ],
   "source": [
    "from MyLib import labelfilter\n",
    "\n",
    "# Apply the functions to create new columns\n",
    "df['filtered_texts'] = df.apply(lambda row: labelfilter.filter_texts(row['texts'], row['retraction_counts']), axis=1)\n",
    "df['neighboring_texts'] = df.apply(lambda row: labelfilter.get_neighboring_texts(row['texts'], row['retraction_counts']), axis=1)\n",
    "df['texts_until_section_header'] = df.apply(lambda row: labelfilter.get_texts_until_section_header(row['texts'], row['labels'], row['retraction_counts']), axis=1)\n",
    "df[['texts', 'filtered_texts','neighboring_texts','texts_until_section_header']].apply(lambda col: col.apply(len).mean())"
   ]
  },
  {
   "cell_type": "code",
   "execution_count": 6,
   "id": "5f49bed8-4f6c-46ee-b63e-7165cb0d7dde",
   "metadata": {},
   "outputs": [
    {
     "data": {
      "text/plain": [
       "(2434, 13)"
      ]
     },
     "execution_count": 6,
     "metadata": {},
     "output_type": "execute_result"
    }
   ],
   "source": [
    "df[\"text\"]=df.apply(lambda row: labelfilter.get_neighboring_texts(row['texts'], row['retraction_counts']), axis=1).apply(lambda x: \" \".join(x))\n",
    "df.shape"
   ]
  },
  {
   "cell_type": "code",
   "execution_count": 4,
   "id": "a5d63a64-eebd-45a0-9d8b-59d8b8d2faf4",
   "metadata": {},
   "outputs": [
    {
     "data": {
      "text/html": [
       "<div>\n",
       "<style scoped>\n",
       "    .dataframe tbody tr th:only-of-type {\n",
       "        vertical-align: middle;\n",
       "    }\n",
       "\n",
       "    .dataframe tbody tr th {\n",
       "        vertical-align: top;\n",
       "    }\n",
       "\n",
       "    .dataframe thead th {\n",
       "        text-align: right;\n",
       "    }\n",
       "</style>\n",
       "<table border=\"1\" class=\"dataframe\">\n",
       "  <thead>\n",
       "    <tr style=\"text-align: right;\">\n",
       "      <th></th>\n",
       "      <th>path</th>\n",
       "      <th>folder</th>\n",
       "      <th>journal</th>\n",
       "      <th>texts</th>\n",
       "      <th>labels</th>\n",
       "      <th>retraction_counts</th>\n",
       "      <th>has_retraction</th>\n",
       "      <th>retract_tokens</th>\n",
       "      <th>has_retraction_label</th>\n",
       "      <th>filtered_texts</th>\n",
       "      <th>neighboring_texts</th>\n",
       "      <th>texts_until_section_header</th>\n",
       "      <th>text</th>\n",
       "    </tr>\n",
       "  </thead>\n",
       "  <tbody>\n",
       "    <tr>\n",
       "      <th>Science113</th>\n",
       "      <td>Data_Science\\Newly DL relevant previously mark...</td>\n",
       "      <td>Data_Science\\Newly DL relevant previously mark...</td>\n",
       "      <td>Science</td>\n",
       "      <td>[The Germans Trias i Pujol University Hospital...</td>\n",
       "      <td>[caption, text, text, section_header, text, se...</td>\n",
       "      <td>[0, 0, 0, 0, 0, 0, 0, 0, 1, 0, 0, 0, 0, 0, 0, ...</td>\n",
       "      <td>1.0</td>\n",
       "      <td>[retracted, retraction, retraction, retraction...</td>\n",
       "      <td>[text, text, text, section_header, text, text,...</td>\n",
       "      <td>[Praised by presidents as a potential miracle ...</td>\n",
       "      <td>[virus,for instance on the job at ahospitala s...</td>\n",
       "      <td>[Praised by presidents as a potential miracle ...</td>\n",
       "      <td>virus,for instance on the job at ahospitala st...</td>\n",
       "    </tr>\n",
       "    <tr>\n",
       "      <th>Science116</th>\n",
       "      <td>Data_Science\\Newly DL relevant previously mark...</td>\n",
       "      <td>Data_Science\\Newly DL relevant previously mark...</td>\n",
       "      <td>Science</td>\n",
       "      <td>[CAFFE', AURORA, CAFFE', IN DEPTH, Italy'sCovi...</td>\n",
       "      <td>[text, text, text, text, text, section_header,...</td>\n",
       "      <td>[0, 0, 0, 0, 0, 0, 0, 0, 0, 0, 0, 0, 0, 0, 0, ...</td>\n",
       "      <td>1.0</td>\n",
       "      <td>[retracted]</td>\n",
       "      <td>[text]</td>\n",
       "      <td>[\"Whatthey'vedoneisbasicallyseenthese twobranc...</td>\n",
       "      <td>[\"Whatthey'vedoneisbasicallyseenthese twobranc...</td>\n",
       "      <td>[\"Whatthey'vedoneisbasicallyseenthese twobranc...</td>\n",
       "      <td>\"Whatthey'vedoneisbasicallyseenthese twobranch...</td>\n",
       "    </tr>\n",
       "    <tr>\n",
       "      <th>Science119</th>\n",
       "      <td>Data_Science\\Newly DL relevant previously mark...</td>\n",
       "      <td>Data_Science\\Newly DL relevant previously mark...</td>\n",
       "      <td>Science</td>\n",
       "      <td>[SCIENTIFICPUBLISHING, Elsevier to Editor: Cha...</td>\n",
       "      <td>[section_header, section_header, text, text, t...</td>\n",
       "      <td>[0, 0, 0, 0, 0, 0, 0, 0, 0, 0, 0, 0, 0, 0, 0, ...</td>\n",
       "      <td>1.0</td>\n",
       "      <td>[retracted]</td>\n",
       "      <td>[text]</td>\n",
       "      <td>[Withdrawn.Two Medical Hypotheses papers—inclu...</td>\n",
       "      <td>[Charlton says he is “agnostic”, \"This Article...</td>\n",
       "      <td>[Withdrawn.Two Medical Hypotheses papers—inclu...</td>\n",
       "      <td>Charlton says he is “agnostic” \"This Article-i...</td>\n",
       "    </tr>\n",
       "    <tr>\n",
       "      <th>Science149</th>\n",
       "      <td>Data_Science\\Newly DL relevant previously mark...</td>\n",
       "      <td>Data_Science\\Newly DL relevant previously mark...</td>\n",
       "      <td>Science</td>\n",
       "      <td>[FEATURES, THE PREPRINT DILEMMA, Biologists ar...</td>\n",
       "      <td>[text, section_header, text, section_header, t...</td>\n",
       "      <td>[0, 0, 0, 0, 0, 1, 0, 0, 0, 0, 0, 0, 0, 0, 0, ...</td>\n",
       "      <td>1.0</td>\n",
       "      <td>[retracting]</td>\n",
       "      <td>[text, text]</td>\n",
       "      <td>[He didn't worry for long.In a few hours, the ...</td>\n",
       "      <td>[Slavov represents the promise of a movement t...</td>\n",
       "      <td>[He didn't worry for long.In a few hours, the ...</td>\n",
       "      <td>Slavov represents the promise of a movement th...</td>\n",
       "    </tr>\n",
       "    <tr>\n",
       "      <th>Science159</th>\n",
       "      <td>Data_Science\\Newly DL relevant previously mark...</td>\n",
       "      <td>Data_Science\\Newly DL relevant previously mark...</td>\n",
       "      <td>Science</td>\n",
       "      <td>[VACCINEMYTHS, False: Vaccination can cause au...</td>\n",
       "      <td>[section_header, section_header, text, text, t...</td>\n",
       "      <td>[0, 0, 1, 0, 0, 0, 0, 0, 0, 0, 0, 0, 0, 0, 1, ...</td>\n",
       "      <td>1.0</td>\n",
       "      <td>[retracted, retracted, retracted]</td>\n",
       "      <td>[text, text, text]</td>\n",
       "      <td>[In1998,U.K.doctorAndrew Wakefieldpublishedast...</td>\n",
       "      <td>[False: Mercury in vaccines acts as a neurotox...</td>\n",
       "      <td>[In1998,U.K.doctorAndrew Wakefieldpublishedast...</td>\n",
       "      <td>False: Mercury in vaccines acts as a neurotoxi...</td>\n",
       "    </tr>\n",
       "  </tbody>\n",
       "</table>\n",
       "</div>"
      ],
      "text/plain": [
       "                                                         path  \\\n",
       "Science113  Data_Science\\Newly DL relevant previously mark...   \n",
       "Science116  Data_Science\\Newly DL relevant previously mark...   \n",
       "Science119  Data_Science\\Newly DL relevant previously mark...   \n",
       "Science149  Data_Science\\Newly DL relevant previously mark...   \n",
       "Science159  Data_Science\\Newly DL relevant previously mark...   \n",
       "\n",
       "                                                       folder  journal  \\\n",
       "Science113  Data_Science\\Newly DL relevant previously mark...  Science   \n",
       "Science116  Data_Science\\Newly DL relevant previously mark...  Science   \n",
       "Science119  Data_Science\\Newly DL relevant previously mark...  Science   \n",
       "Science149  Data_Science\\Newly DL relevant previously mark...  Science   \n",
       "Science159  Data_Science\\Newly DL relevant previously mark...  Science   \n",
       "\n",
       "                                                        texts  \\\n",
       "Science113  [The Germans Trias i Pujol University Hospital...   \n",
       "Science116  [CAFFE', AURORA, CAFFE', IN DEPTH, Italy'sCovi...   \n",
       "Science119  [SCIENTIFICPUBLISHING, Elsevier to Editor: Cha...   \n",
       "Science149  [FEATURES, THE PREPRINT DILEMMA, Biologists ar...   \n",
       "Science159  [VACCINEMYTHS, False: Vaccination can cause au...   \n",
       "\n",
       "                                                       labels  \\\n",
       "Science113  [caption, text, text, section_header, text, se...   \n",
       "Science116  [text, text, text, text, text, section_header,...   \n",
       "Science119  [section_header, section_header, text, text, t...   \n",
       "Science149  [text, section_header, text, section_header, t...   \n",
       "Science159  [section_header, section_header, text, text, t...   \n",
       "\n",
       "                                            retraction_counts  has_retraction  \\\n",
       "Science113  [0, 0, 0, 0, 0, 0, 0, 0, 1, 0, 0, 0, 0, 0, 0, ...             1.0   \n",
       "Science116  [0, 0, 0, 0, 0, 0, 0, 0, 0, 0, 0, 0, 0, 0, 0, ...             1.0   \n",
       "Science119  [0, 0, 0, 0, 0, 0, 0, 0, 0, 0, 0, 0, 0, 0, 0, ...             1.0   \n",
       "Science149  [0, 0, 0, 0, 0, 1, 0, 0, 0, 0, 0, 0, 0, 0, 0, ...             1.0   \n",
       "Science159  [0, 0, 1, 0, 0, 0, 0, 0, 0, 0, 0, 0, 0, 0, 1, ...             1.0   \n",
       "\n",
       "                                               retract_tokens  \\\n",
       "Science113  [retracted, retraction, retraction, retraction...   \n",
       "Science116                                        [retracted]   \n",
       "Science119                                        [retracted]   \n",
       "Science149                                       [retracting]   \n",
       "Science159                  [retracted, retracted, retracted]   \n",
       "\n",
       "                                         has_retraction_label  \\\n",
       "Science113  [text, text, text, section_header, text, text,...   \n",
       "Science116                                             [text]   \n",
       "Science119                                             [text]   \n",
       "Science149                                       [text, text]   \n",
       "Science159                                 [text, text, text]   \n",
       "\n",
       "                                               filtered_texts  \\\n",
       "Science113  [Praised by presidents as a potential miracle ...   \n",
       "Science116  [\"Whatthey'vedoneisbasicallyseenthese twobranc...   \n",
       "Science119  [Withdrawn.Two Medical Hypotheses papers—inclu...   \n",
       "Science149  [He didn't worry for long.In a few hours, the ...   \n",
       "Science159  [In1998,U.K.doctorAndrew Wakefieldpublishedast...   \n",
       "\n",
       "                                            neighboring_texts  \\\n",
       "Science113  [virus,for instance on the job at ahospitala s...   \n",
       "Science116  [\"Whatthey'vedoneisbasicallyseenthese twobranc...   \n",
       "Science119  [Charlton says he is “agnostic”, \"This Article...   \n",
       "Science149  [Slavov represents the promise of a movement t...   \n",
       "Science159  [False: Mercury in vaccines acts as a neurotox...   \n",
       "\n",
       "                                   texts_until_section_header  \\\n",
       "Science113  [Praised by presidents as a potential miracle ...   \n",
       "Science116  [\"Whatthey'vedoneisbasicallyseenthese twobranc...   \n",
       "Science119  [Withdrawn.Two Medical Hypotheses papers—inclu...   \n",
       "Science149  [He didn't worry for long.In a few hours, the ...   \n",
       "Science159  [In1998,U.K.doctorAndrew Wakefieldpublishedast...   \n",
       "\n",
       "                                                         text  \n",
       "Science113  virus,for instance on the job at ahospitala st...  \n",
       "Science116  \"Whatthey'vedoneisbasicallyseenthese twobranch...  \n",
       "Science119  Charlton says he is “agnostic” \"This Article-i...  \n",
       "Science149  Slavov represents the promise of a movement th...  \n",
       "Science159  False: Mercury in vaccines acts as a neurotoxi...  "
      ]
     },
     "execution_count": 4,
     "metadata": {},
     "output_type": "execute_result"
    }
   ],
   "source": [
    "df.head()"
   ]
  },
  {
   "cell_type": "code",
   "execution_count": 18,
   "id": "2a84322c-6eac-4f9d-8442-0fb660b2dd63",
   "metadata": {},
   "outputs": [],
   "source": [
    "general_introduction_retract=\"\"\"\n",
    "\n",
    "You are a helpful assistant that categorizes the sentences into two retraction contexts, “ARTICLE”, “OTHER”. OTHER contains all sentences that do not match the ARTICLE definition.\n",
    "If you refer to relevant context or an historical case, explain why this context matters for the categorization. Do not invent context that is not provided.\n",
    "Return the ID, the result category and give a short explanation (about 50 characters) for the categorisation in a csv format, with the separator=' <SEP> '.\n",
    "'ID' <SEP> 'category' <SEP> 'explanation'.\n",
    "\n",
    "Use the following definitions and examples.\n",
    "\n",
    "\"\"\"\n",
    "\n",
    "science_def=\"\"\"# ARTICLE: Code a sentence as \"ARTICLE\" when it discusses the correction or retraction of scientific articles or research findings.\n",
    "This includes:\n",
    "    References to errors or misconduct in published research.\n",
    "    Sentences about the formal process of retracting a paper.\n",
    "    Discussions on the impact of retractions on authors or the scientific community.\n",
    "Examples:\n",
    "- \"We're certainly not retract ing our result\" says John Kovac, a cosmologist at the Harvard-Smithsonian Center for Astrophysics\" - Discusses refusal to retract a scientific result.\n",
    "- \"CERN scientists haven't forgotten the time they found the (still undiscovered) top quark a few years back and then retracted the claim.\" - Mentions a claim about the top quark being retracted.\n",
    "- \"However, Iran's rank for citations per paper is only 161 (2), and the country ranks second worldwide for the number of retracted papers (2).\" - Highlights Iran's high number of retracted papers.\n",
    "- \"I hope that my letter may persuade you to take another look at this subject and possibly you may see fit to write not a retraction, but an extension or redefinition of your first editorial\" - Suggests a retraction or redefinition of an editorial.\n",
    "- \"He also retracts earlier statements in which he assertedthatthescopeof thepatentswouldallowthe RoslinInstitute to preventthe technologyfallingintothe wrong hands.\" - Indicates retraction of earlier statements about patents.\n",
    "- \"Bythe timethemeetingended on18April,the UnitedStateshadretracted or disowned two position papers\" - States the U.S. retracted two position papers.\n",
    "- \"Byrne has been working on identifying errors in human-cancer papers since 2015, when she noticed problems with five papers on gene function in cancer cells.\" – Describes efforts to correct science.\n",
    "- \"For those who do have to retract a paper because of an honest mistake, a few studies offer encouragement: They suggest that such retractions aren’t so bad for one’s career.\" – Discusses retractions due to honest mistakes and how they might not be detrimental to one's career\n",
    "- \"An analysis of more than 20,600 biomedical papers published from 1995 to 2014 in 40 journals has found that 4% contain deliberately or accidentally duplicated images.\" - Highlights the presence of deliberately or accidentally duplicated images in biomedical papers, implying scientific misconduct\n",
    "- \"In one case, early-career researchers who showed that a famous scientist had engaged in extensive self-citation and recycled his own publications were accused of being vigilantes and mounting a witch hunt.\" - Highlights an example of scientific misconduct.\n",
    "- \"a now-retracted paper in Science reported that gay canvassers could sway voter opinions on same-sex marriage.\" - discusses a retracted paper\n",
    "\n",
    "Important: When the words retract or retraction are used in the context of physical retraction, do not code as \"ARTICLE\"\n",
    "\n",
    "\n",
    "\n",
    "\"\"\"\n",
    "\n",
    "other_def=\"\"\"# OTHER: Code a sentence with the \"OTHER\" context when \"retract,\" \"refract,\" or similar terms refer to meanings unrelated to academic publishing, \n",
    "such as physical actions or phenomena. This context includes:\n",
    "    Physical Movements: Sentences that describe the retraction of muscles or body parts.\n",
    "    Optical Phenomena: Sentences that discuss the refraction of light or similar physical processes.\n",
    "    General Usage: Sentences that use \"retract\" or \"refract\" in everyday language without any connection to scientific articles or research.\n",
    "Examples:\n",
    "- \"The retraction of the shoulder blades is essential for maintaining good posture during exercise.\" - Describes physical movement of shoulder blades.\n",
    "- \"Proper retraction of the abdominal muscles can help stabilize the core during heavy lifting.\" - Refers to muscle retraction for core stability.\n",
    "- \"The oyster, under these circumstances,at once retracts its sensitive mantle-border; the worms, their cirri.\" - Discusses an oyster retracting its mantle-border.\n",
    "- \"There's sort of long and protracted debates about what really constitutes an aerosol, how small a particle needs to be to be considered an aerosol\" - Talks about prolonged debates, not article retraction.\n",
    "- \"TOn  the  non-retractile blood  clot; suppression  of  the formation of blood serum in some pathological states, by M.  G. Hayem.-Research on caramel in wines.\" - Discusses a non-retractile blood clot in pathology.\n",
    "- \"The scientist explained how different materials can refract light at varying angles.\" - Explains how light refracts through different materials.\n",
    "- \"Their presence was made evident by the retraction of the mantles when shadows are passed over them.\" signifies a physical response to environmental stimuli\n",
    "\n",
    "\"\"\"\n",
    "\n",
    "\n",
    "#print(general_introduction_retract+science_def+other_def)"
   ]
  },
  {
   "cell_type": "code",
   "execution_count": 19,
   "id": "449534fb-4056-473e-ba41-0871ee1345da",
   "metadata": {},
   "outputs": [],
   "source": [
    "general_introduction=\"\"\"\n",
    "\n",
    "You are a helpful assistant that categorizes the sentences into the retraction frames, “Mistake”, “Misconduct”, or “None”. \n",
    "If you refer to relevant context or an historical case, explain why this context matters for the categorization. Do not invent context that is not provided.\n",
    "Return the ID, the result category and give a short explanation for the categorisation in a csv format, with the separator=' <SEP> '.\n",
    "'ID' <SEP> 'category' <SEP> 'explanation'\n",
    "\n",
    "Use the following definitions and examples.\n",
    "\n",
    "\"\"\"\n",
    "\n",
    "mistake_def=\"\"\"# Mistake: Code a text with the \"Mistake\" frame when it emphasizes the correction of a mistake or error without suggesting bad intentions of authors or reviewers. Also consider sentences that evoke or exemplify honesty, responsibility, and the self-correcting nature of science where mistakes can happen, be explained, excused, and corrected.\n",
    "Examples:\n",
    "-\t\"But in science, mistakes are seldom completely fruitless.\" - This sentence emphasizes the inevitability of mistakes in science and the self-correcting nature of the scientific process.\n",
    "-\t\"Mistakes will happen and science does tend to be self-correcting.\" - This statement underscores the acknowledgment of mistakes as an inherent aspect of scientific research and highlights the self-correcting nature of science.\n",
    "-\t“It can be very difficult to spot one’s own mistakes.” - the difficulty of spotting one's own mistakes indicates an awareness of potential errors to be corrected.\n",
    "-\t“Byrne has been working on identifying errors in human-cancer papers since 2015, when she noticed problems with five papers on gene function in cancer cells.” – The sentences describe efforts to correct science.\n",
    "-\t“For those who do have to retract a paper because of an honest mistake, a few studies offer encouragement: They suggest that such retractions aren’t so bad for one’s career.” – The sentence discusses retractions due to honest mistakes and how they might not be detrimental to one's career, acknowledging that mistakes can happen and can be rectified.\n",
    "\n",
    "\"\"\"\n",
    "misconduct_def=\"\"\"# Misconduct: Code a text with the \"Misconduct\" frame when it suggests scientists’ bad intentions, ethical lapses, or a lack of ethics, virtues, and research integrity education as a problem of science. Also consider sentences that exemplify misconduct by questionable research practices, such as cherry picking, image duplication, fabricated/fake data, or tortured phrases.\n",
    "Examples:\n",
    "-\t\"Such plagiarism is unethical, and it is a form of misconduct, but scientists are not writers.\" - This sentence explicitly labels plagiarism as a form of misconduct\n",
    "-\t“An analysis of more than 20,600 biomedical papers published from 1995 to 2014 in 40 journals has found that 4% contain deliberately or accidentally duplicated images.\" - This sentence highlights the presence of deliberately or accidentally duplicated images in biomedical papers, implying scientific misconduct\n",
    "-\t“As funding for research grants becomes more competitive, the pressure to publish in top journals increases and may lead to an increase in ethical lapses.” - This statement hints at the possibility of scientific misconduct.\n",
    "-\t“It appears from the testimony of her graduate students that Dr. Goodwin’s mentoring of her graduate students included behaviors that could be considered scientific misconduct—namely, pressuring students to conceal research results that disagreed with desired outcomes and urging them to over-interpret data that the students themselves considered to be preliminary and weak.”- The behavior described constitutes scientific misconduct.\n",
    "-\t\"Springer Nature is retracting 62 articles published in a special issue of one journal.\" – Even though, the sentence does not directly mention misconduct, the retraction of 62 articles within only one special issue indicates misconduct.\n",
    "-\t“In one case, early-career researchers who showed that a famous scientist had engaged in extensive self-citation and recycled his own publications were accused of being vigilantes and mounting a witch hunt.” - This sentence highlights an example of scientific misconduct, where a famous scientist engaged in extensive self-citation and recycling of publications, and the researchers who exposed this behavior were unfairly accused.\n",
    "\n",
    "\"\"\"\n",
    "none_def=\"\"\"# None: Code the text with \"None\" when no information about the other framings is presented or if the sentence neutrally balances both frames.\n",
    "Examples:\n",
    "-\t“Posts and article identifiers from the blog Retraction Watch will be incorporated into a web application ….” This sentence discusses a web application, without explicitly framing retractions in terms of mistake or misconduct.\n",
    "-\t“Researchers are still debating what academia can learn from last month’s political science scandal: a now-retracted paper in Science reported that gay canvassers could sway voter opinions on same-sex marriage.”- This sentence presents a discussion about the lesson academia can learn from a retracted paper without explicitly framing the retraction in terms of mistake or misconduct.\n",
    "\"\"\"\n",
    "\n",
    "\n",
    "\n",
    "#print(general_introduction+mistake_def+misconduct_def+none_def)"
   ]
  },
  {
   "cell_type": "code",
   "execution_count": 12,
   "id": "70eb9d42-21f7-4f87-9454-efbd1d5cf654",
   "metadata": {},
   "outputs": [],
   "source": [
    "from openai import OpenAI\n",
    "import openAI_key\n",
    "client = OpenAI(\n",
    "  api_key=openAI_key.key,\n",
    "  organization='org-AJfgAhVwZQxIQbEHbpHA7bxV',\n",
    "  project='proj_DFvnNMN9WCDyFlNo27pEDg0C',\n",
    ")"
   ]
  },
  {
   "cell_type": "code",
   "execution_count": 13,
   "id": "9db70863-bae0-4cf4-9872-a4f7346dce45",
   "metadata": {},
   "outputs": [],
   "source": [
    "from tqdm import tqdm # progress apply :)\n",
    "tqdm.pandas()"
   ]
  },
  {
   "cell_type": "code",
   "execution_count": 14,
   "id": "2aea9822-a43d-4718-82be-772cc72e0004",
   "metadata": {},
   "outputs": [
    {
     "data": {
      "text/plain": [
       "array(['Data_Science\\\\Newly DL relevant previously marked Technical problem',\n",
       "       'Data_Science\\\\relevant_final',\n",
       "       'Data_Science\\\\Not relevant\\\\No occurance of keyword retract',\n",
       "       'Data_Science\\\\Not relevant\\\\Not relevant Type News',\n",
       "       'Data_Science\\\\Not relevant\\\\Not relevant Type Perspectives and Comments',\n",
       "       'Data_Science\\\\Not relevant\\\\Not relevant Type Perspectives and Comments\\\\TBD',\n",
       "       'Data_Nature\\\\Not relevant', 'Data_Nature\\\\relevant_final',\n",
       "       'Data_Nature\\\\Not relevant\\\\Not relevant (additional)',\n",
       "       'Data_Nature\\\\Not relevant\\\\Not relevant retraction letters'],\n",
       "      dtype=object)"
      ]
     },
     "execution_count": 14,
     "metadata": {},
     "output_type": "execute_result"
    }
   ],
   "source": [
    "df.folder.unique()"
   ]
  },
  {
   "cell_type": "code",
   "execution_count": 15,
   "id": "604e14b5-ceb6-4539-aad8-8376156934a7",
   "metadata": {},
   "outputs": [
    {
     "data": {
      "text/html": [
       "<div>\n",
       "<style scoped>\n",
       "    .dataframe tbody tr th:only-of-type {\n",
       "        vertical-align: middle;\n",
       "    }\n",
       "\n",
       "    .dataframe tbody tr th {\n",
       "        vertical-align: top;\n",
       "    }\n",
       "\n",
       "    .dataframe thead th {\n",
       "        text-align: right;\n",
       "    }\n",
       "</style>\n",
       "<table border=\"1\" class=\"dataframe\">\n",
       "  <thead>\n",
       "    <tr style=\"text-align: right;\">\n",
       "      <th></th>\n",
       "      <th>path</th>\n",
       "      <th>folder</th>\n",
       "      <th>journal</th>\n",
       "      <th>texts</th>\n",
       "      <th>labels</th>\n",
       "      <th>retraction_counts</th>\n",
       "      <th>has_retraction</th>\n",
       "      <th>retract_tokens</th>\n",
       "      <th>has_retraction_label</th>\n",
       "      <th>filtered_texts</th>\n",
       "      <th>neighboring_texts</th>\n",
       "      <th>texts_until_section_header</th>\n",
       "      <th>text</th>\n",
       "      <th>relevant</th>\n",
       "    </tr>\n",
       "  </thead>\n",
       "  <tbody>\n",
       "    <tr>\n",
       "      <th>Science113</th>\n",
       "      <td>Data_Science\\Newly DL relevant previously mark...</td>\n",
       "      <td>Data_Science\\Newly DL relevant previously mark...</td>\n",
       "      <td>Science</td>\n",
       "      <td>[The Germans Trias i Pujol University Hospital...</td>\n",
       "      <td>[caption, text, text, section_header, text, se...</td>\n",
       "      <td>[0, 0, 0, 0, 0, 0, 0, 0, 1, 0, 0, 0, 0, 0, 0, ...</td>\n",
       "      <td>1.0</td>\n",
       "      <td>[retracted, retraction, retraction, retraction...</td>\n",
       "      <td>[text, text, text, section_header, text, text,...</td>\n",
       "      <td>[Praised by presidents as a potential miracle ...</td>\n",
       "      <td>[virus,for instance on the job at ahospitala s...</td>\n",
       "      <td>[Praised by presidents as a potential miracle ...</td>\n",
       "      <td>virus,for instance on the job at ahospitala st...</td>\n",
       "      <td>False</td>\n",
       "    </tr>\n",
       "    <tr>\n",
       "      <th>Science116</th>\n",
       "      <td>Data_Science\\Newly DL relevant previously mark...</td>\n",
       "      <td>Data_Science\\Newly DL relevant previously mark...</td>\n",
       "      <td>Science</td>\n",
       "      <td>[CAFFE', AURORA, CAFFE', IN DEPTH, Italy'sCovi...</td>\n",
       "      <td>[text, text, text, text, text, section_header,...</td>\n",
       "      <td>[0, 0, 0, 0, 0, 0, 0, 0, 0, 0, 0, 0, 0, 0, 0, ...</td>\n",
       "      <td>1.0</td>\n",
       "      <td>[retracted]</td>\n",
       "      <td>[text]</td>\n",
       "      <td>[\"Whatthey'vedoneisbasicallyseenthese twobranc...</td>\n",
       "      <td>[\"Whatthey'vedoneisbasicallyseenthese twobranc...</td>\n",
       "      <td>[\"Whatthey'vedoneisbasicallyseenthese twobranc...</td>\n",
       "      <td>\"Whatthey'vedoneisbasicallyseenthese twobranch...</td>\n",
       "      <td>False</td>\n",
       "    </tr>\n",
       "    <tr>\n",
       "      <th>Science119</th>\n",
       "      <td>Data_Science\\Newly DL relevant previously mark...</td>\n",
       "      <td>Data_Science\\Newly DL relevant previously mark...</td>\n",
       "      <td>Science</td>\n",
       "      <td>[SCIENTIFICPUBLISHING, Elsevier to Editor: Cha...</td>\n",
       "      <td>[section_header, section_header, text, text, t...</td>\n",
       "      <td>[0, 0, 0, 0, 0, 0, 0, 0, 0, 0, 0, 0, 0, 0, 0, ...</td>\n",
       "      <td>1.0</td>\n",
       "      <td>[retracted]</td>\n",
       "      <td>[text]</td>\n",
       "      <td>[Withdrawn.Two Medical Hypotheses papers—inclu...</td>\n",
       "      <td>[Charlton says he is “agnostic”, \"This Article...</td>\n",
       "      <td>[Withdrawn.Two Medical Hypotheses papers—inclu...</td>\n",
       "      <td>Charlton says he is “agnostic” \"This Article-i...</td>\n",
       "      <td>False</td>\n",
       "    </tr>\n",
       "    <tr>\n",
       "      <th>Science149</th>\n",
       "      <td>Data_Science\\Newly DL relevant previously mark...</td>\n",
       "      <td>Data_Science\\Newly DL relevant previously mark...</td>\n",
       "      <td>Science</td>\n",
       "      <td>[FEATURES, THE PREPRINT DILEMMA, Biologists ar...</td>\n",
       "      <td>[text, section_header, text, section_header, t...</td>\n",
       "      <td>[0, 0, 0, 0, 0, 1, 0, 0, 0, 0, 0, 0, 0, 0, 0, ...</td>\n",
       "      <td>1.0</td>\n",
       "      <td>[retracting]</td>\n",
       "      <td>[text, text]</td>\n",
       "      <td>[He didn't worry for long.In a few hours, the ...</td>\n",
       "      <td>[Slavov represents the promise of a movement t...</td>\n",
       "      <td>[He didn't worry for long.In a few hours, the ...</td>\n",
       "      <td>Slavov represents the promise of a movement th...</td>\n",
       "      <td>False</td>\n",
       "    </tr>\n",
       "    <tr>\n",
       "      <th>Science159</th>\n",
       "      <td>Data_Science\\Newly DL relevant previously mark...</td>\n",
       "      <td>Data_Science\\Newly DL relevant previously mark...</td>\n",
       "      <td>Science</td>\n",
       "      <td>[VACCINEMYTHS, False: Vaccination can cause au...</td>\n",
       "      <td>[section_header, section_header, text, text, t...</td>\n",
       "      <td>[0, 0, 1, 0, 0, 0, 0, 0, 0, 0, 0, 0, 0, 0, 1, ...</td>\n",
       "      <td>1.0</td>\n",
       "      <td>[retracted, retracted, retracted]</td>\n",
       "      <td>[text, text, text]</td>\n",
       "      <td>[In1998,U.K.doctorAndrew Wakefieldpublishedast...</td>\n",
       "      <td>[False: Mercury in vaccines acts as a neurotox...</td>\n",
       "      <td>[In1998,U.K.doctorAndrew Wakefieldpublishedast...</td>\n",
       "      <td>False: Mercury in vaccines acts as a neurotoxi...</td>\n",
       "      <td>False</td>\n",
       "    </tr>\n",
       "    <tr>\n",
       "      <th>...</th>\n",
       "      <td>...</td>\n",
       "      <td>...</td>\n",
       "      <td>...</td>\n",
       "      <td>...</td>\n",
       "      <td>...</td>\n",
       "      <td>...</td>\n",
       "      <td>...</td>\n",
       "      <td>...</td>\n",
       "      <td>...</td>\n",
       "      <td>...</td>\n",
       "      <td>...</td>\n",
       "      <td>...</td>\n",
       "      <td>...</td>\n",
       "      <td>...</td>\n",
       "    </tr>\n",
       "    <tr>\n",
       "      <th>Nature277</th>\n",
       "      <td>Data_Nature\\Not relevant\\Not relevant retracti...</td>\n",
       "      <td>Data_Nature\\Not relevant\\Not relevant retracti...</td>\n",
       "      <td>Nature</td>\n",
       "      <td>[RETRACTION, In view of the fact that the auth...</td>\n",
       "      <td>[section_header, text, text, text, text, text,...</td>\n",
       "      <td>[1, 2, 0, 0, 0, 0, 0, 0, 0, 0, 0, 0, 0, 1, 0, ...</td>\n",
       "      <td>1.0</td>\n",
       "      <td>[RETRACTION, retracting, retract, RETRACTED]</td>\n",
       "      <td>[section_header, text, section_header]</td>\n",
       "      <td>[RETRACTION, In view of the fact that the auth...</td>\n",
       "      <td>[RETRACTED, In view of the fact that the autho...</td>\n",
       "      <td>[RETRACTION, In view of the fact that the auth...</td>\n",
       "      <td>RETRACTED In view of the fact that the authors...</td>\n",
       "      <td>False</td>\n",
       "    </tr>\n",
       "    <tr>\n",
       "      <th>Nature366</th>\n",
       "      <td>Data_Nature\\Not relevant\\Not relevant retracti...</td>\n",
       "      <td>Data_Nature\\Not relevant\\Not relevant retracti...</td>\n",
       "      <td>Nature</td>\n",
       "      <td>[Retraction, Quantum problems solved through g...</td>\n",
       "      <td>[section_header, section_header, text, text, t...</td>\n",
       "      <td>[1, 0, 0, 0, 2, 0, 0, 0, 0, 0, 0, 0, 0, 0, 0, ...</td>\n",
       "      <td>1.0</td>\n",
       "      <td>[Retraction, retracting, retracted]</td>\n",
       "      <td>[section_header, text]</td>\n",
       "      <td>[Retraction, In view of the fact that the auth...</td>\n",
       "      <td>[Nature 532,184-185 (2016), Retraction, Sabrin...</td>\n",
       "      <td>[Retraction, Quantum problems solved through g...</td>\n",
       "      <td>Nature 532,184-185 (2016) Retraction Sabrina M...</td>\n",
       "      <td>False</td>\n",
       "    </tr>\n",
       "    <tr>\n",
       "      <th>Nature439</th>\n",
       "      <td>Data_Nature\\Not relevant\\Not relevant retracti...</td>\n",
       "      <td>Data_Nature\\Not relevant\\Not relevant retracti...</td>\n",
       "      <td>Nature</td>\n",
       "      <td>[RESEARCH, NEWS&amp;VIEWS, RETRACTION, RETRACTEDAR...</td>\n",
       "      <td>[text, text, text, section_header, section_hea...</td>\n",
       "      <td>[0, 0, 1, 1, 0, 0, 0, 2, 0, 0, 0, 0, 0, 0, 0, ...</td>\n",
       "      <td>1.0</td>\n",
       "      <td>[RETRACTION, RETRACTED, retracted, retract]</td>\n",
       "      <td>[text, section_header, text]</td>\n",
       "      <td>[RETRACTION, RETRACTEDARTICLE:, In view of the...</td>\n",
       "      <td>[TIMOTHYLINKSVAYER, Nature 514,308-309 (2014),...</td>\n",
       "      <td>[RETRACTION, RETRACTEDARTICLE:, RETRACTEDARTIC...</td>\n",
       "      <td>TIMOTHYLINKSVAYER Nature 514,308-309 (2014) EV...</td>\n",
       "      <td>False</td>\n",
       "    </tr>\n",
       "    <tr>\n",
       "      <th>Nature605</th>\n",
       "      <td>Data_Nature\\Not relevant\\Not relevant retracti...</td>\n",
       "      <td>Data_Nature\\Not relevant\\Not relevant retracti...</td>\n",
       "      <td>Nature</td>\n",
       "      <td>[correspondence, concern was exclusively over ...</td>\n",
       "      <td>[section_header, text, text, text, section_hea...</td>\n",
       "      <td>[0, 0, 0, 0, 0, 0, 0, 0, 0, 0, 0, 0, 0, 0, 0, ...</td>\n",
       "      <td>1.0</td>\n",
       "      <td>[retracted]</td>\n",
       "      <td>[text]</td>\n",
       "      <td>[It is highly unusual for Nature to publish a ...</td>\n",
       "      <td>[We thank K. Shashok for translating this Corr...</td>\n",
       "      <td>[It is highly unusual for Nature to publish a ...</td>\n",
       "      <td>We thank K. Shashok for translating this Corre...</td>\n",
       "      <td>False</td>\n",
       "    </tr>\n",
       "    <tr>\n",
       "      <th>Nature66</th>\n",
       "      <td>Data_Nature\\Not relevant\\Not relevant retracti...</td>\n",
       "      <td>Data_Nature\\Not relevant\\Not relevant retracti...</td>\n",
       "      <td>Nature</td>\n",
       "      <td>[News &amp; views, this case, the future sperm cel...</td>\n",
       "      <td>[section_header, text, text, text, text, text,...</td>\n",
       "      <td>[0, 0, 0, 0, 0, 0, 0, 0, 0, 0, 0, 0, 0, 0, 0, ...</td>\n",
       "      <td>1.0</td>\n",
       "      <td>[retracted]</td>\n",
       "      <td>[text]</td>\n",
       "      <td>[The authors wish to alert readers to the fact...</td>\n",
       "      <td>[News &amp; views, Update, The authors wish to ale...</td>\n",
       "      <td>[The authors wish to alert readers to the fact...</td>\n",
       "      <td>News &amp; views Update The authors wish to alert ...</td>\n",
       "      <td>False</td>\n",
       "    </tr>\n",
       "  </tbody>\n",
       "</table>\n",
       "<p>2434 rows × 14 columns</p>\n",
       "</div>"
      ],
      "text/plain": [
       "                                                         path  \\\n",
       "Science113  Data_Science\\Newly DL relevant previously mark...   \n",
       "Science116  Data_Science\\Newly DL relevant previously mark...   \n",
       "Science119  Data_Science\\Newly DL relevant previously mark...   \n",
       "Science149  Data_Science\\Newly DL relevant previously mark...   \n",
       "Science159  Data_Science\\Newly DL relevant previously mark...   \n",
       "...                                                       ...   \n",
       "Nature277   Data_Nature\\Not relevant\\Not relevant retracti...   \n",
       "Nature366   Data_Nature\\Not relevant\\Not relevant retracti...   \n",
       "Nature439   Data_Nature\\Not relevant\\Not relevant retracti...   \n",
       "Nature605   Data_Nature\\Not relevant\\Not relevant retracti...   \n",
       "Nature66    Data_Nature\\Not relevant\\Not relevant retracti...   \n",
       "\n",
       "                                                       folder  journal  \\\n",
       "Science113  Data_Science\\Newly DL relevant previously mark...  Science   \n",
       "Science116  Data_Science\\Newly DL relevant previously mark...  Science   \n",
       "Science119  Data_Science\\Newly DL relevant previously mark...  Science   \n",
       "Science149  Data_Science\\Newly DL relevant previously mark...  Science   \n",
       "Science159  Data_Science\\Newly DL relevant previously mark...  Science   \n",
       "...                                                       ...      ...   \n",
       "Nature277   Data_Nature\\Not relevant\\Not relevant retracti...   Nature   \n",
       "Nature366   Data_Nature\\Not relevant\\Not relevant retracti...   Nature   \n",
       "Nature439   Data_Nature\\Not relevant\\Not relevant retracti...   Nature   \n",
       "Nature605   Data_Nature\\Not relevant\\Not relevant retracti...   Nature   \n",
       "Nature66    Data_Nature\\Not relevant\\Not relevant retracti...   Nature   \n",
       "\n",
       "                                                        texts  \\\n",
       "Science113  [The Germans Trias i Pujol University Hospital...   \n",
       "Science116  [CAFFE', AURORA, CAFFE', IN DEPTH, Italy'sCovi...   \n",
       "Science119  [SCIENTIFICPUBLISHING, Elsevier to Editor: Cha...   \n",
       "Science149  [FEATURES, THE PREPRINT DILEMMA, Biologists ar...   \n",
       "Science159  [VACCINEMYTHS, False: Vaccination can cause au...   \n",
       "...                                                       ...   \n",
       "Nature277   [RETRACTION, In view of the fact that the auth...   \n",
       "Nature366   [Retraction, Quantum problems solved through g...   \n",
       "Nature439   [RESEARCH, NEWS&VIEWS, RETRACTION, RETRACTEDAR...   \n",
       "Nature605   [correspondence, concern was exclusively over ...   \n",
       "Nature66    [News & views, this case, the future sperm cel...   \n",
       "\n",
       "                                                       labels  \\\n",
       "Science113  [caption, text, text, section_header, text, se...   \n",
       "Science116  [text, text, text, text, text, section_header,...   \n",
       "Science119  [section_header, section_header, text, text, t...   \n",
       "Science149  [text, section_header, text, section_header, t...   \n",
       "Science159  [section_header, section_header, text, text, t...   \n",
       "...                                                       ...   \n",
       "Nature277   [section_header, text, text, text, text, text,...   \n",
       "Nature366   [section_header, section_header, text, text, t...   \n",
       "Nature439   [text, text, text, section_header, section_hea...   \n",
       "Nature605   [section_header, text, text, text, section_hea...   \n",
       "Nature66    [section_header, text, text, text, text, text,...   \n",
       "\n",
       "                                            retraction_counts  has_retraction  \\\n",
       "Science113  [0, 0, 0, 0, 0, 0, 0, 0, 1, 0, 0, 0, 0, 0, 0, ...             1.0   \n",
       "Science116  [0, 0, 0, 0, 0, 0, 0, 0, 0, 0, 0, 0, 0, 0, 0, ...             1.0   \n",
       "Science119  [0, 0, 0, 0, 0, 0, 0, 0, 0, 0, 0, 0, 0, 0, 0, ...             1.0   \n",
       "Science149  [0, 0, 0, 0, 0, 1, 0, 0, 0, 0, 0, 0, 0, 0, 0, ...             1.0   \n",
       "Science159  [0, 0, 1, 0, 0, 0, 0, 0, 0, 0, 0, 0, 0, 0, 1, ...             1.0   \n",
       "...                                                       ...             ...   \n",
       "Nature277   [1, 2, 0, 0, 0, 0, 0, 0, 0, 0, 0, 0, 0, 1, 0, ...             1.0   \n",
       "Nature366   [1, 0, 0, 0, 2, 0, 0, 0, 0, 0, 0, 0, 0, 0, 0, ...             1.0   \n",
       "Nature439   [0, 0, 1, 1, 0, 0, 0, 2, 0, 0, 0, 0, 0, 0, 0, ...             1.0   \n",
       "Nature605   [0, 0, 0, 0, 0, 0, 0, 0, 0, 0, 0, 0, 0, 0, 0, ...             1.0   \n",
       "Nature66    [0, 0, 0, 0, 0, 0, 0, 0, 0, 0, 0, 0, 0, 0, 0, ...             1.0   \n",
       "\n",
       "                                               retract_tokens  \\\n",
       "Science113  [retracted, retraction, retraction, retraction...   \n",
       "Science116                                        [retracted]   \n",
       "Science119                                        [retracted]   \n",
       "Science149                                       [retracting]   \n",
       "Science159                  [retracted, retracted, retracted]   \n",
       "...                                                       ...   \n",
       "Nature277        [RETRACTION, retracting, retract, RETRACTED]   \n",
       "Nature366                 [Retraction, retracting, retracted]   \n",
       "Nature439         [RETRACTION, RETRACTED, retracted, retract]   \n",
       "Nature605                                         [retracted]   \n",
       "Nature66                                          [retracted]   \n",
       "\n",
       "                                         has_retraction_label  \\\n",
       "Science113  [text, text, text, section_header, text, text,...   \n",
       "Science116                                             [text]   \n",
       "Science119                                             [text]   \n",
       "Science149                                       [text, text]   \n",
       "Science159                                 [text, text, text]   \n",
       "...                                                       ...   \n",
       "Nature277              [section_header, text, section_header]   \n",
       "Nature366                              [section_header, text]   \n",
       "Nature439                        [text, section_header, text]   \n",
       "Nature605                                              [text]   \n",
       "Nature66                                               [text]   \n",
       "\n",
       "                                               filtered_texts  \\\n",
       "Science113  [Praised by presidents as a potential miracle ...   \n",
       "Science116  [\"Whatthey'vedoneisbasicallyseenthese twobranc...   \n",
       "Science119  [Withdrawn.Two Medical Hypotheses papers—inclu...   \n",
       "Science149  [He didn't worry for long.In a few hours, the ...   \n",
       "Science159  [In1998,U.K.doctorAndrew Wakefieldpublishedast...   \n",
       "...                                                       ...   \n",
       "Nature277   [RETRACTION, In view of the fact that the auth...   \n",
       "Nature366   [Retraction, In view of the fact that the auth...   \n",
       "Nature439   [RETRACTION, RETRACTEDARTICLE:, In view of the...   \n",
       "Nature605   [It is highly unusual for Nature to publish a ...   \n",
       "Nature66    [The authors wish to alert readers to the fact...   \n",
       "\n",
       "                                            neighboring_texts  \\\n",
       "Science113  [virus,for instance on the job at ahospitala s...   \n",
       "Science116  [\"Whatthey'vedoneisbasicallyseenthese twobranc...   \n",
       "Science119  [Charlton says he is “agnostic”, \"This Article...   \n",
       "Science149  [Slavov represents the promise of a movement t...   \n",
       "Science159  [False: Mercury in vaccines acts as a neurotox...   \n",
       "...                                                       ...   \n",
       "Nature277   [RETRACTED, In view of the fact that the autho...   \n",
       "Nature366   [Nature 532,184-185 (2016), Retraction, Sabrin...   \n",
       "Nature439   [TIMOTHYLINKSVAYER, Nature 514,308-309 (2014),...   \n",
       "Nature605   [We thank K. Shashok for translating this Corr...   \n",
       "Nature66    [News & views, Update, The authors wish to ale...   \n",
       "\n",
       "                                   texts_until_section_header  \\\n",
       "Science113  [Praised by presidents as a potential miracle ...   \n",
       "Science116  [\"Whatthey'vedoneisbasicallyseenthese twobranc...   \n",
       "Science119  [Withdrawn.Two Medical Hypotheses papers—inclu...   \n",
       "Science149  [He didn't worry for long.In a few hours, the ...   \n",
       "Science159  [In1998,U.K.doctorAndrew Wakefieldpublishedast...   \n",
       "...                                                       ...   \n",
       "Nature277   [RETRACTION, In view of the fact that the auth...   \n",
       "Nature366   [Retraction, Quantum problems solved through g...   \n",
       "Nature439   [RETRACTION, RETRACTEDARTICLE:, RETRACTEDARTIC...   \n",
       "Nature605   [It is highly unusual for Nature to publish a ...   \n",
       "Nature66    [The authors wish to alert readers to the fact...   \n",
       "\n",
       "                                                         text  relevant  \n",
       "Science113  virus,for instance on the job at ahospitala st...     False  \n",
       "Science116  \"Whatthey'vedoneisbasicallyseenthese twobranch...     False  \n",
       "Science119  Charlton says he is “agnostic” \"This Article-i...     False  \n",
       "Science149  Slavov represents the promise of a movement th...     False  \n",
       "Science159  False: Mercury in vaccines acts as a neurotoxi...     False  \n",
       "...                                                       ...       ...  \n",
       "Nature277   RETRACTED In view of the fact that the authors...     False  \n",
       "Nature366   Nature 532,184-185 (2016) Retraction Sabrina M...     False  \n",
       "Nature439   TIMOTHYLINKSVAYER Nature 514,308-309 (2014) EV...     False  \n",
       "Nature605   We thank K. Shashok for translating this Corre...     False  \n",
       "Nature66    News & views Update The authors wish to alert ...     False  \n",
       "\n",
       "[2434 rows x 14 columns]"
      ]
     },
     "execution_count": 15,
     "metadata": {},
     "output_type": "execute_result"
    }
   ],
   "source": [
    "df[\"relevant\"]=df[\"folder\"].apply(lambda x: \"relevant_final\" in x)\n",
    "df"
   ]
  },
  {
   "cell_type": "code",
   "execution_count": 17,
   "id": "6a685023-7b2e-4a31-9249-c245bfeaa8fc",
   "metadata": {},
   "outputs": [
    {
     "name": "stderr",
     "output_type": "stream",
     "text": [
      "100%|████████████████████████████████████████████████████████████████████████████████| 440/440 [06:34<00:00,  1.11it/s]\n"
     ]
    }
   ],
   "source": [
    "def OpenAI_request(row):\n",
    "    \n",
    "    try:\n",
    "        if \"name\" in row:\n",
    "            name=row[\"name\"]\n",
    "        else:\n",
    "            name = row.name  # Access the index (name)\n",
    "        text = row['text']  # Access the text column\n",
    "        question_text=f\"The following text with the ID '{name}' must be classified: \\n{text}\"\n",
    "\n",
    "\n",
    "        \n",
    "        completion = client.chat.completions.create(\n",
    "        model=\"gpt-4o-mini\",\n",
    "        messages=[{\"role\": \"system\", \"content\": general_introduction_retract+science_def+other_def},\n",
    "            {\"role\": \"user\",\"content\": question_text}])\n",
    "        \n",
    "        result=completion.choices[0].message.content.split(\" <SEP> \")\n",
    "\n",
    "\n",
    "    \n",
    "    except:\n",
    "        print(f\"error with row:\\n {row}.\")\n",
    "        result=[row.name,None,None]\n",
    "    return result\n",
    "\n",
    "result=redo.progress_apply(OpenAI_request, axis=1)\n",
    "\n",
    "    "
   ]
  },
  {
   "cell_type": "code",
   "execution_count": 20,
   "id": "2fe75e99-5317-46e0-b165-eafc739ea89f",
   "metadata": {},
   "outputs": [],
   "source": [
    "result_pretty=result.apply(lambda x: x[0].replace.split(\"<SEP>\") if \"<SEP>\" in x[0] else x)\n",
    "result_pretty=result_pretty.apply(lambda x: [i.lstrip(\"category, explanation \\n\").strip('\"').strip(\"'\").strip(\": ```csv\\n'\") for i in x])\n",
    "result_pretty=result_pretty.apply(lambda x: [i for i in x if (i!=\"ID\") and (i!=\"category\") and (i!=\"\")])\n"
   ]
  },
  {
   "cell_type": "code",
   "execution_count": 100,
   "id": "d15ca481-65bf-441f-94ba-fa2643a01ead",
   "metadata": {},
   "outputs": [],
   "source": [
    "results_df2=pd.DataFrame(result_pretty.to_list(), columns=['name', 'retraction_context', 'retraction_explanation'])\n",
    "results_df2[\"retraction_context\"]=results_df2.retraction_context.str.replace('CATEGORY: ARTICLE',\"ARTICLE\")"
   ]
  },
  {
   "cell_type": "code",
   "execution_count": 101,
   "id": "08b98d69-cd2e-4843-97ef-55a96e42ae16",
   "metadata": {},
   "outputs": [
    {
     "data": {
      "text/plain": [
       "array(['ARTICLE', 'OTHER'], dtype=object)"
      ]
     },
     "execution_count": 101,
     "metadata": {},
     "output_type": "execute_result"
    }
   ],
   "source": [
    "results_df2[\"retraction_context\"].unique()"
   ]
  },
  {
   "cell_type": "code",
   "execution_count": 183,
   "id": "9940667c-65d8-4629-bc2d-a178f9f27fda",
   "metadata": {
    "collapsed": true,
    "jupyter": {
     "outputs_hidden": true
    }
   },
   "outputs": [
    {
     "name": "stdout",
     "output_type": "stream",
     "text": [
      "During the last autumn my son, C. C. Trowbridge, who is now a pupil in the Hopkins Grammar School at New Haven,Conn., and who has for several years devoted much of his leisure time to the shot while it was soaring,and called my attention to the fact that the four outer primaries in each wing were interlocked； that part -of each primary along which the lower margin was cut away lapping over or behind the succeeding primary,which was cut along its anterior or upper margin to permit of this interlocking and crossing of these feathers. This was the condition of the wings when he picked up the bird. The general appearances of the wings were so little altered from their ordinary aspects that the interlocking would ordinarily escape notice. My son suggested that this interlocking has the effect of relieving the muscular action required for the extension of the primaries during long flights, especially in soaring birds,and, further, that it might aid the bird in steering its way while soaring. I supposed that all lovers of true science would welcome so interesting a discovery,even though it was made by a boy. Such, indeed, was the reception of the paper by all the naturalists present； Professor Marsh, Professor Newberry,and Professor Cope commending the paper,and Dr.Gill,who was not present,but to whom I had exhibited drawings of a wing,and explained the matter,giving encouraging assent to the novelty and importance of the discovery. I mention the names of these gentlemen,because I do not think they will ever have reason or cause to regret their favorable comments, nor to retract their opinions. This discovery seemed to me of much interest； and after having assured myself by inquiries, and the examination of works on ornithology, that it had not been made by others, I concluded to bring the subject to the notice of the New York Academy of Sciences,and :shortly afterwards read a paper in relation to the same before.the National Academy of Sciences. I have in my possession the wings of two large hawks (Buteo lineatus and Buteo borealis) in which the effects of the habitual interlocking of the four outer primaries has been to wear deep notches, and to produce permanent wrinkles, in the feathers at the point of crossing or overlapping. These I have shown to many scientific men without hearing a doubt expressed of the object or uses of the emarginate cuttings. These long primaries present a serious resistance,with a long leverage,when a bird is soaring, which would overtax the extensor muscles in long-continued soaring flights,if not relieved by the process of interlocking. That this interlocking does not impede flight,but in a wonderful and peculiar way aids the evolutions of the bird,is evident from the fact that by this interlocking a curvature is given to the anterior edge of the wing,which produces a warped surface, thus enabling the bird to have easy control of the wing with the least possible exertion. A perfectly flat, thin disk,in moving through air, is liable to be violently inverted, or turned broadside to the motion,by the slightest change of angle with the plane of motion. Every one has noticed this when a playing-card is seen to fall through the air. The edgewiseposition is one of extremely unstable equilibrium. This would be the condition of the outer part of the wing in soaring,were it During many years'study of animal mechanics I have found no facts which exhibit more wonderfully and beautifully than those I have described, the mechanical adjustment of the organs of motion to -the medium in which motion takes place,and to the conditions for which provision is made. \n",
      "\n",
      "\n",
      "BICEPresearchers estimated that\"galactic foreground\"was negligible.They modeled it several ways,as they report in the paper announcing their claim,which has been submitted to a journal that Kovac declined to name. The most sophisticated model relied on a map of the foreground generated by the European Space Agency's from within the galaxy look less polarized thantheyare.Sousingthemapcould have led the researchers to underestimate the galactic foreground and overestimate the CMB signal. \"We're certainly not retract ing our result\" says John Kovac, a cosmologist at the Harvard-Smithsonian Center for Astrophysics in Cambridge, Massachusetts, and co-leader of the team,which used a specialized telescope at the South Pole known asBICEP2.OtherssaytheBICEP team has already lost its case.\"At this time, I think the fair thing to say is that you cannot claim detection—period\" says Paul Steinhardt, a theoretical physicist at Princeton University. erhaps it was too good to be true. Two months ago, a team of cosmologists reported that it had spotted the first direct evidence that the newborn universe underwent a mindboggling exponential growth spurt known as inflation (Science, 2l March, p.1296). But last week a new analysis suggested the signal,a subtle pattern in the afterglow of the big bang, or cosmic microwavebackground (CMB),couldbe an artifactproduced by dust within our own galaxy. To test that idea,Flauger used other Planck data-also scraped from a talk-to correct the map BICEP used (see figure). The foreground appears stronger in the corrected map and could account for the entire BICEP signal, he reported. \n",
      "\n",
      "\n",
      "Ting's assessment didn't jibe with the views of many others, especiallyDella Negra of CMS,who said his collaborators aren't rushing to join Ting's project.Many say they find Ting a difficult leader.\"People in my collaborationareextremely afraid to work with Ting,\"Della Negra says.He adds that he plans to keep his collaboration together for the time being,though he says Rubbia and Hoogland may try to \"force a marriage between his group and Ting's. In this case it might take a shotgun. Another challenge facing the L3 team may be to overcome the skepticism of Rubbia himself.\"Weneedtwonewdetectors,\"said emphasis on new.He added that he doesn't wantthe currentL3dismantledbecausethe lab needs it for the ongoing LEP experiment. Rubbia also argues for two detectors run by rival groups,because he says that would fire up the spirit of competition thatis \"essential to science.\"To keep the prices down, he is pushing an evolutionary approach.He would liketo start with thebarebones of a system that could pick upthe glamorous new discoveries, such as the Higgs boson, then add refinements as needed in stages to do more detailed studies.Rubbia isknown tobe a competitive leader himself, and this is his strategy for beating the SSC to glory. take the money-saving approach of building just one detector.Most, however, are pushing for two, to assure credibility.The results of particle experiments come in a chaotic mess of debris tracks thatcan be easily misinterpreted.\"We need two in order to confirm findings,\" says meeting director Gunther Flugge.\"We don't want to make any discoveries that aren't there.\"CERN scientists haven't forgotten the time they found the (still undiscovered) top quark a few years back and then retracted the claim. Downloaded from https: v.science.org bibCNR ISB 0 20 \n",
      "\n",
      "\n",
      "The episode began with Weber's reports in 1968 and 1969 that he had detected some mysterious signals on two huge aluminum bars designed to sense gravitational radiation. Soon these pulses were being recorded many times a day. And their arrival times, Weber claimed, suggested they were coming from the center of the Milky Way. seemed *very peculiar to me.. . .He didn't have statistics to bear out some of his statements, and the more I looked at the experiment the less I believed the results.\"' He visited Weber but decided to do an experiment of his own, rather than suggest ways of improving the data. Garwin's performance in this crusade was controversial and typical of his modus operandi. He jumped into a field in which he had done no previous work, took on the field's leading scientist-Joseph Weber of the University of Maryland—in a matter of months built a device that he said was more sensitive than Maryland's, and soon claimed to have demolished Weber's findings. Some observers were shocked.One physicist says,*Most of us would like to forget about it.'' Weber has not retracted his reports. Although the existence of gravity waves is inferred from Einstein's theory of relativity, no one has eyer found them. Doing so would be a major accomplishment, probably earning the experimenter a Nobel Prize. One of Richard Garwin's better known crusades was aimed at disproving a physicist's claim that he had found the elusive waves. This was heady stuff, and theorists were skeptical. Calculations soon revealed, for example, that the frequency and intensity of Weber's signals, if they were gravity waves，would have been accompanied by a very rapid destruction of matter. The galaxy seemed destined for a brief life. Theorists looked for ways to keep the galaxy together while accepting Weber's signals at face value.But soon experimental physicists began to challenge Weber. The first was J. Anthony Tyson of the Bell Laboratories. He struck a glancing blow at Weber's findings at a confersmoldering polemical exchange. It was after that, says Tyson, that \"Garwin decided to step in and take charge of the whole matter.'' According to Tyson,Garwin quickly built an antenna about 10 times more sensitive than Weber's, while Tyson was taking time to build one 10o times more sensitive. \n",
      "\n",
      "\n",
      "IN HIS IN Depth News story \"In Iran, a shady market for papers flourishes\"(16 September,p.1l97),R.Stone reports that an estimated 1o% of all graduate theses arebought from dealersand then presented by students as their own work. A proposed law will make ghost authorship a crime for both the buyer and the seller.However, the legislation alone will not solvetheproblem ofplagiarizedwork in Iran. Creating a culture of ethics in Iran The number of Iranian universities, students, and scientific papers has grown quicklyinrecentyears (1),withIran achieving a global rank of 22 for the number of papers produced.However, Iran's rank for citations per paper is only 161 (2), and the country ranks second worldwide for the number of retracted papers (2). These data indicate that despite prolific publications, the quality of papers is lacking. NEXTGENVOICES:SUBMITNOW One explanation for this discrepancy \n",
      "\n",
      "\n",
      "Every student learns that the sensory cortex is used for processing sensation and the motor cortex is used for perceiving movement.However, in the real world, this may not always be so neatly arranged.Matyas et al.(p.124o)have found that sensory and motor fields are specialized for different types of movement, such that in mice the motor cortex controlled the forward movement (protraction) of their whiskers and the sensory cortex controlled backwards movements (retraction)of whiskers. So if a whisker hits an object, then a reasonable first reaction might be a motor command for retraction.Similarly, the motor cortex stimulates protraction for more active exploration.Hence, the sensory cortex is also motor and the motor cortex is also sensory. In an ecological context, these combined reactions offer a repertoire useful for a mouse seeking food and shelter in a complex environment. By a Whisker Promoting Apoptosis Zeolites are microporous crystalline solids with welldefined structures. Although many naturally occurring ones have been obtained in laboratory synthesis,some have remained elusive. One of these, boggsite,is of interest for catalytic reactions because it has large channels defined by rings of 10 or12 atoms that intersect within its crystalline lattice.Simancas et al. (p.1219) report the synthesis of boggsite by using phosphazenes as the organic groups that directed the formation of rings during synthesis.These reagents can be readily modified—a feature that should allow greater flexibility in synthesis routes. During acute disease, the promyelocytic leukemia (PML) protein becomes fused to another protein as a result of a chromosomal translocation.This protein appears to have multiple and varied functions, including the ability to form distinctive complexes in the nucleus that suppress tumorigenesis and promote apoptotic cell death.Giorgi et al.(p.1247, published online 28 October; see the Perspective by Culjkovic-Kraljacic and Borden)have proposed a mechanism by which PML influences the cellular signals that promote apoptosis.The protein was localized at sites of contact between the endoplasmic reticulum and mitochondria,where it associated with a calcium channel, a protein kinase, and a protein phosphatase, to regulate calcium mobilization into the mitochondrion, which then triggers the cell death program. \n",
      "\n",
      "\n",
      "Research Triangle Institute, Durham, North Carolina 4）Many of the abuses to which you refer are probably found in small privately owned companies which exist on government contracts. 3）There are research institutes, such as the one of which I am a member, that definitely were not founded for unworthy motives, that have good research facilities and are attracting and holding good scientists, but are still young and small. We rely heavily on government contracts.Most of our contracts are renewed， primarily because our work performance has been good. I believe your editorial was written in an effort to point out some bad situations which undoubtedly do exist, but feel your attack will unfortunately damage legitimate and \"necessary institutes\" along with the targets of your editorial. I hope that my letter may persuade you to take another look at this subject and possibly you may see fit to write not a retraction, but an extension or redefinition of your first editorial. MONROE E.WALL \n",
      "\n",
      "\n",
      "May I repeat that Professor Schuchert's letter is a clear libel, and that both he and you are due for some legal demands whenever I return to America from the rather extended trip around the world on which I have entered. An apology and retraction now would do no good; I am through with this sort of foolery. I will see what the law can do for me. Apparently there is only one kind of argument that such men as you and Schuchert can understand; and I intend that you shall have it. ON returning from Switzerland to my headquarters in England, I find your brief letter of January 6. You say that you do not \"have clearly in mind the circumstances\" to which I have referred in my previous letter. I suppose that if you had thought the matter of sufficient importance you could have consulted your letter files of last year and the year before and those of some two years before that. GEORGE MCCREADY PRICE After the shameful way in which you have treated me, it is certainly very appropriate for you to say inadvisable further consideration of the subject.\" SCIENTIFIC BOOKS \n",
      "\n",
      "\n",
      "The writer well remembers when he began the study of German, how many things he found in it that he could have improved. The same was true of French. It is not strange, therefore, that beginners should have a strong desire to \"improve\" Esperanto. But after two and a half years study of Esperanto, the writer has come very fully to the conviction that the very points in which he desired to see the language changed are the best features of it. After having acquired the ability to read Esperanto practically as freely as English, and the ability to speak it with a fair degree of freedom, the writer is of opinion that,without any changes whatever,Esperanto will make a satisfactory international language. Professor Jespersen refutes his own statement that Esperanto can not be printed in any printing office, by showing in the latter part of his article that this can be done. Since more consonant sounds are needed than there are letters, Dr. Zamenhof chose two ways of representing certain sounds, one with supersigned letters, the other with combinations of letters. Either may be used. Telegrams are sent daily in Esperanto, Professor Jespersen's statement to the contrary notwithstanding. His statement (in Esperanto) that this language lacks many roots is trivial. If he knows Esperanto he knows that in the laws governing the development of the language any root whatever can be added by any Esperantist whenever needed, the only requirement being that the root shall be adequately defined. If, then, the new root is taken up by writers of repute, it is in due time given formal approval by a committee having full authority.Eight hundred and This procedure caused me not only to relinquish the honorary presidency, but also to resign from the committee, for in such proceedings there is lacking,in my opinion, any degree of social wis- Professor Forster was not the only member of the committee who resigned from it in disgust at the action of the subcommittee.In the Germana Esperantisto,No.8,1909,Professor Dr. Ad. Schmidt, one of those members who left the committee, speaks very pointedly of the misrepresentations in an article published byDr.Pfaundler,one of the men whose names were mentioned by Professor Jespersen. Couterat, also mentioned by Jespersen, is editor of the official organ of the \"Idists.\"In a recent number of this journal he prints statements concerning the position gained by Esperanto at the Psychological Congress last summer that,to say the least, are misleading, though in a subsequent number he publishes a very lame retraction. dom,and I find them suitable only for creating confusion, and of putting in danger the progress attained after decades of hard work. Since the disruption of the International Language Committee, occasioned by the belief on the part of conservative members that the subcommittee were putting in jeopardy the whole question of an international language, a faction of that committee have continued the propaganda for Ido, a language invented, according to Dr. Schmidt, by the Marquis de Beaufront,one of the most ardent of Esperantists, and a most powerful opponent of changes in Esperanto. Beaufront himself had abandoned his own language because he considered Esperanto superior to it, and,on account of his staunch advocacy of the latter, had been commissioned as the personal representative of Dr. Zamenhof before the language committee. In addition to the faction referred to there are scattered here and there in Europe and America a few opponents of Esperanto who call themselves Idists, Ildists, etc. These gentlemen are not at all agreed as to the structure of their language. Their official organ is devoted, not so much to the propagation of a particular form of international language, as to a learned (?) discussion of what the characteristics of an international language should be, and to an attempt to discredit Esperanto. It is not uncommon for the contributors to this magazine to give, in connection with their articles, a synopsis of the grammatical forms with which at the time they are experimenting. Even the Idists are now beginning to perceive the folly of their course, and are beginning to clamor for a \" period of stability,\" the one thing they have fought most strenuously in Esperanto, and the absolutely essential element of success. Esperantists realize that to open the gate to \"improvements \" can only end in a wrangle that means certain death to the movement for an international language, which at present has such brilliant prospects. \n",
      "\n",
      "\n",
      "Welcome climate bloggers its dangers.For example,many issues in climate science, such as the course of temperatures over previous millennia, are hotly debated by researchers.Some would argue that a rapid-rebuttal service,run with minimal peer review,can never hope to combat industry propaganda and properly represent this diversity of views. A group of just nine climate scientists is trying to change the media coverage of their discipline. Thanks to an ongoing revolution in electronic news, they might just succeed. Blogs have been around since the late 1990s, but the political potential of this new media format only became truly clear during this year's US presidential race.Bloggers led some of the freshest debates,helped raise money for political parties and, most importantly from a research point of view, corrected mistakes made by other media outlets.At the same time, one more traditional website dedicated to this final purpose — www.factcheck.org — became compulsory reading for journalists who wanted to check the accuracy of claims made by the Bush and Kerry campaigns. or those excited about the journalistic potential of the Internet, this September was a seminal month.Much to its embarrassment, the US television network CBS was forced to retract a story about President George W.Bush's service in the armed forces. Crucially,thedocuments onwhich CBSbased the storywere first shown to be a fake not by a hot-shot Washington reporter, but by the authors of a series of blogs — online news diaries penned by unpaid commentators. \n",
      "\n",
      "\n",
      "his memo and is confident that the issues he raised can be addressedbefore the collection move begins in April.He adds that he now understands the design better and that he retracts his comment thatit favours form over function.Acknowledging that access to collections maybeless easyinDCIl,he sayshehas come round to the idea that the planned design is justified.\"We need the best storage. That's at odds with the scientists'need for access,\"he says.\"Butyou can't optimizeboth.\" The dispute,in which many museum staff have complained publicly and privately about the relocation plan, is a setback for the museum's extensive expansion programme. The first phase of the plan — a 30-million home for the zoology collection known as the Darwin Centre — opened in 2002,and attracted widespread praise for the way it opened up the museum's stores and research labs to public view. Senior staff say thatDarwin CentreII (DCIl)will do the samefor the entomology collection, as well as providing a better environment forlong-term storage. Despite these advantages,some entomology researchers and curators describe the move as a \"retrograde step\" for research. They claim that there is not enough space set aside forseveralparts of the collection tobe examined simultaneously in taxonomy projects,for example.Wheeler's memo also suggests that DCII cannotbe adapted to provide space for new\"cyber-infrastructure\", such as facilities for specimens to be put under a microscopeforviewingvia theInternet. In addition, the museum has been unable to confirm that all of the collection will stay in South Kensington. Researchers fear that some specimens will be stuck at a warehouse in Wandsworth,south London,which will be the collection's home while the current storeroom is demolished to make way for DCII. Some entomologists at the museum also allege that the museum is trying to suppress debate and stop them talking to the press.\"The museum wants to say everything is rosy\" says one member of the scientific staff,who declined to be identified.\"It isn't.\" Under wraps \n",
      "\n",
      "\n",
      "Wald was also concerned with the disappearance of human beings.He said,in 1975, that hefound it difficult \"to seehow the human race will get itself much past the year 2000\" Departmentof IntegrativeBiology, University of California,Berkeley, Berkeley,California 94720-3140,USA Sir—John Dowling pays a well-deserved tribute to George Wald's great contributions to the chemistry of vision. ThomasH.Jukes Warming to his subject, he could find no reasontobelievethathischildrenand his students would \"be in physical existence ten, twenty, twenty-five years from now\". In short, \"... life on Earth may end as early as 1985\"23.I am not aware that he retracted this statement. \n",
      "\n",
      "\n",
      "IMAGE UNAVAILABLE FORCOPYRIGHT REASONS HarryGriffins,assistant director of the Roslin Institute, saysthe inclusion of humans inthe patentswas inadvertent.\"Our intentionat thattimewas tocover everythingfromfarmanimals tolabanimals,\"hesays.t wasn't the intentionto include humans.\" Healso retracts earlier statements in which he assertedthatthescopeof thepatentswouldallowthe RoslinInstitute to preventthe technologyfallingintothe wrong hands.He claimsthat thesewereoff-the-cuff remarks.Hisstatementhad beenpounced on byRAFI, who saidit wouldbewrong toentrustthe\"ethicsandfate of human cloningto a single institute,and intendsto mounta challengeagainst the patents.DeclanButler Indeed,oneoutcome of thedebateabout human cloninghasbeentotrigger a broadconsensusonthe needforsuchagreementsin bioethics.Recommendations aimedatinternational regulationofcloningwere expectedfromthe International Bioethics Where it all began: the birth of Dolly (left) continues to stir international controversy. \n",
      "\n",
      "\n",
      "Italian court wrestles with coid fusion suit IMAGE UNAVAILABLE FOR COPYRIGHT REASONS Munich.An Italian judge trying to decide if cold-fusion advocates Stanley Pons and Martin Fleischmann were libelled by the dailynewspaperLaRepubblicahascalled in a technical adviser tohelp him understand the scientific aspects of their work,which created an international sensation when it was announcedin1989.Theuse ofa technical adviser, a new procedure for Italy,is one of several novel features of the case, which is being tried in a country with no legal definition of scientific fraud. Although they were not mentioned by name,Giuliano Preparata,Tullio Bressani andEmilio Del GiudiceoftheInstituteof Physics in Milan believed that theywere identifiable and requested a retraction.InsteadLaRepubblicapublishedtheirletters alongwith adefiantcommentaryfromPacci. As a result, the Italians joined Fleischmann and Pons at the beginning of last year in suing the influential newspaper for IL8billion(USs5 million）,an unusuai action in a country where such lawsuits arerare. In October l99l，Italian journalist Giovanni Pacci is alleged to have libelled British chemists Fleischmann and Pons by referring to them as scientific frauds in a stronglywordedreview of a newtranslation ofAxelKahn'sbookFalseProphets.Pacci \n",
      "\n",
      "\n",
      "Although the NAS panel thinks that the use of DNA evidence is appropriate,that message has struggled to get out.A day before the report was to be released,an articleintheNewYorkTimescharacterized its conclusions as striking a blow against DNA evidence.The chair of the panel,VictorMcKusick of Johns HopkinsUniversity, denied that interpretation at a hastily scheduledpress conference a few hours after the article appeared.Since then, several other articles—most notably a June reviewby Richard Lewontin of Harvard University in theNewYorkReviewofBooks—have argued that theNASpanel did notunderstand the implications of its own report. ThecourtshaverejectedDNAevidence forreasons notforeseenwhenthereportwas released in April （see Nature 356,552; 1992).Oneof itsrecommendationswasfor better laboratory quality-control standards and certification procedures,and someDNA fingerprinting critics have argued (persuasively enough to appear on thefrontpage of theNewYorkTimesinanarticlethatwas essentiallyretractedthefollowingday)that DNA evidence should be inadmissibleuntil suchprocedures are established. mended,until that exists, the use of a modified'ceiling'principle in which geneticists would makevery conservative judgements on the chance of a certain fingerprint being matchedatrandom.AlthoughtheNAScommittee did not say that evidence derived from different statistical methods should meanwhile be inadmissible,that is what some courts have concluded. under Frye,requires only\"general acceptance\"inthe scientific community.YetDNA evidence is oftenbeingrejected onthebasis ofcontroversies involving a few scientists, includingLewontin，whoproclaim themselves to be extremists.(They defend themselves on the grounds that lives are at stake.) DespitetheNASreport'sendorsementof the fundamental soundness of DNA evidence, its conclusions have apparently been obscured by this debate on the scientific fringe. But the issue that most bothered the courts relates to statistics,not standards. TheCalifornia Court of Appeals,the Massachusetts Supreme Judicial Court and theUS District Court of Guam have all ruled(citing the NAS report and the accompanying controversy) that the scientific uncertainty over the role of population substructure in calculating the chance of DNA matches is too greattopass theso-called Frye test, a measure of scientific acceptance needed for legal acceptability set out in a 1923 decisionby theUSSupreme Court.As a result,DNA evidenceusingallbutthe mostconservative statistics is now inadmissible in Massachusetts, some districts of California and Guam. \n",
      "\n",
      "\n",
      "Despite the warning signs, the speed at which the conference decayed into protests and splinter groups apparently took US officialscompletelybysurprise.Bythe timethemeetingended on18April,the UnitedStateshadretracted or disowned two position papers,quelled a walk-out threat and tossed most of its promised \"concrete proposals\"overboard to save thefounderingsummit.OneWhiteHouse officialdescribedthetwo-dayconference that found little argument among US environmentalgroups. Expectations had been low for the hurriediycalledconference,butfewcould have predicted how divisive it would actually become.President GeorgeBush, who announced themeeting four months ago at the Malta summit, said he intended ittoemphasize the importance of economics and international research collaboration in the environmental debate.But many of the 18visiting delegations had beenpuzzledastowhattheUnitedStates actuallyhopedtoaccomplish(seeNature 344,694; 19 April1990). Sununuis saidtohavecaughtwind ofa press conference planned by the European Communities to criticize the US emphasis on research rather than action. Through an intermediary,he sent word that future global warming negotiations could be seriously damaged by such a move. According to diplomatic sources,the adversarial tone of the meeting was first set by John Sununu,the White House chief of staff,thestaunchlyconservative force behind the White Houseposition that it is too soon to begin measures to counter global warming. Disagreements over the proper response to thethreat of global changes in climate disruptedlastweek'sWhiteHouse international environmental conference, causingtheUnited Statesto withdraw its advertised proposals for a new research collaboration. \n",
      "\n",
      "\n",
      "Integration with word-processing software,for instance,allows authors to find and insert citations into documents as theywrite, and to build and reformat bibliographies in any ofthousandsof journalstyleswith just Recommended reading Reference managers are mainly organizational tools.But for manyusers,their truly must-have features have nothing to do with organization. Some reference-management tools recommend articles ofinterest on thebasis ofwhat's already in the user's library.Sciwheelflags articlesinsearchesthathavebeenrecommended by aratingservice calledFacultyOpinions,and can also suggest articles based on the text the author is writing.RefWorks integrates with a recommendationtool calledLeganto that enables users to import their compiled readinglists directly intotheir RefWorkslibrary. And Zotero includes plug-ins that find PDFs using the Open Access database Unpaywall, and that flag retracted articles, thanks to a partnership with the Retraction Watch blog. ReadCube can alsoflagretractedarticles.And RefWorks is adding integration with Unpaywall,saysShalhevetBar-Asher,productmanager attheEx Libris Group,basedinJerusalem, Israel,which develops RefWorks. With most reference managers, users can organize their libraries with folders and tags, and search for articles by author name, keyword,textandnotes.Built-inPDFviewers enable them to read and annotate documents,to highlight key passages and take notes.External searchfunctionsletthem import articles-for instance,from PubMed or Google Scholar, or in Mendeley's case,from a custom catalogue of more than 1oo million papers.ReadCube Papers offers an 'enhanced PDF' experience, which fleshes out the PDF with supplementary materialandhyperlinks. \n",
      "\n",
      "\n",
      "GOTTINGEN. Royal Academy of Sciences, June 25-Prof. yvan de Sande Bakhuyzen in the chair.-Prof. H.Behrens and Mr.H. Baucke on Babbits' antifriction metal. By slow cooling this alloy（82Sn, 9Sb,9Cn） is really split up_into compounds of different fusibility.The separation and chemical examination of these compounds have been carried out by Mr.H. Baucke, analytical chemist,of Amsterdam. By pressure between hot iron plates a metallic mother liquid was squeezed out ； the remaining cakes of crystalline metal were treated with hydrochloric acid and washed with water.An alloy， containing 90Sn, IoSb, on being thus treated,yielded the same cubic crystals as Babbits' metal, which were found to answer to the formula SbSn2 (found 33'7 Sb, calculated 338 Sb). With 42Sb_prismatic crystal of the compounds SbSn were_ob. tained (found 5o'35 Sb, calculated 5o'37 Sb).In Babbits) metal the copper forms brittle needles of whitish bronze containing no antimony. Such bronzes show less stability than the Royal Society of Sciences.--The Nachrichten (mathematico-physical section) for I898,part I,contains the following memoirs communicated to the Society. compounds of tin and antimony, From an alloy of goSn 1oCn, the compound CnSn was obtained. Repeated heating and cooling scopical examination of bearings showed that cushions heated by running,were poor in cubic crystals of the compound SbSnz. Babbits' metal is made amorphous by casting in cold moulds. Axles running on such metal get tinned; this leads to sticking and heating；finally recrystallisation sets in,and liquid tin is squeezed out；while a compact layer of crystals is formed on the axle. Microscopical examination of the metallic deposit from the lubricating oil led to the unexpected result, that metal with crystals of moderate size will develop ball-cushions. Tin is ground to a fine dust by the sharp fragments of the bronze needles, the hard cubes of SbSnz are rounded, undermined,and finally worked up into something like metallic pebbles of microscopical size (o'o8 to o'I mm.). Similar spheroids were obtained from bearings of magnolia metal and of aluminium brass, but not from ordinary brass, nor from grey cast iron.--Prof. Lobry de Bruyn communicated a number of observations on the state of insoluble amorphous substances, which are made to form in geiatine as medium. These substances,which are precipitated from aqueous solutions,remain dissolved in gelatine as colloids, and on solidification yield transparent masses. With incident light some exhibit fluorescence or light reflexion_; others do not do so, or only very sparingly.-Prof. van de Sande Bakhuyzen made_ a communication on behalf of Dr.E.F.van de Sande Bakhuyzen, entitled  The motion of the terrestrial pole according to the observations of the years 189o to 1896.\"—Prof.Haga,on a fivecellar quadrant electrometer and the measurements of current intensity carried out with it. A description was given of a fivecellar quadrant electrometer furnished with a damper,con. sisting of a copper cylindrical mantle,moving in a magnetic field. Owing to the great stability and sensitiveness of the instrument, the strength of strong as well as of weak currents could easily be measured to within O'I per cent.by comparing the potential difference at the extremities of a known resistance with a normal Clark-element.—Dr.C.H.Wind,on the influence of the dimensions of the source of light in Fresnel's diffraction phenomena and on the-diffraction of X-rays (third -communication).The diffraction phenomena,modified by the widening of the light slit,were discussed, this time in connection with the optical delusion discovered by the author. By this discovery some diffculties that still remained were cleared up,but the conclusion as to the evidence of_ the undulatory character of X-rays,which was to be inferred from previous experiments, had to be retracted. Finally new experiments were communicated, in which a still faint indication of diffraction of X-rays manifested itself, and from which was inferred, with the greatest possible reserve, Tx= O'I to o'2 μu.—Prof. Kamerlingh Onnes (a),on behalf of Dr.E.van Everdingen, jun.,on the galvano-magnetic and thermo-magnetic phenomena in bismuth. Observations were made of the four transverse phenomena in one plate of bismuth decomposed by electrolysis. The results were compared with those arrived at by Von Ettingshausen and Nernst and with Riecke's theory of electrical and thermal phenomena in metals. Some among them appeared to agree neither with those results nor with the theory in its present forn._(b)On behalf of Dr. J. Verschaffelt, on the deviation of De Heen's experiments from Van der Waals's law of continuity. (c)On behalf of Mr.C.M.A.Hartman, on composition and volumes of the coexisting phases of mixtures of methyl chloride and carbonic acid. The equilibrium between the two phases being established, parts of both are separated,each between two cocks, and then collected.in gasmeasuring tubes. The densities of the phases are inferred from the volumes of the gas, and the molecular proportions of the components are found by analysing. A remarkable result of the preliminary determinations is that there is a nearly linear relation between the pressure and the composition of the liquid phase, showing that the exponents in Van der Waals's formula for this case are nearly zero.--Prof. Lorentz, on the influence -of a magnetic field on radiation. The elementary theory of the Zeeman-effect is not suffcient to account for the phenomena observed by Cornu,Michelson,Tolver Preston and Becquerel; it will therefore have.to be replaced by.a more general one Fortunately,without entering into the details of. the mechanism of radiation,it is possible to arrive at some general results concerning the state of polarisation in different cases. After dis- cussing this question,the author shows how (as was suggested to him by Mr.A.Pannekoek)the equations in his paper in Wied. Ann.,63,p.278,may be made'to furnish an explanation of Cornu's quadruplet.'This explanation would， however, require a structure of theimolecules which it seems difficult to imagine. AMSTERDAM. \n",
      "\n",
      "\n",
      "\"It hardly seems too much to say that granting these two postulafes and the existence of a primeval planet, such as that above described,then a system would necessarily be developed which would bear a strong resemblance to our own. In my paper on this subject I summed up the discussion in the following words,which I still see no reason to retract: In discussing the transformations of a liquid planet we saw the tendency of the single mass to divide into two portions, although we failed to extend the rigorous argument back to the actual moment of separation;and now we seem to reach a similar crisis from the opposite end, when in retrospect we trace back the system to two masses of unequal size in close proximity with one another. The argument almost carries conviction with it,but I have necessarily been compellcd to pass over various doubtful points. \"The argument reposes on the imperfect rigidity of solids, and on the internal friction of semi-solids and fluids;these are verae causae. Thus changes of the kind here discussed must be going on,and must have gone on in the past. And for this history of the earth and moon to be true throughout it is only necessary to postulate a sufficient Iapse of time, and that there is not enough matter diffused through space materially to resist the motions of the moon and earth in perhaps several hundred million years. Time is wanting to consider other subjects worthy of notice which arise out of this problem,yet I wish to point out that the earth's axis must once have been less tilted over with reference to the sun than it is now,so that the obliquity of the ecliptic receives at least a partial explanation. Again,the inclination of the moon's orbit may be in great measure explained；and,lastly，the moon must once have moved in a nearly circular path. The fact that tidal friction is competent to explain the eccentricity of an orbit has been applied in a manner to which I shall have occasion to return hereafter. \n",
      "\n",
      "\n",
      "Publishing(see go.nature.com/35mq7mj), issuedbytheDOAj,theOpenAccessScholarly PublishersAssociation,COPE and theWorld AssociationofMedicalEditors.Examples of substandard practice include not having a retraction policy, requesting a transfer of copyrightwhen publishing an open-access article and not specifying a Creative Commons licencein an open-accessjournal.These characteristicscanbedifficulttoknowbefore submitting,although such information is easily obtained from legitimate journals. An unprofessional-lookingweb page-with spelling or grammar mistakes or irrelevant text - should also raise red flags. Deviation from best editorial and publicationpractices.Standardsherehavebeen set outinthejoint statementonPrinciplesof Transparency and Best Practice in Scholarly Comment Warning signs should be assessed with care.For instance, journals are not eligible for listing on the DOAj or joining COPE until after one year of operation.Awell-meaning but poorly resourced journal might not be able to maintain a professional website.Also, somejournals claim to follow bestpractice but do not.Summit participants agreed that the burden of proof rests on the journal. Lack of transparency.There are two reasons welist this separately from deviation frombest practice.First,transparency in operational procedures(such as how editorial decisions are made,fees applied andpeer review organized)ispresently somewhat aspirational in academic publishing and thus cannot be considereda currentbestpractice.Second, the absence oftransparency in predatoryjournals makes it important enough to highlight separately. Predatory publishers often fail to provide their contact information or details about article processing charges.Editors and membersof their editorial boards are often unverifiable. \n",
      "\n",
      "\n",
      "Grant-funded journals are also distinct from variousplatforms that exist to provide open access to research published elsewhere.These include SciELO, a portal supported by governmentsmainlyinSouthAmericathatprovides accesstoworkpublished in hundreds of journals. Another is Wellcome Open Research,which is part preprint server,part peer-reviewjournal.And then there are sites that allow researchers to selfarchive their accepted manuscripts on publication by a journal, such as the University of Zurich's ZORA.But duplicating database contents invites desynchronization and file corruption.I hope that grant-funded journals will be less vulnerable to hacking and more durable than these platforms, but only time will tell. PREDATORY JOURNALSCOULD NOTEXIST IFAUTHORSDID NOTPAYTOPUBLISH INPEER-REVIEWED JOURNALS. I call my proposed approach Public Service Open Access (PSOA). It uncouples the publishers revenues from the number of papers published, removing incentives to publish low-quality or bogus science. Crucially, scientists would decide how to allocate resources to journals. The number of papers published would then become one of a journal's qualities that could be assessedrather than the clearestroute to economic viability.Other assessable factorscouldinclude turnaround times, quality of searchable databases, durability of archiving,procedures to deal with fraud and retractions,innovations in cooperative peer review, and the option of post-publication review.Although the updated Plan S calls for many such factors to be reported openly, it does not provide any clear mechanism to reward their implementation. The feasibility of PSOA is already partly proven. The journal that I have directedfor thepastfour years, SwissMedical Weekly,has functioned in this way since 2ool.Readers don't pay for access, authors don't pay for publication and reviewers are paid 50 Swiss francs (US$50) for each report. The journal's costs (roughly 1,900 Swiss francs for each published paper, although automated systems might lower costs in the future) are covered by a consortium of Swiss university and cantonal hospitals,the Swiss Medical Association,the Swiss Academy ofMedical Sciences and charities —which have evaluated our model and prioritized it over those of otherpublishers.Granted,Switzerland is a small, wealthy country and so positioned to be a trailblazer. Although they do not provide the services of journals,the successful preprint servers \n",
      "\n",
      "\n",
      "How did you fund the Flint work? Only the paranoid could possibly survive something like this. If you make one mistake, you will never, ever recover. It makes you very careful not to say anything you are not prepared to back up 100%. I workedontheDCcasefor30hours aweek as a volunteer,for10years.ButIworked 70hours a week to make money and produce papers, the things that count towards academic-career success. There's no way you'd put on your CV that you made FOIA requests and attempted to get falsified reports retracted. I knewthedaywouldcomewhenanother community would need help, so I donated my fees from consulting and other work into a fund in the department.It was put into a discretionary account.We did, eventually, get $33,0o0 from theUSNational ScienceFoundation,which gave us credibility. How have your efforts affected your workload? \n",
      "\n",
      "\n",
      "What's your advice for RsE hopefuls? Who should consider a career as an RsE? Most RSEs have a PhD - I have a PhD in computer graphics - but that's not necessarily a requirement. Some RsEs end up on the tenure track; I was recently promoted to professor. Many others work as laboratory technicians or service staff. I would encourage any experienced developers with an interest in research to consider RSE as a career. I would also love to see more people from under-represented groups join the field.We need more diversity going forward. Do principal investigators (PIs) appreciate the need for RSEs? It's mixed. In the past, researchers weren't always incentivized to use or create good software. But that's changing. Many journals now require authors to publish code, and that code has to be FAIR: findable, accessible, interoperable and reproducible. That last term is very important: good software is a crucial component of research reproducibility. We explain to PIs that they need reliable code so they won't have to retract their paper six months later. Many RsEs started out as PhD students or postdocs who worked on software to support their own project. They realized that they enjoyed that part of the job more than the actual research. RsEs certainly have the skills to work in industry but they thrive in an environment of cutting-edge science in academia. A big part of the job is raising awareness about the importance of quality software. An RsE might train a postdoc or graduate student to develop software on their own. Or they might run a seminar on good software practices. In theory, training 50 people could be more impactful than working on a single project. In practice, it's often hard for RsEs to find the time for teaching, mentorship and advocacy because they're so busy supporting research. What else do RsEs do? Try working on a piece of open-source software. If possible, do some training in a collaborative setting. If you have questions, talk to a working RSE. Consider joining an association. The UK Society of Research Software Engineering is always happy to advise people about getting into the field or how to stand out in a job application. Some high-powered researchers at the top of the academic ladder can afford to hire their own RSE. That engineer might be dedicated to maintaining a single piece of software that's been around for 10 or 20 years. But most research groups need — or can afford —an RSE only on an occasional basis. If their university has an RSE group, they can hire an in-house engineer for one day a week, or for a month at a time, or whatever they need. In that way, the RSE group is like a core facility. The university tries to ensure a steady workflow for the group, but that's usually not a problem there's no shortage of projects to work on. \n",
      "\n",
      "\n",
      "With regard to medical science,  it  is  very  elementary. Occasionally here and there a  successful  doctor  is  to  be found. This lack of knowledge is  not to be wondered at, for  Buddhism forbids dissection of bodies. In the temple of Confucius a  bronze figure is to be  found,  on  which  all the different  parts are marked where  the  surgical  needle However,  in  a  more  recent  communication,  M. Bret› schneider retracts his  words,  and  says  that it is more that  the  Chinese  will not  observe,  than  that  they  can› not, for Lichi-Tchen, author of several interesting pamphlets, brings forward many facts concerning cultivated plants. This Russian investigator speaks of the Chinese as fol› lows:  \"It is  an undeniable fact that the  Chinese  do  not know how to observe, and have no regard for truth ;  their style  is negligent, full  of ambiguities  and contradictions teeming with  marvellous and childish digressions.\" Research  work  has  not  been  carried  far  in  natural science. In zoology their classifications are quite wrong. The  drawings in zoological and botanical books can often scarcely  be  recognised. Their  most  ancient  work  on botany dates from 2700 B.c., and is a treatise written by the Emperor Shen-nung;  it is merely enumerative. Another work, the  \"Rh-ya,\"  dates  fron1 1200  B.C., and  shows signs of progress. The \"  Pen-tsao,\" an encyclopedia,  is, according to M.  Bretschneider, of little value. may  be  applied. This  needle  is practically  the only instrument used  in the profession. \n",
      "\n",
      "\n",
      "three, two years before he was called to be professor at Pisa,Barozzi,who had occupied himself at Venice with the discussion of the asymptotes of curves, was believed to be guilty of dealing in sorcery and witchcraft, of casting lots, and of causing the drought which reigned in the Island of Cyprus. He was condemned by the Inquisicurious books and a wonderful collection of astronomical and mathematical instruments. Porta, the famous author of the \"Magia Naturalis\"—the reputed discoverer of the camera obscura,-was summoned to Rome to give an account of his opinions, Giordano Bruno was burned at Venice in I6oo, hardly less for his daring speculations in religion than because he had attacked Aristotle and adopted the system of Copernicus. The aged Archbishop of Spalatro, de Dominis, to whom Newton attributes the successful explanation of the colours of the rainbow, died in i624 in the prisons of the Inquisition, and all that death had left to the mercies of his persecutors was publicly committed to the flames. The skies of Italy were black with the smoke of these burnings, the air was heavy with suspicion and terror. The Inquisition tried men for heresies which had been denounced by unknown enemies, and the processes of moral and intellectual before its tribunals were only more oppressive because the secret of their details was closely kept. Galileo wrote a letter to his friend and pupil the Jesuit Castelli, in 1614, copies of which were privately circulated, but which was not printed till twenty years later. In that noble writing he lays down with equal firmness and clearness the broad lines with sepaiate scientific and religious thought,and shows himself deeply penetrated with religious as with scientific faith. AJesuit father denounced it,another preached against him as a witness for the Copernican system.Though the great works he had hitherto published,that on the Solar Spots and the \"Nuncius Sidereus\" had neither of them  committed their author to the Copernican theory of the universe, the Church resolved to anticipate and to forbid the support by the most illustrious of living astronomers of doctrines, which, whatever else might be said of them,were clearly fatal to the authority of the Peripatetics. The eight years during which the broken-hearted old man, from whose outward eyes the light of that universe, which he had done more than all his predecessors to reveal to men, was fast fading,were the most memorable in the history of modern science. Much of the work he published in them had previously been scattered over Europe by his pupils, but none of them all had his migh'y sweep of thought, his noble style, his. all-illuminating insight. Had his enemies succeeded in silencing him, had he been handed over to the rack at seventy, or prevented, as they meant he should be, from speaking once more urbi et orbi,for fear his words might shatter the system of Ptolemy or put an end to that worship of a traditional philosophy which he had conquered, and which was struggling to strangle him in its death throes, the world might have waited a century longer for Torricelli and Pascal, for Newton and Laplace. In these last years he is greater and maturer than ever. Banished from the skies by the jealousy of philosophers and priests, he comes back to earth and lays deep and sure those foundations of mechanics without which it was impossible to carry further the science of the heavens. His watchword was that phenomena must first be measured before the attempt to explain or to co-ordinate them. Physics and Astronomy can rest only on mathematics, and the secrets of that hand which laid the foundations of the world in measure are only to be learned by patient and exhaustive observation, and by thought built upon and not preceding it. And yet how near Galileo came to the secret！ We have seen that he was in fact compelled to deal with the fundamental problems of the Fluxional Calculus in discussing falling bodies and projectiles. It was his famous scholar Cavalleri whose Calculus of Indivisibles foreshadowed the Fluxional Calculus of Newton. It is difficult to sayhow much of Cavalleri's viewswere developed out of the note-books of his master's lectures and out of his own consideration of the problems that master had triumphantly solved. Like many of Galileo's pupils, he had published works of his own, in which it was doubtless difficult to separate what was original from what was borrowed.From_abaut 1592 till about 1638—forty-six years-Galileo hadpublished scarcely anything except on the planetary system. The inclined planes, the falling bodies, the pendulums, the cycloids,were so many problemsworked out in his youth--during the early years of hisprofessoriates atPisa andPadua--scattered in students' note-books, and germinating in students' minds throughout the world. It was so with his theory of projectiles; and Cavalleri,who was one of his old students and his successor at the University of Padua,published the theory of projectiles without referring it to its real author. Challenged by Galileo, he allowed his obligations frankly, and their friendship was not interrupted.Cavalleri published his theory of indivisibies in Galileo's old age (1635), quadam ratione promota,'' after he had apologised for his former awkward error. The shape of the new theory was Cavalleri's own--the impulse came almost certainly from the discoverer of the true theory of falling bodies and of projectiles. Galileo went to Rome (in 16i6) to struggle for as much liberty as could be saved, but he was deeply disappointed with the result. He_retracted nothing, because he had neither been tried nor convicted, but the officers of the Inquisition waited on him, and left him an official warning that it was not permitted to teach that the sun was the fixed centre of our system, and that the earth revolved around it. Silence was imposed on him; and it was only after the new Pope was appointed, _who,as a_Cardinal, had opposed the promulgation of this warning， that he ventured again to think of publishing his views.The book in which they appeared in i632 was a three-cornered dialogue between a Ptolemaist and a Copernican,with a third person acting as a kind of half intelligent chorus. The arguments of the Ptolemaist were, of course, the weaker, as in Galileo's hands it was impossible that it should be otherwise. To secure the imprimatur of the censorship, he prefixed this statement to the book—\"Within the last few years a salutary edict was promulgated at Rome, in which, in view of dangerous scandals, silence was enjoined on the supporters of the Pythagorean doctrine of the movement of the earth. Some have been rash enough to say that this dogma was not arrived at after a judicious examination, but was promulgated in passion and in ignorance, and it has been asserted that people utterly without practice in astronomical observations ought not to attempt, by a premature prohibition,to clip the wings of speculation. Hearing these complaints my heart burned within me, and I could not keep silence. Having appear publicly before all the world, and to testify to the truth. I was at P.ome at the time. I was listened to and acqyainted with this decree. My purpose in this book is to show foreign nations that in Italy, and especially in Rome,as much is really known about these matters as anywhere else. I have gathered together my speculations on the Copernican system to show that all these things were known before the condemnation, and that we owe to Italy not merely doctrines for the salvation of their souls, but ingenious discoveries to delight the minds of men.\" The elaborate and somewhat overstrained courtesy of this preface availed as little to save its author from the terrors of the Inquisition as the imprimatur of the Papal censorship which he had procured beforehand. \"The Pope looked on the soi-disante hypothetical presentation of Copernicanism as a mere pretence. I need not repeat the well-known story of the great man's sufferings. After long months of mental torture, he was dragged before the sacred tribunal, and compelled to confess that he had ments for the Copernican system in the eagerness of intellectual debate, and in not sufficiently guarding the hasty reader against the force of arguments for what the Church had pronounced to be dangerous heresy. At the age of seventy the greatest discoverer—the most distinguished man in Europe—was threatened with torture to extract from him, if possible, the confession that he had had a malicious intention of unsettling men's faith in divine truth. It had been privately decided by the Pope that if the threat of torture failed, the Inquisition was not to proceed to the last extremity. Galileo knew nothing of this,but the threat did fail, For his rashness he was sent to the prisons of the Inquisition. He was released in a few days, but he was ordered to confine himself within four_ walls and his successive places of seclusion were marked out for him. His visitors were noted,and he was warned that an imprudent word might bring him back to the dungeons from which he was only respited on his good behaviour. Private orders were given to the censorship throughout Italy that he was not to be permitted to publish anything, not even to re-issue the treatises which first made him illustrious. It was a living death to which his judges had consigned him, and he was reduced to permit his friends to publish surreptitiously across the Alps the book which summed up the long work of his life in Mathematics, in Mechanics, in Hydrostatics, in Physics, so far as Physics were then possible. His greatest work, the\"Discorsi e Dimostrazioni Matematiche,\" \" on two new sciences,\" appeared in France, and, to save him from the risk of torture, the miserable pretence had to be put forward even there, that the manuscript had been taken away by one of his friends. In i637,in his seventy-third year, he lost his eyesight; in 1641 he died. \n",
      "\n",
      "\n",
      "Industry ties Restoring public trust has been difficult, in part because the agency has not had steady permanent leadership in years, says Genevieve Kanter, an economist at the University of Pennsylvania in Philadelphia who studies the regulation of biomedical technologies and industry influence in medicine. Since the beginning of 2015, eight different commissioners have led the agency, including acting director Janet Woodcock, who has been at the helm since January. A cardiologist, Califf had a long career at Duke University School of Medicine in Durham, North Carolina, where he founded the Duke Clinical Research Institute, the world's largest academic clinical research centre. Since leaving the FDA in 2017, after serving as commissioner for less than 11 months, he has led clinical policy and strategy at Verily, the life-sciences spin-off from Google's parent company, Alphabet. Why emergency COVID-vaccine approvals pose a dilemma for scientists The FDA has had a particularly important role during the COVID-19 pandemic, because it has the authority to approve vaccines, treatments and tests.But it has at times been criticized for its response. Inaccurate COVID-19 tests early in the pandemic hamstrung public-health officials' response to the virus. The agency issued an emergency-use authorization for hydroxychloroquine as a treatment for COVID-19, despite scant evidence for its efficacy, and then quickly retracted it. And two prominent FDA scientists announced in late August that they would resign after disagreeing with the Biden administration's plan to offer booster shots widely in the United States, before sufficient data had been collected to prove their necessity. Given the FDA's prominence in overseeing the federal government's response to the pandemic, experts were surprised by how long it took the Biden administration to appoint a head for the agency. Newspapers have reported that the delay was due to the administration searching for a candidate that the Senate would be able to confirm, given that there seemed to be strong opposition to Woodcock as permanent FDA director. Califf is an \"excellent\" choice for the post, Kanter says, especially given his rigorous track record in overseeing clinical trials. \n",
      "\n",
      "\n",
      "department of nature down to the most minute details. . Not even one grain of material is ever used, when less would suffice for the purpose.\" As intermediate to these two quotations, and in itself amusing from its bonhommie and condescension, we may take the following :- \" We can demonstrate by mathematics that in the use of every such muscle [triangular, &c.] there is a necessary loss of force. . . · I have always maintained that beauty of form was one of the pre-existing conditions in the mind of the Contriver of the universe, as well as economy of force.\" This is, no doubt, admirable,and would suit the most frantic of the mischief-making teleologists. But, alas ! like the Editor of the Little Pedlington Observer, \"What in one line we state we retract in another\" For there follows-- \"The law of least action is attended to in every \n",
      "\n",
      "\n",
      "So how can other Alsystems create or access more and better chemistry data? One possible solution is to set up systems that pull data out of published research papers and existing databases,such as an algorithm created by researchers attheUniversity ofCambridge,UK,that converts chemical names to structures4.This approach has accelerated progress in the use of Alin organic chemistry. But even this might not be enough to allow Al tools to reach their fullpotential.Thebestpossibletraining sets would also include data on negative outcomes,such as reaction conditions thatdon'tproduce desired substances. And data need to be recorded in agreed and consistent formats,which they are not at present. Chemistry applications require computer models to be better than thebest human scientist.Only by taking steps to collect and share data will Al be able to meet expectations in chemistry and avoidbecoming a case ofhype over hope. Another potential way to speed things up is to automatelaboratory systems.Existing optionsinclude robotic materials-handling systems,which can be set upto make and measure compounds to test Al model outputs5.6. However, at present this capability is limited,because the systems can carry out only a relatively narrow range of chemical reactions compared with a human chemist. Thereis another,particularly obvious solution:Altools need open data.How people publish their papers must evolveto make data more accessible.This is onereason why Nature requests that authors deposit their code and data in open repositories (see go.nature.com/3ohkfce). It is also yet another reason to focus on data accessibility, above and beyond scientific crises surrounding the replication of results and high-profile retractions.Chemists are already addressingthis issuewithfacilities such as the Open ReactionDatabase(see go.nature.com/42ayugc). \n",
      "\n",
      "\n",
      "*Amer.Jour.Sci.,II.xxxy.166. ↑Geology of New Hampshire,I6o-162. Amer.Jour.Sci.,II.xxx.406. I.THE GEOGNOSY OF THE APPALACHIAN SYSTEM.—The age and geological relations of the crystalline stratified rocks of eastern North America have for a long time occupied the attention of geologists. A section across northern New York, from Ogdensburg on the St.Lawrence to Portland in Maine, shows the existence of three distinct regions of unlike crystalline schists. These are the Adirondacks to the west of Lake Champlain,the Green Mountains of Vermont, and the White Mountains of New Hampshire. The lithological and mineralogical differences between the rocks of these three regions are such as to have attracted the attention of some of the earlier observers. Eaton,one of the founders of American geology,at least as early as I832,distinguished in his Geological Text-book (2nd edition)between the gneiss of the Adirondacks and that of the Green Mountains. Adopting the then received divisions of primary,transition,secondary and tertiary rocks,he dividedcach of these series into three classes,which he named carboniferous, quartzose,and calcareous; meaning by the first schistose or argillaceous strata such as,according to him,might include carbonaceous matter. These three divisions in fact corresponded to clay,sand,and lime-rocks,and were supposed by him to be repeated in the same order in each series. This was apparently the first recognition of that Iaw of cyces in sedimentation upon which I afterwards insisted in i863.*Without,so far asI am aware, defining the relations of the Adirondacks,he referred to the lowest or carboniferous division of the primary series the crys· talline schists of the Green Mountains,while the quartzites and marbles at their western base were made the quartzose and calcareous divisions of this primary series. The argillites and sandstones lying still farther westward, but to the east of the Hudson River,were regarded as the first and second divisions of the transition series,and were followed by its calcareous division, whichseems to have included the limestonesof the Trenton group; all of these rocks being supposed to dip to the westward,and away from fhe central axis of the Green Mountains. Eaton does not appear to have studied the White Mountains,or to have considered their geological relations. They were, however, clearly distinguished from the former by C.T.Jackson ini844,when, in his report on the geology of New Hampshire,he described the White Mountains as an axis of primary granite,gneiss,and mica-schist,overlaid successively,both to the east and west,by whatwere designatedby him Cambrian and Silurian rocks ; these names having,since the time of Eaton's publication,been introduced by English geologists. While these overlying rocks in Maine were unaltered, he conceived that the corresponding strata in Vermont,on the western side of the granitic axis, had been changed by the action of intrusive serpentines and intrusive quarizites, which had altered the Cambrian into the Green Mountain gneiss,and converted a portion of the fossiliferous Silurian limestones of the Champlain valley into w hite marbles. Jackson did not institute any comparison between the rocks of the White Mountains and these of the Adirondacks; but the Me:srs. Rogers in the same year,I844,published an essay on the geological age of the White Mountains,in which,while endeavouring to showtheir Upper Silurian age,they speak of them as having been hitherto regarded as consisting exclusively of various modifications of granitic and gneissoid rocks,and as belongingto the so-called primary periods of geologic time.\" They however considered that these rocks had rather the aspect of altered palaeozoic strata,and suggested that they might be,in part at least,of the age of the Clinton division of the New York system; a view which was supportedby thepresence of what were atthe time regarded by the Messrs.Rogers as organic remains. Sub· sequently,in I847, they announced that they no lorger considered these to be of organic origin,without however retracting their opinion as to the paleeozoic age of the strata. Re:erving to another place in my address the discussion of the geoogicai age of the White Mountain rocks, I proceed to notice briefly the summary manner all of the questions which the theme suggests, would be a task too long for the present occasion,but I shall endeavour to-night in the first place to bringbefore you certain facts in the history of the physical structure, the mineralogy and the paleeontology of the Appalachians;and in the second place to discuss some of the physical,chemical,and biological conditions which have presided over the formation of the ancient crystalline rocks that makeup so large a portion of our great eastern mountain system. \n",
      "\n",
      "\n",
      "\"To contemplate Arago under all the aspects that may attract the admiration of posterity we must think of him as a man of science overturning the Newtonian hypothesis of the emission of light,determining the physical constitution of the sun,explaining the scintillation of the stars, the nature of the aurora borealis, discovering magnetisation by currents, the origin of the electric telegraph,extending to all bodies magnetic properties; finally, for I must limit myself to the most prominent points, indicating to tbe most eminent of his disciples the star still unknown and invsible,whose discovery introduced order among the perturbed planets, and which still remains the most extraordinary mark of the power of human genius. As a professor， again,before three thousand auditors at the Observatory,or in his chair as Perpetual Secretary writing his incomparable scientific noticcs,or dictating,when blind,hispopular astronomy, always, by speech or by pen,marvellous for his clearncss,his. introducing them into a hydrogen flame,was due to the rapid disintegration of the metal. I have ascertained the cause of this phenomenon,and have succeeded in eliminating that which produces it,and in doing so haveproduced a metal in a state hitherto unknown,and which is absolutely stable at a temperaturewhere nearly all substancesmelt or are consumed;a metal which, although originally soft and pliable,becomes as homoincandescence as when cold,and cannot be annealed by any process now commonly known,for the cause of this shrinking and cracking of the wire is due entirely to the expansion of the air in the mechanical and physical pores of the platinum,and the contraction upon the escape of the air. Platinum as sold in commerce may be compared to sandstone,in which the whole is made of a great number of particles with many air spaces. The sandstone upon melting becomes homogeneous and no air spaces exist. accuracy, his power and fulness, elevating all he touched,re. turning to the astonished inventor his discovery developed and fertilised,sowing broadcast his ideas,and rejoicingwhen others, friends or foes, were enriched by the precious fruits of his genius. As a scientific historian he excelled Condercet,equalled Cuvier and Fontenelle,and was characterised above all others by his eagerness to give every one his due,and his jealous love of justice. As an orator he carried into the tribune the vigour and clearness of the scientific chair,vivified by the emotions of master-spirits,and dominating the assembly by his lofty stature, with his beautiful Southern head, and his eye full of fire.He was a man,in fact,in whom the will to act was united with the consciousnessof power,anintelligencemarvellously comprehensive and powerfully creative, so boldandyet so prudent at times that it never commited an error that required to be retracted. Of an hatred,and thirsting for justice,a heart sensitive and valiant, sometimes drawn, says a contemporary,to show itself severe to the strong in order to support the weak;a soul austere but a brow serene; a father and citizen worthy of the ancient legends, and able,like Carnot on quitting lifeto bear the noble witness: --My hands are clean and my heart pure.' From the extent cf the sketch you may judge what will be the nature of the picture.\" THEINAUGURATIONOFARAGO'SSTATUE In conclusion,it maybe interesting to state that the meltingpoints of many oxides is dependent on the manner of applying the heat; for instance,pure oxide of zirconium does not fuse in the flame of the oxy-hydrogen blow-pipe,while it melts like wax and conducts electricity when on an incandescent platinum spiral which is at a far lower temperature; on the other hand oxide of aluminum easily melts in the oxy-hydrogen flame,while it only vitrifies on the platinum spiral. TN a communication to the Geological Section of the meeting of the British Association at Plymouth in I878,I called attention to the significance of theresult of the deep boring at Messrs.Meux's; as to the upper Devonian beds there met with next beneath the cretaceous strata;also as to the importance of some further knowledge as to the direction of the dip of the said upperDevonian beds. An accurate acquaintance with thispoint is essentially needed with reference to its immediate bearing on aquestion which may possiblybecome one of national importance,narmely,the place of the true coal measure series beneath our south-eastern area,and which must serve as an excuse for another short communication on the same subject. My experiments with many metals treated by this process have proved to my satisfaction,and I have no hesitation in stating that what is known as annealing of metals to make them soft and pliable is nothing more than the cracking of ihe metal, In every case where a hard drawn wire had been annealed a powerful microscope revealed myriads of cracks in the metal. Since the experiments of which I have just spoken I have,by the aid of Sprengel mercury pumps,produced higher exhaustion,and have, by consuming five hours in excluding the air from the wire and intermitting the current a great number of times,succeeded in obtaining a light of eight standard candles from a spiral of wire with a total radiating surface of I-32nd of an inch, or a surface aboutequal to one grain of buckwheat.With spirals of this small sizewhich have notpassed through the process,theaverage amount f light given out before melting is less than one standard candle. ThusI am enabled,by the increased capacity of platinum,to withstand high temperatures, to employ small radiating surfaces,and and thusreduce the energy required for candle light. I can now obtain eight separate jets,each giving out an absolutely steady light,and each equal to sixteen standard candles,or a total of 128 candles,by the expenditure of 3o,ooo foot-pounds of energy, or less than one horse-power. As a matter of curiosityI have made spirals of other metals, and excluded the air from them in the manner stated. Common iron wire may be made to give a light greater than platinum not heated. The iron becomes as hard as steel,and just as elastic. Nickel is far more refractory than iron. Steel wire used in pianos becomes decarbonised,but remains hard,and becomes the colour of silver. Aluminium melts only at a white-heat. Arago had no salary at all as director of the Observatory.He was appointed every year by the Bureau,receiving only 20o/. for his membership.His other salaries were 5olas a member of the Academy of Sciences,25ol.as Perpetual Secretary,and when he was lecturing on astronomy 5ol. The functions cf deputy and member of Municipal Council of Paris being entirely gratuitous,he was no receiver of any other public moneys. Under the Republic his membership of the Assembly brcught him Il.aday. With platinum or any metal the air spaces may be eliminated and themetal made homogeneousby a very simple process,This process I will now describe. I had made a large number of platinum spirals,all of the same size and fromthe same quality of wire；each spiral presented to the air a radiating surface of three-sixteenths of an inch ; five of these were brought by the electric current up to the melting-point, the light was measured by aphotometer,and the averagelight wasequaltofour standard candles for each spiral just at the melting-point. One of the samekind of spirals was placed in the receiver of an air-pump, and the air exhausted to 2 millimefres; a weak current was then passed through the wire, to slightly warm it for the purpose of assisting thepassage of the air from the pores of the metal into the vacuum. The temperature of the wire was gradually augmented,at intervals of ten minutes, until it became red. The object of slowly increasing the temperature was to allow the air to pass out gradually and not explosively. Afterward the current was increased at intervals of fifteen minntes. Before each increase in the current the wire was allowed to cool, and the contraction and expansion at these high temperatures caused the wire to weld togetherat the points previously containing air. In one hour and forty minutes this spiral had reached such a temperature without melting that it was giving a light of twentyfve standard candles,whereas it would undoubtedly have melted before it gave a light of five candles had it not beenput through the above process.Several more spirals were afterwards tried, with the same result. One spiral,which had been brought to these high temperatures more slowly,gave a light equal to thirty siandard candles. In the open air this spiral gave nearly the same light,although it required more current to keep it at the same temperature. Upon examination of these spirals,which had passed through the vacuum process, by the aid of a microscope no cracks were visible; the wire had become as white as silver,and hada polishwhichcould not be given itby any other means. The wire had a less diameter than before treatment, and it was exceedingly diffcult to melt in the oxy-hydrogen flame. As compared with untreated platinum,it was found that it was as hard as the steel wire used in pianos,and that it could not be annealed at anytemperature. PALEOZOICROCKSINSOUTH-EASTOF ENGLAND1 \n",
      "\n",
      "\n",
      "and her collaborators have produced a reasonable refutation of its findings.But it will be difficult to definitively prove the complete absence of arsenic from GFAJ-1 DNA. Ronald Oremland at the US Geological Survey inMenlo Park,California,who led the arsenic-life work1, says that the results \"do not look encouraging for the arsenic-inDNA hypothesis\", but adds that he will issue an official comment only once peer reviewershaveexaminedRedfield'sdata. AscanningelectronmicrographofGFAJ-1,the bacterium at the centre of the controversy. \"l fear that there will be a prolonged slow rearguard battle of its advocates until the whole story will finally be forgotten,rather than an outright retraction of the original Biomedical Sciences Research Center in Vari, Greece. Redfield and her collaborators hope to submit their work to Science by the end of the month. She says that if Science refuses to publish the work because it has been discussed on blogs,it will become an important test case for open science. \n",
      "\n",
      "\n",
      "DavidPiehlerFields andWaves,17500 CabrilloHighwaySouth,HalfMoon Bay,California94019-8533,USA e-mail: piehler@fields-and-waves.com Watershouldtake centre stage at climate talks An examiner issues a patent only after rigorous review, but his or her reportfocuses on the patent's claims. Therefore the scientific validity of the patent's arguments and supporting data are not necessarily central to this review. If the inventors (or others) laterrecognizeseriousflawsin thepatent's data or scientific reasoning,they are under no obligationto retract or correct thepatent.Aninvention is stillvalid andenforceable,and remains in public databases, evenwhentheinventor gotthe science wrong. \n",
      "\n",
      "\n",
      "18-20 June in Nairobi, Kenya. In their abstract, the OLAPP researchers wrote that DominguezRodrigo falsely accused them of\"bribing Tanzanian officials\" and characterized the competing group's approach as\"antagonistic, unethical, uncollegial and counterproductive\" ButtheOLAPPleadersdidnotattend the meeting, instead rushing into the field in June to monitor the site as the competing group arrived,having received new permits.The OLAPP group sent aletter to the Nairobi meeting on 17 June, apologizing for not attending and petitioning attendees to\"renounce\" the competing group and to support the OLAPP's call for\"an apology and retraction of allega- In a phone interview from Olduvailast week, Dominquez-Rodrigo said an apology wasn't necessary. There was no specific accusation of \"bribery\",he said,but of\"unethical behaviour and interfering in local politics\".He declined to elaborate on these charges so as not to interfere with ongoing negotiations. This prompted an angry response from Dominguez-Rodrigo and Mabulla on the website of the Cultural Association for the Study of the Quaternary in the Cantabrian Region (www.accuca.conectia.es).Dominguez-Rodrigo also attacked the OLAPP group in newspaper articles in Madrid and Dar es Salaam.On the website,Dominguez-Rodrigo and Mabulla \"We've taken all the measures we could to avoid conflict\"he said.\"The situation is awkward forboth groups.\"Last week thetwo teams agreed to cohabit for the season to come. \n",
      "\n",
      "\n",
      "But there is still plenty of ground to cover. The NAE's Cizik opted not to sign the statement, although he is a convert to accepting climate change as a reality and helped persuade many supporters of the initiative. Cizik had originally signed the document, but 22 evangelical leaders asked him not to be seen as taking a stand for the NAE,which historically acts only in cases of consensus on an issue.Cizikretracted his name, feeling that he could make a stronger case as a facilitator than an advocate. Biblical imperative John Houghton, a leader in the Christian environmental movement (see 'The man who preaches science), says the task is particularly hard in the United States. He lectures frequently to international audiences and says that, outside the United States, he rarely encounters resistance to the validity of climate-change science.But leaders of the initiative feel the science is now solid enough to convince even the unbelievers. \"If there was not such an overwhelming scientific consensus, weprobably wouldn'tbe able to get traction on this issue in our community,\" says Ball A union between evangelicals and scientists was only a matter of time, says DeWitt, who has written at length on \"evangelical environmentalism.Raised in the Christian Reformed Church, he grew up believing that investigation of the natural world goes hand in hand with biblical theology. Not until he went to college did he become aware of the divide between the two communities. \"We've built this illusion that we can talk about ourselves on the one hand and the environment on the other hand, says DeWitt. For him, the ramifications are greater than politics alone.\"I believe the very reputation of the gospel is at stake\" he says.He likens dimate change to the civil-rights movement of the 1960s, in which evangelicals did not act aggressively. \n",
      "\n",
      "\n",
      "Reviewers' comments willbe signed and published with the finalpaper, along with responsesby the author. Anauthor has the right not tomake suggested changes,but the suggestions will be there for anyone to see.Anauthor who disagrees with the comments canretract thepaper. National Center forBiotechnology Information and one of thejournal's lead editors.He believes readerswill get amore nuancedpictureof science. \"llike the directrelationship the author canhave with a reviewer,and thetransparency of the end result,\" saysDavid Lipman, director of the US Severaljournals,includingthe BMJ(BritishMedicalJournal）and the MedicalJournal of Australia, have experimented with naming peer reviewers, butBiology Direct is goingfurther by routinelyposting those reviews as part ofthe paper. \n",
      "\n",
      "\n"
     ]
    }
   ],
   "source": [
    "for i in redo.text:\n",
    "    print(i,\"\\n\\n\")"
   ]
  },
  {
   "cell_type": "code",
   "execution_count": 23,
   "id": "5713a26e-cb90-41c9-8385-867838c8ce3e",
   "metadata": {},
   "outputs": [
    {
     "data": {
      "text/plain": [
       "retraction_context\n",
       "ARTICLE    412\n",
       "OTHER       28\n",
       "Name: count, dtype: int64"
      ]
     },
     "execution_count": 23,
     "metadata": {},
     "output_type": "execute_result"
    }
   ],
   "source": [
    "results_df2.retraction_context.value_counts()"
   ]
  },
  {
   "cell_type": "code",
   "execution_count": 25,
   "id": "b317f238-64af-4b36-9e21-241c0513a7d1",
   "metadata": {},
   "outputs": [
    {
     "data": {
      "text/plain": [
       "0      Discusses findings on axon growth and competit...\n",
       "1                Discusses retraction of a flawed paper.\n",
       "2       Discusses retraction of Jan Hendrik Schon's PhD.\n",
       "3            Discusses retraction of a dismissal letter.\n",
       "4              Discusses retraction of an ecstasy study.\n",
       "                             ...                        \n",
       "435           Discusses retraction of Demerec's results.\n",
       "436         Does not discuss article retraction context.\n",
       "437       Discusses appeal for retraction of criticisms.\n",
       "438          Discusses a retraction in academic context.\n",
       "439    Discusses retraction in the context of academi...\n",
       "Name: retraction_explanation, Length: 440, dtype: object"
      ]
     },
     "execution_count": 25,
     "metadata": {},
     "output_type": "execute_result"
    }
   ],
   "source": [
    "d(50)\n",
    "results_df2.retraction_explanation"
   ]
  },
  {
   "cell_type": "code",
   "execution_count": 245,
   "id": "3f3c0781-6dd7-43a6-ac95-aa46cd19ca90",
   "metadata": {},
   "outputs": [],
   "source": [
    "# first run:\n",
    "results_df=pd.read_json(\"2025-04-03 Retraction GPT3.json\")"
   ]
  },
  {
   "cell_type": "code",
   "execution_count": 98,
   "id": "5dde4d53-a8b7-4a5d-8798-f77eb2a32343",
   "metadata": {},
   "outputs": [
    {
     "data": {
      "text/html": [
       "<div>\n",
       "<style scoped>\n",
       "    .dataframe tbody tr th:only-of-type {\n",
       "        vertical-align: middle;\n",
       "    }\n",
       "\n",
       "    .dataframe tbody tr th {\n",
       "        vertical-align: top;\n",
       "    }\n",
       "\n",
       "    .dataframe thead th {\n",
       "        text-align: right;\n",
       "    }\n",
       "</style>\n",
       "<table border=\"1\" class=\"dataframe\">\n",
       "  <thead>\n",
       "    <tr style=\"text-align: right;\">\n",
       "      <th></th>\n",
       "      <th>retraction_context</th>\n",
       "      <th>retraction_explanation</th>\n",
       "    </tr>\n",
       "    <tr>\n",
       "      <th>name</th>\n",
       "      <th></th>\n",
       "      <th></th>\n",
       "    </tr>\n",
       "  </thead>\n",
       "  <tbody>\n",
       "    <tr>\n",
       "      <th>Nature1010</th>\n",
       "      <td>ARTICLE</td>\n",
       "      <td>Discusses findings on axon growth and competit...</td>\n",
       "    </tr>\n",
       "    <tr>\n",
       "      <th>Nature1017</th>\n",
       "      <td>ARTICLE</td>\n",
       "      <td>Discusses retraction of a flawed paper.</td>\n",
       "    </tr>\n",
       "    <tr>\n",
       "      <th>Nature1019</th>\n",
       "      <td>ARTICLE</td>\n",
       "      <td>Discusses retraction of Jan Hendrik Schon's PhD.</td>\n",
       "    </tr>\n",
       "    <tr>\n",
       "      <th>Nature1024</th>\n",
       "      <td>ARTICLE</td>\n",
       "      <td>Discusses retraction of a dismissal letter.</td>\n",
       "    </tr>\n",
       "    <tr>\n",
       "      <th>Nature1030</th>\n",
       "      <td>ARTICLE</td>\n",
       "      <td>Discusses retraction of an ecstasy study.</td>\n",
       "    </tr>\n",
       "    <tr>\n",
       "      <th>...</th>\n",
       "      <td>...</td>\n",
       "      <td>...</td>\n",
       "    </tr>\n",
       "    <tr>\n",
       "      <th>Science925</th>\n",
       "      <td>ARTICLE</td>\n",
       "      <td>Discusses retraction of Demerec's results.</td>\n",
       "    </tr>\n",
       "    <tr>\n",
       "      <th>Science930</th>\n",
       "      <td>OTHER</td>\n",
       "      <td>Does not discuss article retraction context.</td>\n",
       "    </tr>\n",
       "    <tr>\n",
       "      <th>Science952</th>\n",
       "      <td>ARTICLE</td>\n",
       "      <td>Discusses appeal for retraction of criticisms.</td>\n",
       "    </tr>\n",
       "    <tr>\n",
       "      <th>Science983</th>\n",
       "      <td>ARTICLE</td>\n",
       "      <td>Discusses a retraction in academic context.</td>\n",
       "    </tr>\n",
       "    <tr>\n",
       "      <th>Science983</th>\n",
       "      <td>ARTICLE</td>\n",
       "      <td>Discusses retraction in the context of academi...</td>\n",
       "    </tr>\n",
       "  </tbody>\n",
       "</table>\n",
       "<p>440 rows × 2 columns</p>\n",
       "</div>"
      ],
      "text/plain": [
       "           retraction_context  \\\n",
       "name                            \n",
       "Nature1010            ARTICLE   \n",
       "Nature1017            ARTICLE   \n",
       "Nature1019            ARTICLE   \n",
       "Nature1024            ARTICLE   \n",
       "Nature1030            ARTICLE   \n",
       "...                       ...   \n",
       "Science925            ARTICLE   \n",
       "Science930              OTHER   \n",
       "Science952            ARTICLE   \n",
       "Science983            ARTICLE   \n",
       "Science983            ARTICLE   \n",
       "\n",
       "                                       retraction_explanation  \n",
       "name                                                           \n",
       "Nature1010  Discusses findings on axon growth and competit...  \n",
       "Nature1017            Discusses retraction of a flawed paper.  \n",
       "Nature1019   Discusses retraction of Jan Hendrik Schon's PhD.  \n",
       "Nature1024        Discusses retraction of a dismissal letter.  \n",
       "Nature1030          Discusses retraction of an ecstasy study.  \n",
       "...                                                       ...  \n",
       "Science925         Discusses retraction of Demerec's results.  \n",
       "Science930       Does not discuss article retraction context.  \n",
       "Science952     Discusses appeal for retraction of criticisms.  \n",
       "Science983        Discusses a retraction in academic context.  \n",
       "Science983  Discusses retraction in the context of academi...  \n",
       "\n",
       "[440 rows x 2 columns]"
      ]
     },
     "execution_count": 98,
     "metadata": {},
     "output_type": "execute_result"
    }
   ],
   "source": [
    "results_df2"
   ]
  },
  {
   "cell_type": "code",
   "execution_count": 102,
   "id": "c8086c7b-a85a-40d3-8795-742a5195b8c1",
   "metadata": {},
   "outputs": [],
   "source": [
    "try:\n",
    "\n",
    "    dfx.set_index(\"name\", inplace=True)\n",
    "except:\n",
    "    dfx[\"name\"]=dfx.index\n",
    "    \n",
    "\n",
    "try:\n",
    "    results_df2.drop_duplicates(subset=\"name\").set_index(\"name\", inplace=True)\n",
    "except:\n",
    "    results_df2[\"name\"]=results_df2.index\n",
    "\n",
    "\n",
    "dfx.update(results_df2)"
   ]
  },
  {
   "cell_type": "code",
   "execution_count": 93,
   "id": "9d3c54c5-9277-410f-81f3-0b2d7973c78b",
   "metadata": {},
   "outputs": [],
   "source": [
    "dfx=pd.read_json('2025-04-03 full data with GPT4o-mini_response.json')\n",
    "dfx=dfx.sort_values(\"folder\",ascending=False) # this keeps the \"relvant_final\"\n",
    "dfx[\"name\"]=dfx.path.apply(lambda x: x.rsplit(\"\\\\\",1)[-1].split(\".\")[0])\n",
    "dfx.drop_duplicates(subset=\"name\",inplace=True)"
   ]
  },
  {
   "cell_type": "code",
   "execution_count": 90,
   "id": "379ac18f-fe48-4d35-be84-8eef87b7d9c5",
   "metadata": {},
   "outputs": [],
   "source": []
  },
  {
   "cell_type": "code",
   "execution_count": null,
   "id": "7315b72a-d2e0-48fa-a541-22827ffbb0a4",
   "metadata": {},
   "outputs": [],
   "source": [
    "\n"
   ]
  },
  {
   "cell_type": "code",
   "execution_count": 300,
   "id": "7016f4e5-dff0-4a42-ad67-f241104f10dd",
   "metadata": {},
   "outputs": [],
   "source": [
    "#df[\"name\"]=df.index\n",
    "#dfx=pd.merge(df,results_df,on=\"name\",how=\"left\")\n",
    "#dfx[dfx[\"retraction_context\"]==\"OTHER\"].folder.value_counts()\n"
   ]
  },
  {
   "cell_type": "code",
   "execution_count": 103,
   "id": "d68c677d-f0f4-47c8-92a0-713258957df4",
   "metadata": {},
   "outputs": [
    {
     "data": {
      "text/plain": [
       "(399, 18)"
      ]
     },
     "execution_count": 103,
     "metadata": {},
     "output_type": "execute_result"
    }
   ],
   "source": [
    "d(50)\n",
    "redo=dfx[(dfx[\"retraction_context\"]==\"ARTICLE\") & (dfx[\"relevant\"]!=True) ]\n",
    "redo.shape\n",
    "#for i in redo.text[:10]:\n",
    "    #print(i,\"\\n\\n\")\n"
   ]
  },
  {
   "cell_type": "code",
   "execution_count": 106,
   "id": "1eaadf7f-e86f-48f9-9a52-159a5538761a",
   "metadata": {},
   "outputs": [],
   "source": [
    "dfx.to_json(\"2025-04-03 Retraction GPT4o-mini.json\")"
   ]
  },
  {
   "cell_type": "code",
   "execution_count": 105,
   "id": "3cac130b-fcc6-4e69-b1de-5723483c2dc7",
   "metadata": {},
   "outputs": [
    {
     "data": {
      "text/plain": [
       "retraction_context\n",
       "ARTICLE    1391\n",
       "OTHER      1042\n",
       "Name: count, dtype: int64"
      ]
     },
     "execution_count": 105,
     "metadata": {},
     "output_type": "execute_result"
    }
   ],
   "source": [
    "#dfx[\"retraction_context\"]=dfx.retraction_context.str.replace('CATEGORY: ARTICLE',\"ARTICLE\")\n",
    "dfx.retraction_context.value_counts()"
   ]
  },
  {
   "cell_type": "code",
   "execution_count": null,
   "id": "4a3597ae-1b2f-4ee2-ba8e-c6c9963f9116",
   "metadata": {},
   "outputs": [],
   "source": []
  },
  {
   "cell_type": "code",
   "execution_count": 356,
   "id": "acf10557-ea20-4e7a-b43e-66ee9fd1289e",
   "metadata": {
    "scrolled": true
   },
   "outputs": [
    {
     "name": "stderr",
     "output_type": "stream",
     "text": [
      "100%|████████████████████████████████████████████████████████████████████████████████| 399/399 [08:45<00:00,  1.32s/it]\n"
     ]
    }
   ],
   "source": [
    "def OpenAI_request(row):\n",
    "    \n",
    "    try:\n",
    "        name = row.name  # Access the index (name)\n",
    "        text = row['text']  # Access the text column\n",
    "        question_text=f\"The following text with the ID '{name}' must be classified: \\n{text}\"\n",
    "\n",
    "\n",
    "        \n",
    "        completion = client.chat.completions.create(\n",
    "        model=\"gpt-4o-mini\",\n",
    "        messages=[{\"role\": \"system\", \"content\": general_introduction+mistake_def+misconduct_def+none_def},\n",
    "            {\"role\": \"user\",\"content\": question_text}])\n",
    "        \n",
    "        result=completion.choices[0].message.content.split(\" <SEP> \")\n",
    "\n",
    "\n",
    "    \n",
    "    except:\n",
    "        print(f\"error with row:\\n {row}.\")\n",
    "        result=[row.name,None,None]\n",
    "    return result\n",
    "\n",
    "result_class=redo.progress_apply(OpenAI_request, axis=1)\n",
    "\n",
    "    "
   ]
  },
  {
   "cell_type": "code",
   "execution_count": null,
   "id": "2eb70755-38bb-4513-8103-072e0cf6cc1f",
   "metadata": {
    "collapsed": true,
    "jupyter": {
     "outputs_hidden": true
    }
   },
   "outputs": [],
   "source": []
  },
  {
   "cell_type": "code",
   "execution_count": 357,
   "id": "6a83279a-c0d5-4255-987b-8ca80514e022",
   "metadata": {},
   "outputs": [],
   "source": [
    "result_pretty=result_class.apply(lambda x: x[0].split(\"<SEP>\") if \"<SEP>\" in x[0] else x)\n",
    "result_pretty=result_pretty.apply(lambda x: [i.lstrip(\"ID, category, explanation'\\n\").strip('\"').strip(\"'\").strip(\": ```csv\\n'\") for i in x])\n",
    "result_pretty=result_pretty.apply(lambda x: [i for i in x if (i!=\"ID\") and (i!=\"category\") and (i!=\"\")])"
   ]
  },
  {
   "cell_type": "code",
   "execution_count": 358,
   "id": "53307602-2f14-41e3-8096-13e05e4f2021",
   "metadata": {},
   "outputs": [
    {
     "data": {
      "text/plain": [
       "array([], dtype=object)"
      ]
     },
     "execution_count": 358,
     "metadata": {},
     "output_type": "execute_result"
    }
   ],
   "source": [
    "result_pretty[result_pretty.apply(lambda x: len(x)>3)].values"
   ]
  },
  {
   "cell_type": "code",
   "execution_count": 359,
   "id": "67cbd281-1d75-4aa8-85b7-50dbb3480790",
   "metadata": {},
   "outputs": [],
   "source": [
    "results_df=pd.DataFrame(result_pretty.to_list(), columns=['name', 'category', 'explanation'])\n",
    "\n"
   ]
  },
  {
   "cell_type": "code",
   "execution_count": 55,
   "id": "ac7eb259-96b8-46d6-9ae6-303308e7bb64",
   "metadata": {
    "collapsed": true,
    "jupyter": {
     "outputs_hidden": true
    }
   },
   "outputs": [],
   "source": []
  },
  {
   "cell_type": "code",
   "execution_count": 368,
   "id": "960a35bc-deef-4a7e-9b4f-f10886c7b840",
   "metadata": {},
   "outputs": [
    {
     "data": {
      "text/plain": [
       "category\n",
       "Misconduct    767\n",
       "Mistake       236\n",
       "None          147\n",
       "Name: count, dtype: int64"
      ]
     },
     "execution_count": 368,
     "metadata": {},
     "output_type": "execute_result"
    }
   ],
   "source": [
    "category.category.value_counts()\n"
   ]
  },
  {
   "cell_type": "code",
   "execution_count": 364,
   "id": "53c32459-6413-44b8-9e4b-3d2a143c7bb9",
   "metadata": {},
   "outputs": [],
   "source": [
    "old=pd.read_csv('2025-02-24 data with GPT4o-mini_response.csv')"
   ]
  },
  {
   "cell_type": "code",
   "execution_count": 399,
   "id": "23ea89a7-1d68-4294-958c-6830e49999b5",
   "metadata": {},
   "outputs": [
    {
     "data": {
      "text/html": [
       "<div>\n",
       "<style scoped>\n",
       "    .dataframe tbody tr th:only-of-type {\n",
       "        vertical-align: middle;\n",
       "    }\n",
       "\n",
       "    .dataframe tbody tr th {\n",
       "        vertical-align: top;\n",
       "    }\n",
       "\n",
       "    .dataframe thead th {\n",
       "        text-align: right;\n",
       "    }\n",
       "</style>\n",
       "<table border=\"1\" class=\"dataframe\">\n",
       "  <thead>\n",
       "    <tr style=\"text-align: right;\">\n",
       "      <th></th>\n",
       "      <th>name</th>\n",
       "      <th>category</th>\n",
       "      <th>explanation</th>\n",
       "    </tr>\n",
       "  </thead>\n",
       "  <tbody>\n",
       "    <tr>\n",
       "      <th>0</th>\n",
       "      <td>Nature1</td>\n",
       "      <td>NaN</td>\n",
       "      <td>The text describes the return of a dinosaur fo...</td>\n",
       "    </tr>\n",
       "    <tr>\n",
       "      <th>1</th>\n",
       "      <td>Nature100</td>\n",
       "      <td>Misconduct</td>\n",
       "      <td>The text emphasizes allegations of scientific ...</td>\n",
       "    </tr>\n",
       "    <tr>\n",
       "      <th>2</th>\n",
       "      <td>Nature1002</td>\n",
       "      <td>Mistake</td>\n",
       "      <td>The text discusses historical errors in the ci...</td>\n",
       "    </tr>\n",
       "    <tr>\n",
       "      <th>3</th>\n",
       "      <td>Nature1003</td>\n",
       "      <td>Misconduct</td>\n",
       "      <td>The text indicates issues regarding the credib...</td>\n",
       "    </tr>\n",
       "    <tr>\n",
       "      <th>4</th>\n",
       "      <td>Nature1006</td>\n",
       "      <td>Misconduct</td>\n",
       "      <td>The text discusses the actions of Tony Leadon,...</td>\n",
       "    </tr>\n",
       "    <tr>\n",
       "      <th>...</th>\n",
       "      <td>...</td>\n",
       "      <td>...</td>\n",
       "      <td>...</td>\n",
       "    </tr>\n",
       "    <tr>\n",
       "      <th>1049</th>\n",
       "      <td>Science645</td>\n",
       "      <td>Misconduct</td>\n",
       "      <td>The text describes a case of scientific miscon...</td>\n",
       "    </tr>\n",
       "    <tr>\n",
       "      <th>1050</th>\n",
       "      <td>Science928</td>\n",
       "      <td>NaN</td>\n",
       "      <td>The text discusses the role of controversy and...</td>\n",
       "    </tr>\n",
       "    <tr>\n",
       "      <th>1051</th>\n",
       "      <td>Science983</td>\n",
       "      <td>Mistake</td>\n",
       "      <td>The text discusses misstatements and misunders...</td>\n",
       "    </tr>\n",
       "    <tr>\n",
       "      <th>1052</th>\n",
       "      <td>Nature1358</td>\n",
       "      <td>Mistake</td>\n",
       "      <td>The text highlights multiple discrepancies in ...</td>\n",
       "    </tr>\n",
       "    <tr>\n",
       "      <th>1053</th>\n",
       "      <td>Nature1765</td>\n",
       "      <td>NaN</td>\n",
       "      <td>The text discusses prehistoric art, highlighti...</td>\n",
       "    </tr>\n",
       "  </tbody>\n",
       "</table>\n",
       "<p>1054 rows × 3 columns</p>\n",
       "</div>"
      ],
      "text/plain": [
       "            name    category  \\\n",
       "0        Nature1         NaN   \n",
       "1      Nature100  Misconduct   \n",
       "2     Nature1002     Mistake   \n",
       "3     Nature1003  Misconduct   \n",
       "4     Nature1006  Misconduct   \n",
       "...          ...         ...   \n",
       "1049  Science645  Misconduct   \n",
       "1050  Science928         NaN   \n",
       "1051  Science983     Mistake   \n",
       "1052  Nature1358     Mistake   \n",
       "1053  Nature1765         NaN   \n",
       "\n",
       "                                            explanation  \n",
       "0     The text describes the return of a dinosaur fo...  \n",
       "1     The text emphasizes allegations of scientific ...  \n",
       "2     The text discusses historical errors in the ci...  \n",
       "3     The text indicates issues regarding the credib...  \n",
       "4     The text discusses the actions of Tony Leadon,...  \n",
       "...                                                 ...  \n",
       "1049  The text describes a case of scientific miscon...  \n",
       "1050  The text discusses the role of controversy and...  \n",
       "1051  The text discusses misstatements and misunders...  \n",
       "1052  The text highlights multiple discrepancies in ...  \n",
       "1053  The text discusses prehistoric art, highlighti...  \n",
       "\n",
       "[1054 rows x 3 columns]"
      ]
     },
     "execution_count": 399,
     "metadata": {},
     "output_type": "execute_result"
    }
   ],
   "source": [
    "old"
   ]
  },
  {
   "cell_type": "code",
   "execution_count": 6,
   "id": "3a998710-f2ae-424a-bce6-eac87d781e80",
   "metadata": {},
   "outputs": [],
   "source": []
  },
  {
   "cell_type": "code",
   "execution_count": 367,
   "id": "65b1a971-dea0-471d-a6eb-b436179a6ab2",
   "metadata": {},
   "outputs": [],
   "source": [
    "category=pd.concat([old,results_df], ignore_index=True)\n",
    "category.to_csv('2025-04-03 data with GPT4o-mini_response.csv', index=False)"
   ]
  },
  {
   "cell_type": "code",
   "execution_count": 362,
   "id": "673a71e2-ff58-4233-a7db-0110e6ef7801",
   "metadata": {},
   "outputs": [
    {
     "data": {
      "text/plain": [
       "name\n",
       "Nature     1637\n",
       "Science     795\n",
       "TEXT          1\n",
       "TNature       1\n",
       "Name: count, dtype: int64"
      ]
     },
     "execution_count": 362,
     "metadata": {},
     "output_type": "execute_result"
    }
   ],
   "source": [
    "results.name.str.rstrip(\"09876543212\").value_counts()"
   ]
  },
  {
   "cell_type": "code",
   "execution_count": 363,
   "id": "e1da517b-3dce-4a8c-927d-8829cc262686",
   "metadata": {},
   "outputs": [
    {
     "data": {
      "text/plain": [
       "retraction_context\n",
       "ARTICLE    1391\n",
       "OTHER      1042\n",
       "Name: count, dtype: int64"
      ]
     },
     "execution_count": 363,
     "metadata": {},
     "output_type": "execute_result"
    }
   ],
   "source": [
    "dfx[\"retraction_context\"].value_counts()"
   ]
  },
  {
   "cell_type": "code",
   "execution_count": 388,
   "id": "f1e12f7c-992d-44c4-92eb-63aaa1f03ad6",
   "metadata": {},
   "outputs": [],
   "source": [
    "dfx.reset_index(drop = True, inplace = True)\n",
    "dfx2=pd.merge(dfx,category,on=\"name\",how=\"outer\")\n",
    "\n"
   ]
  },
  {
   "cell_type": "code",
   "execution_count": 112,
   "id": "841ecb5d-1454-4e86-9957-a672d6049d5e",
   "metadata": {},
   "outputs": [
    {
     "data": {
      "text/plain": [
       "retraction_context\n",
       "ARTICLE    1391\n",
       "OTHER      1042\n",
       "Name: count, dtype: int64"
      ]
     },
     "execution_count": 112,
     "metadata": {},
     "output_type": "execute_result"
    }
   ],
   "source": [
    "dfx[\"retraction_context\"].value_counts()"
   ]
  },
  {
   "cell_type": "code",
   "execution_count": 108,
   "id": "10b62fb4-ddd1-4409-a0d6-162b97ad9cf6",
   "metadata": {},
   "outputs": [],
   "source": [
    "dfx.to_csv('2025-04-03 full data with GPT4o-mini_response.csv', index=False)\n",
    "dfx.to_json('2025-04-03 full data with GPT4o-mini_response.json', index=False)"
   ]
  }
 ],
 "metadata": {
  "kernelspec": {
   "display_name": "Python 3 (ipykernel)",
   "language": "python",
   "name": "python3"
  },
  "language_info": {
   "codemirror_mode": {
    "name": "ipython",
    "version": 3
   },
   "file_extension": ".py",
   "mimetype": "text/x-python",
   "name": "python",
   "nbconvert_exporter": "python",
   "pygments_lexer": "ipython3",
   "version": "3.13.2"
  }
 },
 "nbformat": 4,
 "nbformat_minor": 5
}

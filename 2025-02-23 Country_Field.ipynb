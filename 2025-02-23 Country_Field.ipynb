{
 "cells": [
  {
   "cell_type": "code",
   "execution_count": 1,
   "id": "70a71744-1b87-48bf-8be6-e4161bc6505d",
   "metadata": {},
   "outputs": [],
   "source": [
    "from collections import Counter\n",
    "\n",
    "import pandas as pd\n",
    "import matplotlib.pyplot as plt\n",
    "\n",
    "from tqdm import tqdm # progress apply :)\n",
    "tqdm.pandas()\n",
    "\n",
    "from datetime import datetime\n",
    "today=datetime.today().strftime('%Y-%m-%d')\n",
    "\n",
    "%load_ext autoreload\n",
    "%autoreload 2\n",
    "def d(l):\n",
    "    pd.set_option('display.max_colwidth', l)\n",
    "\n",
    "\n"
   ]
  },
  {
   "cell_type": "code",
   "execution_count": 5,
   "id": "00add7dd-269a-43fa-821a-9afb395950ff",
   "metadata": {},
   "outputs": [],
   "source": [
    "new_articles=pd.read_excel(\"2025-04-26 Manual Annotation results_Inclusion.xlsx\")[[\"ID\",\"text\"]]\n"
   ]
  },
  {
   "cell_type": "code",
   "execution_count": 7,
   "id": "6ecc24f1-7995-421e-8e80-d81e95ebbeba",
   "metadata": {},
   "outputs": [],
   "source": [
    "# ensure that lists are read as list and not as strings\n",
    "from ast import literal_eval\n",
    "columns_to_convert=[\"texts\",\"labels\",\"retraction_counts\",\"has_retraction\",\"has_retraction_label\"]\n",
    "converters = {col: literal_eval for col in columns_to_convert}\n",
    "\n",
    "#df=pd.read_csv(\"2025-04-03 PDF Import complete.csv\",index_col=0, converters=converters, encoding='utf-8')\n",
    "df=pd.read_json(\"2025-04-03 PDF Import complete.json\")\n",
    "#df[\"text\"]=df[\"text\"].apply(lambda x: \" \".join(x))\n",
    "df.dropna(subset=\"texts\",inplace=True)"
   ]
  },
  {
   "cell_type": "code",
   "execution_count": null,
   "id": "f967fe53-f4d0-48e0-b3d7-ab614dca40d0",
   "metadata": {},
   "outputs": [],
   "source": []
  },
  {
   "cell_type": "code",
   "execution_count": null,
   "id": "7960ab4f-8ebc-44b6-98bf-1835a52961b0",
   "metadata": {},
   "outputs": [],
   "source": []
  },
  {
   "cell_type": "code",
   "execution_count": 9,
   "id": "85e11918-e3ca-4624-970b-123bffb17118",
   "metadata": {},
   "outputs": [
    {
     "data": {
      "text/plain": [
       "labels\n",
       "text                   120744\n",
       "section_header          21246\n",
       "list_item               11386\n",
       "caption                  2092\n",
       "page_header               365\n",
       "footnote                  314\n",
       "formula                   192\n",
       "checkbox_unselected        83\n",
       "paragraph                  28\n",
       "checkbox_selected           5\n",
       "code                        4\n",
       "Name: count, dtype: int64"
      ]
     },
     "execution_count": 9,
     "metadata": {},
     "output_type": "execute_result"
    }
   ],
   "source": [
    "df.labels.explode().value_counts()"
   ]
  },
  {
   "cell_type": "code",
   "execution_count": null,
   "id": "03e0a26b-b287-43b7-b717-5ac59ef5002a",
   "metadata": {},
   "outputs": [],
   "source": []
  },
  {
   "cell_type": "code",
   "execution_count": 11,
   "id": "f6051208-0b56-455a-947b-13df307ae77f",
   "metadata": {},
   "outputs": [
    {
     "name": "stdout",
     "output_type": "stream",
     "text": [
      "55.03306366514246\n",
      "1.737952866690116\n",
      "6.58353851565248\n",
      "3.442842068237777\n"
     ]
    }
   ],
   "source": [
    "from MyLib import labelfilter\n",
    "\n",
    "# Apply the functions to create new columns\n",
    "filtered_texts = df.apply(lambda row: labelfilter.filter_texts(row['texts'], row['retraction_counts']), axis=1)\n",
    "neighboring_texts = df.apply(lambda row: labelfilter.get_neighboring_texts(row['texts'], row['retraction_counts']), axis=1)\n",
    "texts_until_section_header = df.apply(lambda row: labelfilter.get_texts_until_section_header(row['texts'], row['labels'], row['retraction_counts']), axis=1)\n",
    "\n",
    "for i in [df.texts, filtered_texts,neighboring_texts,texts_until_section_header]:\n",
    "    print(i.str.len().mean())"
   ]
  },
  {
   "cell_type": "code",
   "execution_count": 13,
   "id": "557c94da-e740-4fec-b0ef-4af98d3ec12d",
   "metadata": {},
   "outputs": [],
   "source": [
    "df[\"text\"]=neighboring_texts.apply(lambda x: \" \".join(x))"
   ]
  },
  {
   "cell_type": "code",
   "execution_count": 15,
   "id": "1766e7e5-d276-4959-b6c8-9d35141aafd5",
   "metadata": {},
   "outputs": [
    {
     "name": "stdout",
     "output_type": "stream",
     "text": [
      "(2843, 10)\n",
      "(2084, 10)\n"
     ]
    }
   ],
   "source": [
    "print(df.shape)\n",
    "df.drop_duplicates(subset=\"text\",inplace=True)\n",
    "print(df.shape)"
   ]
  },
  {
   "cell_type": "code",
   "execution_count": 17,
   "id": "94a9bcdd-5c90-4f28-9d5c-4ace1d75229d",
   "metadata": {},
   "outputs": [
    {
     "name": "stderr",
     "output_type": "stream",
     "text": [
      "100%|███████████████████████████████████████| 2084/2084 [01:00<00:00, 34.47it/s]\n"
     ]
    }
   ],
   "source": [
    "import spacy\n",
    "nlp = spacy.load(\"en_core_web_sm\")\n",
    "\n",
    "def extract_nouns(text):\n",
    "    doc = nlp(text)\n",
    "    results=[]\n",
    "    for token in doc:\n",
    "        # Check if the token is a noun\n",
    "        if token.pos_ == \"NOUN\" or token.pos_ ==\"ADJ\"or token.pos_ ==\"PROPN\":\n",
    "\n",
    "            if len(token.text)>2:\n",
    "                results.append(token.lemma_)\n",
    "    \n",
    "    return results\n",
    "\n",
    "\n",
    "# Assuming df_PDF is a pandas DataFrame and 'text' is a column in it\n",
    "df[\"noun_adj\"] = df[\"text\"].progress_apply(extract_nouns)"
   ]
  },
  {
   "cell_type": "code",
   "execution_count": 18,
   "id": "fd15733b-1518-41d8-b953-cbc918efc372",
   "metadata": {},
   "outputs": [
    {
     "data": {
      "text/plain": [
       "noun_adj\n",
       "more             1059\n",
       "scientist         998\n",
       "science           978\n",
       "investigation     948\n",
       "part              928\n",
       "experiment        890\n",
       "Science           855\n",
       "same              849\n",
       "group             841\n",
       "surface           812\n",
       "first             795\n",
       "high              781\n",
       "misconduct        748\n",
       "large             745\n",
       "small             732\n",
       "system            725\n",
       "editor            718\n",
       "number            707\n",
       "article           702\n",
       "great             686\n",
       "Name: count, dtype: int64"
      ]
     },
     "execution_count": 18,
     "metadata": {},
     "output_type": "execute_result"
    }
   ],
   "source": [
    "df[\"noun_adj\"].explode().value_counts()[20:40]"
   ]
  },
  {
   "cell_type": "code",
   "execution_count": 19,
   "id": "0dd4b808-e41b-484d-bf01-f485c5514303",
   "metadata": {},
   "outputs": [
    {
     "data": {
      "text/plain": [
       "65458"
      ]
     },
     "execution_count": 19,
     "metadata": {},
     "output_type": "execute_result"
    }
   ],
   "source": [
    "noun_adj_propn=df[\"noun_adj\"].explode().drop_duplicates().to_list()\n",
    "len(noun_adj_propn)"
   ]
  },
  {
   "cell_type": "markdown",
   "id": "9271a0e3-6d34-4fcf-9295-c2c6df038d71",
   "metadata": {},
   "source": [
    "# Academic Fields"
   ]
  },
  {
   "cell_type": "code",
   "execution_count": 21,
   "id": "64f3579a-66c3-445b-974d-c958d7c1f83d",
   "metadata": {},
   "outputs": [
    {
     "name": "stdout",
     "output_type": "stream",
     "text": [
      "[nan 'Performing Arts' 'Visual Arts' 'History' 'Languages and Literature'\n",
      " 'Law' 'Philosophy' 'Anthropology' 'Economics' 'Geography'\n",
      " 'Political Science' 'Psychology' 'Sociology' 'Social Work' 'Biology'\n",
      " 'Chemistry' 'Earth Science' 'Space Sciences' 'Physics' 'Computer Science'\n",
      " 'Mathematics' 'Business' 'Engineering and Technology'\n",
      " 'Medicine and Health']\n",
      "['Humanities' 'Social Sciences' 'Natural Sciences' 'Formal Sciences'\n",
      " 'Applied Sciences']\n"
     ]
    },
    {
     "data": {
      "text/plain": [
       "Index(['Domain', 'Field', 'Category', 'Subcategory', 'Subject', 'Discipline'], dtype='object')"
      ]
     },
     "execution_count": 21,
     "metadata": {},
     "output_type": "execute_result"
    }
   ],
   "source": [
    "#https://github.com/kyletscheer/academic-disciplines\n",
    "\n",
    "df_academic_fields=pd.read_excel(\"2024-11-14 Academic Disciplines List.xlsx\",index_col=\"ID\")\n",
    "print(df_academic_fields.Field.unique())\n",
    "\n",
    "print(df_academic_fields.Domain.unique())\n",
    "df_academic_fields.columns"
   ]
  },
  {
   "cell_type": "code",
   "execution_count": 22,
   "id": "f5829f5f-c5d4-4728-9a99-2cfcaecbf3f7",
   "metadata": {},
   "outputs": [],
   "source": [
    "df_academic_fields['combined']= df_academic_fields[[\"Field\",'Category', 'Subcategory', 'Subject', 'Discipline']].values.tolist()\n",
    "df_academic_fields=pd.DataFrame(df_academic_fields.groupby(\"Field\")[\"combined\"].agg(lambda x: list(set(sum(x, [])))))"
   ]
  },
  {
   "cell_type": "code",
   "execution_count": 23,
   "id": "ee19eb10-8cc0-4892-93eb-a829dbfe2769",
   "metadata": {},
   "outputs": [
    {
     "data": {
      "text/plain": [
       "Field\n",
       "Anthropology                  [Archaeology, Biological anthropology, Social ...\n",
       "Biology                       [Forensic pathology, Biotechnology , Comparati...\n",
       "Business                      [Business, Operations management, Business man...\n",
       "Chemistry                     [Geochemistry, Agrochemistry, Flow chemistry, ...\n",
       "Computer Science              [Wireless computing , Scientific visualization...\n",
       "Earth Science                 [Geochemistry, Geodesy, Edaphology / Pedology ...\n",
       "Economics                     [Economic systems, Ecological economics, Welfa...\n",
       "Engineering and Technology    [Thermodynamics, Systems psychology, Power eng...\n",
       "Geography                     [Geochemistry, Health geography, Palaeontology...\n",
       "History                       [American history, Scientific history, Humanis...\n",
       "Languages and Literature      [Syntax, Medieval literature, Phonetics, Poetr...\n",
       "Law                           [Contract law, Corporations, Civil procedure, ...\n",
       "Mathematics                   [Demography, Set theory, Algebraic number theo...\n",
       "Medicine and Health           [Alternative medicine, Nutrition and dietetics...\n",
       "Performing Arts               [Television studies, Musicology, Choreography,...\n",
       "Philosophy                    [Reasoning errors, Bioethics, Philosophical lo...\n",
       "Physics                       [Thermodynamics, Plasma physics, Condensed mat...\n",
       "Political Science             [Civics, American politics, Public law, Compar...\n",
       "Psychology                    [Clinical neuropsychology, Positive psychology...\n",
       "Social Work                   [Financial social work, Mental health, Social ...\n",
       "Sociology                     [Political sociology, Collective behavior, Fig...\n",
       "Space Sciences                [Helioseismology, Astronomy , Space Sciences, ...\n",
       "Visual Arts                   [Decorative arts, Technical drawing, Studio ar...\n",
       "Name: combined, dtype: object"
      ]
     },
     "execution_count": 23,
     "metadata": {},
     "output_type": "execute_result"
    }
   ],
   "source": [
    "import regex as re\n",
    "df_academic_fields['combined']=df_academic_fields['combined'].apply(lambda x: [re.sub(r' ?\\((.*?)\\) ?',\"\",i) for i in x if isinstance(i,str)])\n",
    "df_academic_fields['combined']=df_academic_fields['combined'].apply(lambda x: [i for i in x if re.search(\" of \",i)==None]) # remove philosophy of AI and taht shit\n",
    "df_academic_fields['combined']"
   ]
  },
  {
   "cell_type": "code",
   "execution_count": 24,
   "id": "77ab2847-df98-4f1d-92d4-979cc05bdadf",
   "metadata": {},
   "outputs": [
    {
     "data": {
      "text/plain": [
       "(22024, 676)"
      ]
     },
     "execution_count": 24,
     "metadata": {},
     "output_type": "execute_result"
    }
   ],
   "source": [
    "all_jobs=\", \".join(set(df_academic_fields['combined'].explode().dropna()))\n",
    "all_jobs_propn=extract_nouns(all_jobs)\n",
    "all_jobs_propn_reduced=set(all_jobs_propn) & set(noun_adj_propn)\n",
    "\n",
    "len(all_jobs), len(all_jobs_propn_reduced)"
   ]
  },
  {
   "cell_type": "code",
   "execution_count": 25,
   "id": "98dc2976-e6b3-4afc-bd02-a9c00ebaf54f",
   "metadata": {},
   "outputs": [
    {
     "data": {
      "text/plain": [
       "['Archaeology',\n",
       " 'Biological',\n",
       " 'anthropology',\n",
       " 'Social',\n",
       " 'anthropology',\n",
       " 'linguistic',\n",
       " 'anthropology',\n",
       " 'Cultural',\n",
       " 'anthropology',\n",
       " 'anthropology']"
      ]
     },
     "execution_count": 25,
     "metadata": {},
     "output_type": "execute_result"
    }
   ],
   "source": [
    "len(all_jobs_propn_reduced)\n",
    "df_academic_fields['combined'][\"Anthropology\"]\n",
    "\n",
    "extract_nouns(\" \".join(df_academic_fields['combined'][\"Anthropology\"]))"
   ]
  },
  {
   "cell_type": "code",
   "execution_count": 26,
   "id": "12975fe9-d74f-4900-b50f-6439e23f0406",
   "metadata": {},
   "outputs": [],
   "source": [
    "import regex as re\n",
    "pattern=re.compile(\"|\".join(all_jobs_propn_reduced))\n",
    "\n",
    "#exclude_pattern=re.compile(\"|\".join([\"real\",\"^sciences?\",\"^theory\",\"^law\",\"^studies\",\"^time\",\"methods\",\"outline\",\"scientific\",\"free\",\"world\",\"age\",\"non\"]),re.IGNORECASE)\n",
    "\n",
    "def check_if_relevant(text):\n",
    "    if isinstance(text,list):\n",
    "        text=[i for i in text if isinstance(i, str)]\n",
    "        # If none of the pattern lemmata is in the string, then the job is not relevant.\n",
    "        \n",
    "        text = [job for job in text if re.search(pattern, job)]\n",
    "        text = [re.sub(\" or|,\",\" and\",job) for job in text]\n",
    "        text2=([job.split(\" and \") for job in text  if \" and \"  in job ])\n",
    "        text2=[j for i in text2 for j in i]\n",
    "\n",
    "        text.extend(text2)\n",
    "        #text=[i for i in text if re.search(exclude_pattern,i)==None]\n",
    "        text=list(set(text))\n",
    "    return text\n",
    "\n",
    "df_academic_fields['combined_reduced']=df_academic_fields['combined'].apply(check_if_relevant)"
   ]
  },
  {
   "cell_type": "code",
   "execution_count": 27,
   "id": "b60ea8fa-d4de-4cca-89b5-a542f7e0f219",
   "metadata": {},
   "outputs": [
    {
     "data": {
      "text/plain": [
       "Field\n",
       "Anthropology                  [Archaeology, Biological anthropology, Social ...\n",
       "Biology                       [Marine biology, Neuroethology, Forensic patho...\n",
       "Business                      [Business, Operations management, Business man...\n",
       "Chemistry                     [Geochemistry, Agrochemistry, Flow chemistry, ...\n",
       "Computer Science              [Scientific visualization, Object database, Co...\n",
       "Earth Science                 [Geochemistry, Edaphology / Pedology or Soil s...\n",
       "Economics                     [Economic systems, Ecological economics, Welfa...\n",
       "Engineering and Technology    [Thermodynamics, Systems psychology, Power eng...\n",
       "Geography                     [Geochemistry, Health geography, Palaeontology...\n",
       "History                       [American history, Scientific history, Ancient...\n",
       "Languages and Literature      [Medieval literature, Poetry, Ancient literatu...\n",
       "Law                           [Contract law, Civil procedure, Constitutional...\n",
       "Mathematics                   [Algebraic number theory, Set theory, Calculus...\n",
       "Medicine and Health           [Alternative medicine, Bariatric surgery, Oral...\n",
       "Performing Arts               [Television studies, Musicology, Filmmaking, O...\n",
       "Philosophy                    [Bioethics, Reasoning errors, Philosophical lo...\n",
       "Physics                       [Thermodynamics, Plasma physics, Condensed mat...\n",
       "Political Science             [American politics, Public law, Comparative po...\n",
       "Psychology                    [Clinical neuropsychology, Positive psychology...\n",
       "Social Work                   [Financial social work, Social Work, Mental he...\n",
       "Sociology                     [Social transformation, Policy sociology, Poli...\n",
       "Space Sciences                [Space Sciences, Optical astronomy, Galaxy for...\n",
       "Visual Arts                   [Historic preservation, Decorative arts, Lands...\n",
       "Name: combined_reduced, dtype: object"
      ]
     },
     "execution_count": 27,
     "metadata": {},
     "output_type": "execute_result"
    }
   ],
   "source": [
    "df_academic_fields['combined_reduced']"
   ]
  },
  {
   "cell_type": "code",
   "execution_count": 28,
   "id": "748b0ff8-be2f-44dc-92e1-841aa6715a58",
   "metadata": {},
   "outputs": [],
   "source": [
    "job_ext_dict={\n",
    "    \"y\":[\"ists?\",\"ers?\",\"ians?\", \"ysts?\",\"y\"],\n",
    "    \"chemistry\":[\"Chemists?\"],\n",
    "    \"law\":[\"legal scholars?\",\"legal reseachers?\",\"law scholars?\"],\n",
    "    \"ics\":[\"ists?\",\"isists?\",\"icians?\",\"ics\"], ## but lots of ethics\n",
    "    \" studies\": [\" scholars?\", \" researchers?\",\" scientists?\",\" studies\"],\n",
    "    \" sciences\": [\" scholars?\",\" researchers?\",\" scientists?\",\" sciences\"],\n",
    "    \"ine\":  [\"ists?\",\"ine\"],\n",
    "    \"ion\":[\"ists?\",\"ors?\",\"ion\"],\n",
    "    \"sition\":[\"nists?\",\"ners?\",\"sition\"],\n",
    "    \"design\":[\"designers?\",\"design researchers?\",\"design\"],\n",
    "    \"sis\":[\"ysts?\",\"ists?\",\"sis researchers?\",\"sis scientists?\"],\n",
    "    \"engineering\":[\"engineers?\",\"engineering\"],\n",
    "    \"programming\":[\"programmers?\"]}\n",
    "\n",
    "\n",
    "\n",
    "\n",
    "def add_jobs(job_list):\n",
    "    job_list=list(set(job_list))\n",
    "    new_list=[]\n",
    "    all_keys=re.compile(\"|\".join([k+\"$\" for k in job_ext_dict.keys()]),flags=re.IGNORECASE)\n",
    "\n",
    "    for job in job_list:\n",
    "        important_key=re.search(all_keys,job)\n",
    "        if important_key!=None:\n",
    "\n",
    "            important_key=important_key.group().lower()\n",
    "            #print(important_key)\n",
    "            v=job_ext_dict[important_key]\n",
    "            #print(re.match(all_keys,job))\n",
    "            for v_item in v:\n",
    "                #print(job, v_item,important_key)\n",
    "                new_job=re.sub(important_key+\"$\", v_item, job, flags=re.IGNORECASE)\n",
    "               # print(job,new_job)\n",
    "                new_list.append(new_job)\n",
    "        else:\n",
    "            for i in [\"students?\",\"scholars?\",\"researchers?\",\"scientists?\"]:\n",
    "                new_job=f\"{job} {i}\"\n",
    "                new_list.append(new_job)\n",
    "\n",
    "        \n",
    "\n",
    "    #job_list+=new_list\n",
    "    #new_list+=job_list\n",
    "    return new_list\n",
    "\n",
    "df_academic_fields[\"combined_extended\"]=df_academic_fields[\"combined_reduced\"].apply(add_jobs)\n"
   ]
  },
  {
   "cell_type": "code",
   "execution_count": 29,
   "id": "56251e52-6a52-4524-92b7-da6a6e2ad342",
   "metadata": {},
   "outputs": [
    {
     "name": "stdout",
     "output_type": "stream",
     "text": [
      "3954\n"
     ]
    }
   ],
   "source": [
    "\n",
    "all_jobs=df_academic_fields[\"combined_extended\"].explode().dropna().drop_duplicates()\n",
    "all_jobs_tuple_list = list(zip(all_jobs.index, all_jobs.values))\n",
    "\n",
    "print(len(all_jobs.to_list()))\n",
    "#all_jobs[\"Physics\"].to_list()"
   ]
  },
  {
   "cell_type": "code",
   "execution_count": 30,
   "id": "b1f22d1d-8e3d-4d0b-a43c-bc7d438d1e22",
   "metadata": {},
   "outputs": [
    {
     "name": "stderr",
     "output_type": "stream",
     "text": [
      "100%|███████████████████████████████████████| 2084/2084 [00:35<00:00, 59.04it/s]\n"
     ]
    }
   ],
   "source": [
    "import regex as re\n",
    "\n",
    "all_jobs_ext_regex= re.compile(r\"\\b(\" + \"|\".join(all_jobs) + r\")\\b\"+r\"{i<=2:\\s}(?b)(?e)\", re.IGNORECASE)\n",
    "\n",
    "def keyword_check(text, re_pattern):\n",
    "    if isinstance(text,str):\n",
    "        matches=re.findall(re_pattern,text)\n",
    "        matches=[i for i in matches if i]\n",
    "        return matches\n",
    "\n",
    "df[\"all_jobs\"]=df[\"text\"].progress_apply(keyword_check, re_pattern=all_jobs_ext_regex)\n",
    "\n",
    "#df_PDF[\"all_jobs\"]=df_PDF[\"text\"].progress_apply(keyword_check, re_pattern=all_jobs_regex)"
   ]
  },
  {
   "cell_type": "code",
   "execution_count": 31,
   "id": "509aa099-394b-4e20-b839-d45163e24b01",
   "metadata": {},
   "outputs": [
    {
     "data": {
      "text/plain": [
       "all_jobs\n",
       "Technology     256\n",
       "Medicine       194\n",
       "Biology        186\n",
       "Physics        149\n",
       "Evolution      107\n",
       "Biologist       89\n",
       "Engineering     83\n",
       "Geology         71\n",
       "Chemist         55\n",
       "Physiology      55\n",
       "Anatomy         51\n",
       "Electricity     50\n",
       "Biologists      45\n",
       "Morphology      44\n",
       "Chemists        38\n",
       "Engineers       36\n",
       "Surgery         36\n",
       "Philosophy      34\n",
       "Geologists      27\n",
       "Mechanics       26\n",
       "Name: count, dtype: int64"
      ]
     },
     "execution_count": 31,
     "metadata": {},
     "output_type": "execute_result"
    }
   ],
   "source": [
    "# Most common Job names in the corpus\n",
    "df[\"all_jobs\"].explode().str.title().value_counts()[:20]"
   ]
  },
  {
   "cell_type": "code",
   "execution_count": 32,
   "id": "6c42828a-7973-487d-ac8a-f9b755a23503",
   "metadata": {},
   "outputs": [
    {
     "name": "stderr",
     "output_type": "stream",
     "text": [
      "100%|███████████████████████████████████████| 2084/2084 [06:09<00:00,  5.64it/s]\n"
     ]
    }
   ],
   "source": [
    "## fixed AMBIGUITY: Consider that the jobs can fit into multiple disciplines: if more than one discipline fits to the job --> ignore!\n",
    "\n",
    "def lookup(s, lookups):\n",
    "    matched_patterns = []  # Initialize an empty list to collect matches\n",
    "    for pattern, value in lookups:\n",
    "        if re.search(value, s, re.IGNORECASE):\n",
    "            matched_patterns.append(pattern) # Append the pattern to the list if there's a match\n",
    "    if len(matched_patterns)==1:\n",
    "        return matched_patterns[0]  # Return the list of matched patterns\n",
    "    else:\n",
    "        return None\n",
    "\n",
    "df[\"fields\"] = df[\"all_jobs\"].progress_apply(lambda x: [lookup(job, all_jobs_tuple_list) for job in x])\n"
   ]
  },
  {
   "cell_type": "code",
   "execution_count": 33,
   "id": "92f2c8fd-ea66-4470-97e6-bebd727c9380",
   "metadata": {},
   "outputs": [
    {
     "data": {
      "text/plain": [
       "<Axes: title={'center': 'academic fields (multiple per paper)'}, ylabel='count'>"
      ]
     },
     "execution_count": 33,
     "metadata": {},
     "output_type": "execute_result"
    },
    {
     "data": {
      "image/png": "[encoded data removed]",
      "text/plain": [
       "<Figure size 400x400 with 1 Axes>"
      ]
     },
     "metadata": {},
     "output_type": "display_data"
    }
   ],
   "source": [
    "Disciplines2=df[\"fields\"] .explode().value_counts()\n",
    "\n",
    "top_x=7\n",
    "top5=Disciplines2[:top_x]\n",
    "top5[\"others\"]=Disciplines2[top_x:].sum()\n",
    "top5.plot.pie(figsize=(4,4), title=\"academic fields (multiple per paper)\", autopct='%1.1f%%')"
   ]
  },
  {
   "cell_type": "code",
   "execution_count": 34,
   "id": "95943382-bfe5-40a6-93ab-952dd5d584ae",
   "metadata": {},
   "outputs": [],
   "source": [
    "\n",
    "# Function to find the most common fields per paper\n",
    "def most_common(fields):\n",
    "    if not fields or all(f is None for f in fields):  # Handle empty or None lists\n",
    "        return []\n",
    "    \n",
    "    # Count occurrences and find the max count\n",
    "    counts = pd.Series(fields).value_counts()\n",
    "    max_count = counts.max()\n",
    "    \n",
    "    # Return all fields with the max count\n",
    "    return counts[counts == max_count].index.tolist()\n",
    "\n",
    "# Apply the function to the 'fields' column\n",
    "df['most_common_fields'] = df[\"fields\"].apply(most_common)"
   ]
  },
  {
   "cell_type": "code",
   "execution_count": 35,
   "id": "dc637e5b-7f69-4419-9203-4e85adc822b8",
   "metadata": {},
   "outputs": [
    {
     "data": {
      "text/plain": [
       "Science113            [Physics, Chemistry]\n",
       "Science116                              []\n",
       "Science119                              []\n",
       "Science149                       [Biology]\n",
       "Science159                              []\n",
       "                          ...             \n",
       "Nature277                               []\n",
       "Nature366                        [Physics]\n",
       "Nature439                               []\n",
       "Nature605     [Engineering and Technology]\n",
       "Nature66                                []\n",
       "Name: most_common_fields, Length: 2084, dtype: object"
      ]
     },
     "execution_count": 35,
     "metadata": {},
     "output_type": "execute_result"
    }
   ],
   "source": [
    "df['most_common_fields']"
   ]
  },
  {
   "cell_type": "code",
   "execution_count": 36,
   "id": "19a1a2fe-8bf3-4893-a393-3746697cb465",
   "metadata": {},
   "outputs": [
    {
     "data": {
      "text/plain": [
       "<Axes: title={'center': 'academic fields (one per paper)'}, ylabel='count'>"
      ]
     },
     "execution_count": 36,
     "metadata": {},
     "output_type": "execute_result"
    },
    {
     "data": {
      "image/png": "[encoded data removed]",
      "text/plain": [
       "<Figure size 400x400 with 1 Axes>"
      ]
     },
     "metadata": {},
     "output_type": "display_data"
    }
   ],
   "source": [
    "Disciplines3=df['most_common_fields'].explode().value_counts()\n",
    "\n",
    "\n",
    "top_x=7\n",
    "top5=Disciplines3[:top_x]\n",
    "top5[\"others\"]=Disciplines3[top_x:].sum()\n",
    "top5.plot.pie(figsize=(4,4), title=\"academic fields (one per paper)\", autopct='%1.1f%%')"
   ]
  },
  {
   "cell_type": "code",
   "execution_count": 37,
   "id": "06f102e0-81e0-492d-baae-414b6b1a709c",
   "metadata": {},
   "outputs": [
    {
     "data": {
      "text/html": [
       "<div>\n",
       "<style scoped>\n",
       "    .dataframe tbody tr th:only-of-type {\n",
       "        vertical-align: middle;\n",
       "    }\n",
       "\n",
       "    .dataframe tbody tr th {\n",
       "        vertical-align: top;\n",
       "    }\n",
       "\n",
       "    .dataframe thead th {\n",
       "        text-align: right;\n",
       "    }\n",
       "</style>\n",
       "<table border=\"1\" class=\"dataframe\">\n",
       "  <thead>\n",
       "    <tr style=\"text-align: right;\">\n",
       "      <th></th>\n",
       "      <th>fields</th>\n",
       "      <th>all_jobs</th>\n",
       "      <th>most_common_fields</th>\n",
       "    </tr>\n",
       "  </thead>\n",
       "  <tbody>\n",
       "    <tr>\n",
       "      <th>Science113</th>\n",
       "      <td>[Physics, Chemistry]</td>\n",
       "      <td>[physician, pharmacologist]</td>\n",
       "      <td>[Physics, Chemistry]</td>\n",
       "    </tr>\n",
       "    <tr>\n",
       "      <th>Science116</th>\n",
       "      <td>[]</td>\n",
       "      <td>[]</td>\n",
       "      <td>[]</td>\n",
       "    </tr>\n",
       "    <tr>\n",
       "      <th>Science119</th>\n",
       "      <td>[None]</td>\n",
       "      <td>[economist]</td>\n",
       "      <td>[]</td>\n",
       "    </tr>\n",
       "    <tr>\n",
       "      <th>Science149</th>\n",
       "      <td>[Biology, Biology, Biology, Physics, Biology, ...</td>\n",
       "      <td>[biology, biologist, biologists, physics, biol...</td>\n",
       "      <td>[Biology]</td>\n",
       "    </tr>\n",
       "    <tr>\n",
       "      <th>Science159</th>\n",
       "      <td>[]</td>\n",
       "      <td>[]</td>\n",
       "      <td>[]</td>\n",
       "    </tr>\n",
       "  </tbody>\n",
       "</table>\n",
       "</div>"
      ],
      "text/plain": [
       "                                                       fields  \\\n",
       "Science113                               [Physics, Chemistry]   \n",
       "Science116                                                 []   \n",
       "Science119                                             [None]   \n",
       "Science149  [Biology, Biology, Biology, Physics, Biology, ...   \n",
       "Science159                                                 []   \n",
       "\n",
       "                                                     all_jobs  \\\n",
       "Science113                        [physician, pharmacologist]   \n",
       "Science116                                                 []   \n",
       "Science119                                        [economist]   \n",
       "Science149  [biology, biologist, biologists, physics, biol...   \n",
       "Science159                                                 []   \n",
       "\n",
       "              most_common_fields  \n",
       "Science113  [Physics, Chemistry]  \n",
       "Science116                    []  \n",
       "Science119                    []  \n",
       "Science149             [Biology]  \n",
       "Science159                    []  "
      ]
     },
     "execution_count": 37,
     "metadata": {},
     "output_type": "execute_result"
    }
   ],
   "source": [
    "df[[\"fields\",\"all_jobs\",'most_common_fields']].head()"
   ]
  },
  {
   "cell_type": "code",
   "execution_count": 38,
   "id": "635c9ab2-a13e-462c-9554-6fd9d2c6999b",
   "metadata": {},
   "outputs": [
    {
     "data": {
      "text/plain": [
       "regex.Regex('\\x08Thermodynamists?|Thermodynamisists?|Thermodynamicians?|Thermodynamics|Plasma physists?|Plasma physisists?|Plasma physicians?|Plasma physics|Condensed matter physists?|Condensed matter physisists?|Condensed matter physicians?|Condensed matter physics|Medical physists?|Medical physisists?|Medical physicians?|Medical physics|Solid mechanists?|Solid mechanisists?|Solid mechanicians?|Solid mechanics|Electricitists?|Electriciters?|Electricitians?|Electricitysts?|Electricity|Statistical mechanists?|Statistical mechanisists?|Statistical mechanicians?|Statistical mechanics|Experimental physists?|Experimental physisists?|Experimental physicians?|Experimental physics|Quantum physists?|Quantum physisists?|Quantum physicians?|Quantum physics|Geophysics\\xa0 students?|Geophysics\\xa0 scholars?|Geophysics\\xa0 researchers?|Geophysics\\xa0 scientists?|Optists?|Optisists?|Opticians?|Optics|Mechanists?|Mechanisists?|Mechanicians?|Mechanics|Fluid dynamists?|Fluid dynamisists?|Fluid dynamicians?|Fluid dynamics|molecular students?|molecular scholars?|molecular researchers?|molecular scientists?|Atomic and molecular and and optical physists?|Atomic and molecular and and optical physisists?|Atomic and molecular and and optical physicians?|Atomic and molecular and and optical physics|Mathematical physists?|Mathematical physisists?|Mathematical physicians?|Mathematical physics|Newtonian dynamists?|Newtonian dynamisists?|Newtonian dynamicians?|Newtonian dynamics|Atomic students?|Atomic scholars?|Atomic researchers?|Atomic scientists?|Elementary particle physists?|Elementary particle physisists?|Elementary particle physicians?|Elementary particle physics|Biophysics\\xa0 students?|Biophysics\\xa0 scholars?|Biophysics\\xa0 researchers?|Biophysics\\xa0 scientists?|Computational physists?|Computational physisists?|Computational physicians?|Computational physics|Molecular physists?|Molecular physisists?|Molecular physicians?|Molecular physics|Solid state physists?|Solid state physisists?|Solid state physicians?|Solid state physics|Astrophysists?|Astrophysisists?|Astrophysicians?|Astrophysics|Aerodynamists?|Aerodynamisists?|Aerodynamicians?|Aerodynamics|Applied physists?|Applied physisists?|Applied physicians?|Applied physics|Thermal physists?|Thermal physisists?|Thermal physicians?|Thermal physics|Nuclear physists?|Nuclear physisists?|Nuclear physicians?|Nuclear physics|Theoretical physists?|Theoretical physisists?|Theoretical physicians?|Theoretical physics|and optical physists?|and optical physisists?|and optical physicians?|and optical physics|Physists?|Physisists?|Physicians?|Physics\\x08', flags=regex.I | regex.V0)"
      ]
     },
     "execution_count": 38,
     "metadata": {},
     "output_type": "execute_result"
    }
   ],
   "source": [
    "df_academic_fields[\"combined_extended_regex\"]=df_academic_fields[\"combined_extended\"].apply(lambda x:\"|\".join(x)).str.replace(\"||\",\"|\")\n",
    "\n",
    "#academic_fields_dict_regex={k:re.compile(\"(\" +v + \")\" +r\"{i<=2:\\s}(?b)(?e)\", re.IGNORECASE) for k,v in df_academic_fields[\"combined_extended_regex\"].items()}\n",
    "academic_fields_dict_regex={k:re.compile(\"\\b\"+v+\"\\b\", re.IGNORECASE) for k,v in df_academic_fields[\"combined_extended_regex\"].items()}\n",
    "\n",
    "academic_fields_dict_regex['Physics']"
   ]
  },
  {
   "cell_type": "code",
   "execution_count": 39,
   "id": "1b556032-6f9b-4d89-84be-aec9d754ca52",
   "metadata": {},
   "outputs": [
    {
     "name": "stdout",
     "output_type": "stream",
     "text": [
      "Anthropology\n"
     ]
    },
    {
     "name": "stderr",
     "output_type": "stream",
     "text": [
      "100%|█████████████████████████████████████| 2084/2084 [00:00<00:00, 6390.74it/s]\n"
     ]
    },
    {
     "name": "stdout",
     "output_type": "stream",
     "text": [
      "Biology\n"
     ]
    },
    {
     "name": "stderr",
     "output_type": "stream",
     "text": [
      "100%|██████████████████████████████████████| 2084/2084 [00:07<00:00, 280.88it/s]\n"
     ]
    },
    {
     "name": "stdout",
     "output_type": "stream",
     "text": [
      "Business\n"
     ]
    },
    {
     "name": "stderr",
     "output_type": "stream",
     "text": [
      "100%|█████████████████████████████████████| 2084/2084 [00:00<00:00, 8961.93it/s]\n"
     ]
    },
    {
     "name": "stdout",
     "output_type": "stream",
     "text": [
      "Chemistry\n"
     ]
    },
    {
     "name": "stderr",
     "output_type": "stream",
     "text": [
      "100%|██████████████████████████████████████| 2084/2084 [00:02<00:00, 874.25it/s]\n"
     ]
    },
    {
     "name": "stdout",
     "output_type": "stream",
     "text": [
      "Computer Science\n"
     ]
    },
    {
     "name": "stderr",
     "output_type": "stream",
     "text": [
      "100%|██████████████████████████████████████| 2084/2084 [00:11<00:00, 185.27it/s]\n"
     ]
    },
    {
     "name": "stdout",
     "output_type": "stream",
     "text": [
      "Earth Science\n"
     ]
    },
    {
     "name": "stderr",
     "output_type": "stream",
     "text": [
      "100%|█████████████████████████████████████| 2084/2084 [00:01<00:00, 1677.36it/s]\n"
     ]
    },
    {
     "name": "stdout",
     "output_type": "stream",
     "text": [
      "Economics\n"
     ]
    },
    {
     "name": "stderr",
     "output_type": "stream",
     "text": [
      "100%|██████████████████████████████████████| 2084/2084 [00:05<00:00, 347.87it/s]\n"
     ]
    },
    {
     "name": "stdout",
     "output_type": "stream",
     "text": [
      "Engineering and Technology\n"
     ]
    },
    {
     "name": "stderr",
     "output_type": "stream",
     "text": [
      "100%|██████████████████████████████████████| 2084/2084 [00:14<00:00, 139.51it/s]\n"
     ]
    },
    {
     "name": "stdout",
     "output_type": "stream",
     "text": [
      "Geography\n"
     ]
    },
    {
     "name": "stderr",
     "output_type": "stream",
     "text": [
      "100%|██████████████████████████████████████| 2084/2084 [00:05<00:00, 405.18it/s]\n"
     ]
    },
    {
     "name": "stdout",
     "output_type": "stream",
     "text": [
      "History\n"
     ]
    },
    {
     "name": "stderr",
     "output_type": "stream",
     "text": [
      "100%|██████████████████████████████████████| 2084/2084 [00:04<00:00, 474.22it/s]\n"
     ]
    },
    {
     "name": "stdout",
     "output_type": "stream",
     "text": [
      "Languages and Literature\n"
     ]
    },
    {
     "name": "stderr",
     "output_type": "stream",
     "text": [
      "100%|██████████████████████████████████████| 2084/2084 [00:03<00:00, 676.38it/s]\n"
     ]
    },
    {
     "name": "stdout",
     "output_type": "stream",
     "text": [
      "Law\n"
     ]
    },
    {
     "name": "stderr",
     "output_type": "stream",
     "text": [
      "100%|██████████████████████████████████████| 2084/2084 [00:02<00:00, 906.59it/s]\n"
     ]
    },
    {
     "name": "stdout",
     "output_type": "stream",
     "text": [
      "Mathematics\n"
     ]
    },
    {
     "name": "stderr",
     "output_type": "stream",
     "text": [
      "100%|██████████████████████████████████████| 2084/2084 [00:13<00:00, 155.21it/s]\n"
     ]
    },
    {
     "name": "stdout",
     "output_type": "stream",
     "text": [
      "Medicine and Health\n"
     ]
    },
    {
     "name": "stderr",
     "output_type": "stream",
     "text": [
      "100%|██████████████████████████████████████| 2084/2084 [00:09<00:00, 221.29it/s]\n"
     ]
    },
    {
     "name": "stdout",
     "output_type": "stream",
     "text": [
      "Performing Arts\n"
     ]
    },
    {
     "name": "stderr",
     "output_type": "stream",
     "text": [
      "100%|██████████████████████████████████████| 2084/2084 [00:03<00:00, 641.59it/s]\n"
     ]
    },
    {
     "name": "stdout",
     "output_type": "stream",
     "text": [
      "Philosophy\n"
     ]
    },
    {
     "name": "stderr",
     "output_type": "stream",
     "text": [
      "100%|██████████████████████████████████████| 2084/2084 [00:04<00:00, 520.61it/s]\n"
     ]
    },
    {
     "name": "stdout",
     "output_type": "stream",
     "text": [
      "Physics\n"
     ]
    },
    {
     "name": "stderr",
     "output_type": "stream",
     "text": [
      "100%|██████████████████████████████████████| 2084/2084 [00:02<00:00, 722.31it/s]\n"
     ]
    },
    {
     "name": "stdout",
     "output_type": "stream",
     "text": [
      "Political Science\n"
     ]
    },
    {
     "name": "stderr",
     "output_type": "stream",
     "text": [
      "100%|█████████████████████████████████████| 2084/2084 [00:00<00:00, 2207.25it/s]\n"
     ]
    },
    {
     "name": "stdout",
     "output_type": "stream",
     "text": [
      "Psychology\n"
     ]
    },
    {
     "name": "stderr",
     "output_type": "stream",
     "text": [
      "100%|██████████████████████████████████████| 2084/2084 [00:08<00:00, 239.36it/s]\n"
     ]
    },
    {
     "name": "stdout",
     "output_type": "stream",
     "text": [
      "Social Work\n"
     ]
    },
    {
     "name": "stderr",
     "output_type": "stream",
     "text": [
      "100%|█████████████████████████████████████| 2084/2084 [00:00<00:00, 6757.26it/s]\n"
     ]
    },
    {
     "name": "stdout",
     "output_type": "stream",
     "text": [
      "Sociology\n"
     ]
    },
    {
     "name": "stderr",
     "output_type": "stream",
     "text": [
      "100%|██████████████████████████████████████| 2084/2084 [00:09<00:00, 218.16it/s]\n"
     ]
    },
    {
     "name": "stdout",
     "output_type": "stream",
     "text": [
      "Space Sciences\n"
     ]
    },
    {
     "name": "stderr",
     "output_type": "stream",
     "text": [
      "100%|██████████████████████████████████████| 2084/2084 [00:02<00:00, 702.60it/s]\n"
     ]
    },
    {
     "name": "stdout",
     "output_type": "stream",
     "text": [
      "Visual Arts\n"
     ]
    },
    {
     "name": "stderr",
     "output_type": "stream",
     "text": [
      "100%|█████████████████████████████████████| 2084/2084 [00:01<00:00, 1696.98it/s]\n"
     ]
    }
   ],
   "source": [
    "#fields_regex={k: re.compile(\"(\" + \"|\".join(v) + \")\" +r\"{i<=2:\\s}(?b)(?e)\", re.IGNORECASE) for k, v in academic_fields.items()}\n",
    "#fields_regex={k: re.compile(\"(\" + \"|\".join(v) + \")\" +r\"{i<=2:\\s}(?b)(?e)\", re.IGNORECASE) for k, v in fields_dict.items()}\n",
    "\n",
    "\n",
    "def keyword_check(text, re_pattern):\n",
    "    if isinstance(text,str):\n",
    "        matches=re.findall(re_pattern,text)\n",
    "\n",
    "        return len(matches)\n",
    "\n",
    "for k, v in academic_fields_dict_regex.items():\n",
    "    print(k)\n",
    "    df[k]=df[\"text\"].progress_apply(keyword_check, re_pattern=v)"
   ]
  },
  {
   "cell_type": "code",
   "execution_count": 40,
   "id": "ee1a1b0e-2024-4cc3-b2e4-dbedc7dd8d25",
   "metadata": {},
   "outputs": [
    {
     "data": {
      "text/html": [
       "<div>\n",
       "<style scoped>\n",
       "    .dataframe tbody tr th:only-of-type {\n",
       "        vertical-align: middle;\n",
       "    }\n",
       "\n",
       "    .dataframe tbody tr th {\n",
       "        vertical-align: top;\n",
       "    }\n",
       "\n",
       "    .dataframe thead th {\n",
       "        text-align: right;\n",
       "    }\n",
       "</style>\n",
       "<table border=\"1\" class=\"dataframe\">\n",
       "  <thead>\n",
       "    <tr style=\"text-align: right;\">\n",
       "      <th></th>\n",
       "      <th>Anthropology</th>\n",
       "      <th>Biology</th>\n",
       "      <th>Business</th>\n",
       "      <th>Chemistry</th>\n",
       "      <th>Computer Science</th>\n",
       "      <th>Earth Science</th>\n",
       "      <th>Economics</th>\n",
       "      <th>Engineering and Technology</th>\n",
       "      <th>Geography</th>\n",
       "      <th>History</th>\n",
       "      <th>...</th>\n",
       "      <th>Medicine and Health</th>\n",
       "      <th>Performing Arts</th>\n",
       "      <th>Philosophy</th>\n",
       "      <th>Physics</th>\n",
       "      <th>Political Science</th>\n",
       "      <th>Psychology</th>\n",
       "      <th>Social Work</th>\n",
       "      <th>Sociology</th>\n",
       "      <th>Space Sciences</th>\n",
       "      <th>Visual Arts</th>\n",
       "    </tr>\n",
       "  </thead>\n",
       "  <tbody>\n",
       "    <tr>\n",
       "      <th>Science113</th>\n",
       "      <td>0</td>\n",
       "      <td>0</td>\n",
       "      <td>0</td>\n",
       "      <td>1</td>\n",
       "      <td>0</td>\n",
       "      <td>0</td>\n",
       "      <td>0</td>\n",
       "      <td>0</td>\n",
       "      <td>0</td>\n",
       "      <td>0</td>\n",
       "      <td>...</td>\n",
       "      <td>1</td>\n",
       "      <td>0</td>\n",
       "      <td>0</td>\n",
       "      <td>1</td>\n",
       "      <td>0</td>\n",
       "      <td>0</td>\n",
       "      <td>0</td>\n",
       "      <td>0</td>\n",
       "      <td>0</td>\n",
       "      <td>0</td>\n",
       "    </tr>\n",
       "    <tr>\n",
       "      <th>Science116</th>\n",
       "      <td>0</td>\n",
       "      <td>0</td>\n",
       "      <td>0</td>\n",
       "      <td>0</td>\n",
       "      <td>0</td>\n",
       "      <td>0</td>\n",
       "      <td>0</td>\n",
       "      <td>0</td>\n",
       "      <td>0</td>\n",
       "      <td>0</td>\n",
       "      <td>...</td>\n",
       "      <td>0</td>\n",
       "      <td>0</td>\n",
       "      <td>0</td>\n",
       "      <td>0</td>\n",
       "      <td>0</td>\n",
       "      <td>0</td>\n",
       "      <td>0</td>\n",
       "      <td>0</td>\n",
       "      <td>0</td>\n",
       "      <td>0</td>\n",
       "    </tr>\n",
       "    <tr>\n",
       "      <th>Science119</th>\n",
       "      <td>0</td>\n",
       "      <td>0</td>\n",
       "      <td>0</td>\n",
       "      <td>0</td>\n",
       "      <td>0</td>\n",
       "      <td>0</td>\n",
       "      <td>1</td>\n",
       "      <td>0</td>\n",
       "      <td>0</td>\n",
       "      <td>0</td>\n",
       "      <td>...</td>\n",
       "      <td>0</td>\n",
       "      <td>0</td>\n",
       "      <td>0</td>\n",
       "      <td>0</td>\n",
       "      <td>0</td>\n",
       "      <td>0</td>\n",
       "      <td>0</td>\n",
       "      <td>0</td>\n",
       "      <td>0</td>\n",
       "      <td>0</td>\n",
       "    </tr>\n",
       "    <tr>\n",
       "      <th>Science149</th>\n",
       "      <td>0</td>\n",
       "      <td>4</td>\n",
       "      <td>0</td>\n",
       "      <td>0</td>\n",
       "      <td>0</td>\n",
       "      <td>0</td>\n",
       "      <td>0</td>\n",
       "      <td>1</td>\n",
       "      <td>0</td>\n",
       "      <td>0</td>\n",
       "      <td>...</td>\n",
       "      <td>2</td>\n",
       "      <td>0</td>\n",
       "      <td>0</td>\n",
       "      <td>0</td>\n",
       "      <td>0</td>\n",
       "      <td>0</td>\n",
       "      <td>0</td>\n",
       "      <td>0</td>\n",
       "      <td>0</td>\n",
       "      <td>0</td>\n",
       "    </tr>\n",
       "    <tr>\n",
       "      <th>Science159</th>\n",
       "      <td>0</td>\n",
       "      <td>0</td>\n",
       "      <td>0</td>\n",
       "      <td>0</td>\n",
       "      <td>0</td>\n",
       "      <td>0</td>\n",
       "      <td>0</td>\n",
       "      <td>1</td>\n",
       "      <td>0</td>\n",
       "      <td>0</td>\n",
       "      <td>...</td>\n",
       "      <td>0</td>\n",
       "      <td>0</td>\n",
       "      <td>0</td>\n",
       "      <td>0</td>\n",
       "      <td>0</td>\n",
       "      <td>0</td>\n",
       "      <td>0</td>\n",
       "      <td>0</td>\n",
       "      <td>0</td>\n",
       "      <td>0</td>\n",
       "    </tr>\n",
       "    <tr>\n",
       "      <th>...</th>\n",
       "      <td>...</td>\n",
       "      <td>...</td>\n",
       "      <td>...</td>\n",
       "      <td>...</td>\n",
       "      <td>...</td>\n",
       "      <td>...</td>\n",
       "      <td>...</td>\n",
       "      <td>...</td>\n",
       "      <td>...</td>\n",
       "      <td>...</td>\n",
       "      <td>...</td>\n",
       "      <td>...</td>\n",
       "      <td>...</td>\n",
       "      <td>...</td>\n",
       "      <td>...</td>\n",
       "      <td>...</td>\n",
       "      <td>...</td>\n",
       "      <td>...</td>\n",
       "      <td>...</td>\n",
       "      <td>...</td>\n",
       "      <td>...</td>\n",
       "    </tr>\n",
       "    <tr>\n",
       "      <th>Nature277</th>\n",
       "      <td>0</td>\n",
       "      <td>0</td>\n",
       "      <td>0</td>\n",
       "      <td>0</td>\n",
       "      <td>0</td>\n",
       "      <td>0</td>\n",
       "      <td>0</td>\n",
       "      <td>1</td>\n",
       "      <td>0</td>\n",
       "      <td>0</td>\n",
       "      <td>...</td>\n",
       "      <td>0</td>\n",
       "      <td>0</td>\n",
       "      <td>0</td>\n",
       "      <td>0</td>\n",
       "      <td>0</td>\n",
       "      <td>0</td>\n",
       "      <td>0</td>\n",
       "      <td>0</td>\n",
       "      <td>0</td>\n",
       "      <td>0</td>\n",
       "    </tr>\n",
       "    <tr>\n",
       "      <th>Nature366</th>\n",
       "      <td>0</td>\n",
       "      <td>0</td>\n",
       "      <td>0</td>\n",
       "      <td>0</td>\n",
       "      <td>0</td>\n",
       "      <td>0</td>\n",
       "      <td>0</td>\n",
       "      <td>0</td>\n",
       "      <td>0</td>\n",
       "      <td>0</td>\n",
       "      <td>...</td>\n",
       "      <td>0</td>\n",
       "      <td>0</td>\n",
       "      <td>0</td>\n",
       "      <td>0</td>\n",
       "      <td>0</td>\n",
       "      <td>0</td>\n",
       "      <td>0</td>\n",
       "      <td>0</td>\n",
       "      <td>0</td>\n",
       "      <td>0</td>\n",
       "    </tr>\n",
       "    <tr>\n",
       "      <th>Nature439</th>\n",
       "      <td>0</td>\n",
       "      <td>1</td>\n",
       "      <td>0</td>\n",
       "      <td>0</td>\n",
       "      <td>0</td>\n",
       "      <td>0</td>\n",
       "      <td>0</td>\n",
       "      <td>0</td>\n",
       "      <td>0</td>\n",
       "      <td>0</td>\n",
       "      <td>...</td>\n",
       "      <td>0</td>\n",
       "      <td>0</td>\n",
       "      <td>0</td>\n",
       "      <td>0</td>\n",
       "      <td>0</td>\n",
       "      <td>0</td>\n",
       "      <td>0</td>\n",
       "      <td>0</td>\n",
       "      <td>1</td>\n",
       "      <td>0</td>\n",
       "    </tr>\n",
       "    <tr>\n",
       "      <th>Nature605</th>\n",
       "      <td>0</td>\n",
       "      <td>0</td>\n",
       "      <td>0</td>\n",
       "      <td>0</td>\n",
       "      <td>0</td>\n",
       "      <td>0</td>\n",
       "      <td>0</td>\n",
       "      <td>1</td>\n",
       "      <td>0</td>\n",
       "      <td>0</td>\n",
       "      <td>...</td>\n",
       "      <td>0</td>\n",
       "      <td>0</td>\n",
       "      <td>0</td>\n",
       "      <td>0</td>\n",
       "      <td>0</td>\n",
       "      <td>0</td>\n",
       "      <td>0</td>\n",
       "      <td>0</td>\n",
       "      <td>0</td>\n",
       "      <td>0</td>\n",
       "    </tr>\n",
       "    <tr>\n",
       "      <th>Nature66</th>\n",
       "      <td>0</td>\n",
       "      <td>0</td>\n",
       "      <td>0</td>\n",
       "      <td>0</td>\n",
       "      <td>0</td>\n",
       "      <td>0</td>\n",
       "      <td>0</td>\n",
       "      <td>0</td>\n",
       "      <td>0</td>\n",
       "      <td>0</td>\n",
       "      <td>...</td>\n",
       "      <td>0</td>\n",
       "      <td>0</td>\n",
       "      <td>0</td>\n",
       "      <td>0</td>\n",
       "      <td>0</td>\n",
       "      <td>0</td>\n",
       "      <td>0</td>\n",
       "      <td>0</td>\n",
       "      <td>0</td>\n",
       "      <td>0</td>\n",
       "    </tr>\n",
       "  </tbody>\n",
       "</table>\n",
       "<p>2084 rows × 23 columns</p>\n",
       "</div>"
      ],
      "text/plain": [
       "            Anthropology  Biology  Business  Chemistry  Computer Science  \\\n",
       "Science113             0        0         0          1                 0   \n",
       "Science116             0        0         0          0                 0   \n",
       "Science119             0        0         0          0                 0   \n",
       "Science149             0        4         0          0                 0   \n",
       "Science159             0        0         0          0                 0   \n",
       "...                  ...      ...       ...        ...               ...   \n",
       "Nature277              0        0         0          0                 0   \n",
       "Nature366              0        0         0          0                 0   \n",
       "Nature439              0        1         0          0                 0   \n",
       "Nature605              0        0         0          0                 0   \n",
       "Nature66               0        0         0          0                 0   \n",
       "\n",
       "            Earth Science  Economics  Engineering and Technology  Geography  \\\n",
       "Science113              0          0                           0          0   \n",
       "Science116              0          0                           0          0   \n",
       "Science119              0          1                           0          0   \n",
       "Science149              0          0                           1          0   \n",
       "Science159              0          0                           1          0   \n",
       "...                   ...        ...                         ...        ...   \n",
       "Nature277               0          0                           1          0   \n",
       "Nature366               0          0                           0          0   \n",
       "Nature439               0          0                           0          0   \n",
       "Nature605               0          0                           1          0   \n",
       "Nature66                0          0                           0          0   \n",
       "\n",
       "            History  ...  Medicine and Health  Performing Arts  Philosophy  \\\n",
       "Science113        0  ...                    1                0           0   \n",
       "Science116        0  ...                    0                0           0   \n",
       "Science119        0  ...                    0                0           0   \n",
       "Science149        0  ...                    2                0           0   \n",
       "Science159        0  ...                    0                0           0   \n",
       "...             ...  ...                  ...              ...         ...   \n",
       "Nature277         0  ...                    0                0           0   \n",
       "Nature366         0  ...                    0                0           0   \n",
       "Nature439         0  ...                    0                0           0   \n",
       "Nature605         0  ...                    0                0           0   \n",
       "Nature66          0  ...                    0                0           0   \n",
       "\n",
       "            Physics  Political Science  Psychology  Social Work  Sociology  \\\n",
       "Science113        1                  0           0            0          0   \n",
       "Science116        0                  0           0            0          0   \n",
       "Science119        0                  0           0            0          0   \n",
       "Science149        0                  0           0            0          0   \n",
       "Science159        0                  0           0            0          0   \n",
       "...             ...                ...         ...          ...        ...   \n",
       "Nature277         0                  0           0            0          0   \n",
       "Nature366         0                  0           0            0          0   \n",
       "Nature439         0                  0           0            0          0   \n",
       "Nature605         0                  0           0            0          0   \n",
       "Nature66          0                  0           0            0          0   \n",
       "\n",
       "            Space Sciences  Visual Arts  \n",
       "Science113               0            0  \n",
       "Science116               0            0  \n",
       "Science119               0            0  \n",
       "Science149               0            0  \n",
       "Science159               0            0  \n",
       "...                    ...          ...  \n",
       "Nature277                0            0  \n",
       "Nature366                0            0  \n",
       "Nature439                1            0  \n",
       "Nature605                0            0  \n",
       "Nature66                 0            0  \n",
       "\n",
       "[2084 rows x 23 columns]"
      ]
     },
     "execution_count": 40,
     "metadata": {},
     "output_type": "execute_result"
    }
   ],
   "source": [
    "Disciplines=df[df_academic_fields.index]\n",
    "Disciplines"
   ]
  },
  {
   "cell_type": "code",
   "execution_count": 41,
   "id": "e36d384b-85f3-4db0-858c-d09880baf285",
   "metadata": {},
   "outputs": [
    {
     "data": {
      "text/html": [
       "<div>\n",
       "<style scoped>\n",
       "    .dataframe tbody tr th:only-of-type {\n",
       "        vertical-align: middle;\n",
       "    }\n",
       "\n",
       "    .dataframe tbody tr th {\n",
       "        vertical-align: top;\n",
       "    }\n",
       "\n",
       "    .dataframe thead th {\n",
       "        text-align: right;\n",
       "    }\n",
       "</style>\n",
       "<table border=\"1\" class=\"dataframe\">\n",
       "  <thead>\n",
       "    <tr style=\"text-align: right;\">\n",
       "      <th></th>\n",
       "      <th>Anthropology</th>\n",
       "      <th>Biology</th>\n",
       "      <th>Business</th>\n",
       "      <th>Chemistry</th>\n",
       "      <th>Computer Science</th>\n",
       "      <th>Earth Science</th>\n",
       "      <th>Economics</th>\n",
       "      <th>Engineering and Technology</th>\n",
       "      <th>Geography</th>\n",
       "      <th>History</th>\n",
       "      <th>...</th>\n",
       "      <th>Medicine and Health</th>\n",
       "      <th>Performing Arts</th>\n",
       "      <th>Philosophy</th>\n",
       "      <th>Physics</th>\n",
       "      <th>Political Science</th>\n",
       "      <th>Psychology</th>\n",
       "      <th>Social Work</th>\n",
       "      <th>Sociology</th>\n",
       "      <th>Space Sciences</th>\n",
       "      <th>Visual Arts</th>\n",
       "    </tr>\n",
       "  </thead>\n",
       "  <tbody>\n",
       "    <tr>\n",
       "      <th>Science113</th>\n",
       "      <td>0</td>\n",
       "      <td>0</td>\n",
       "      <td>0</td>\n",
       "      <td>1</td>\n",
       "      <td>0</td>\n",
       "      <td>0</td>\n",
       "      <td>0</td>\n",
       "      <td>0</td>\n",
       "      <td>0</td>\n",
       "      <td>0</td>\n",
       "      <td>...</td>\n",
       "      <td>1</td>\n",
       "      <td>0</td>\n",
       "      <td>0</td>\n",
       "      <td>1</td>\n",
       "      <td>0</td>\n",
       "      <td>0</td>\n",
       "      <td>0</td>\n",
       "      <td>0</td>\n",
       "      <td>0</td>\n",
       "      <td>0</td>\n",
       "    </tr>\n",
       "    <tr>\n",
       "      <th>Science149</th>\n",
       "      <td>0</td>\n",
       "      <td>4</td>\n",
       "      <td>0</td>\n",
       "      <td>0</td>\n",
       "      <td>0</td>\n",
       "      <td>0</td>\n",
       "      <td>0</td>\n",
       "      <td>1</td>\n",
       "      <td>0</td>\n",
       "      <td>0</td>\n",
       "      <td>...</td>\n",
       "      <td>2</td>\n",
       "      <td>0</td>\n",
       "      <td>0</td>\n",
       "      <td>0</td>\n",
       "      <td>0</td>\n",
       "      <td>0</td>\n",
       "      <td>0</td>\n",
       "      <td>0</td>\n",
       "      <td>0</td>\n",
       "      <td>0</td>\n",
       "    </tr>\n",
       "    <tr>\n",
       "      <th>Science16</th>\n",
       "      <td>0</td>\n",
       "      <td>5</td>\n",
       "      <td>0</td>\n",
       "      <td>3</td>\n",
       "      <td>0</td>\n",
       "      <td>0</td>\n",
       "      <td>0</td>\n",
       "      <td>7</td>\n",
       "      <td>0</td>\n",
       "      <td>0</td>\n",
       "      <td>...</td>\n",
       "      <td>0</td>\n",
       "      <td>0</td>\n",
       "      <td>0</td>\n",
       "      <td>0</td>\n",
       "      <td>0</td>\n",
       "      <td>0</td>\n",
       "      <td>0</td>\n",
       "      <td>0</td>\n",
       "      <td>0</td>\n",
       "      <td>0</td>\n",
       "    </tr>\n",
       "    <tr>\n",
       "      <th>Science192</th>\n",
       "      <td>0</td>\n",
       "      <td>0</td>\n",
       "      <td>0</td>\n",
       "      <td>0</td>\n",
       "      <td>0</td>\n",
       "      <td>0</td>\n",
       "      <td>0</td>\n",
       "      <td>0</td>\n",
       "      <td>0</td>\n",
       "      <td>0</td>\n",
       "      <td>...</td>\n",
       "      <td>0</td>\n",
       "      <td>0</td>\n",
       "      <td>0</td>\n",
       "      <td>0</td>\n",
       "      <td>0</td>\n",
       "      <td>1</td>\n",
       "      <td>0</td>\n",
       "      <td>1</td>\n",
       "      <td>0</td>\n",
       "      <td>0</td>\n",
       "    </tr>\n",
       "    <tr>\n",
       "      <th>Science23</th>\n",
       "      <td>0</td>\n",
       "      <td>0</td>\n",
       "      <td>0</td>\n",
       "      <td>0</td>\n",
       "      <td>0</td>\n",
       "      <td>0</td>\n",
       "      <td>0</td>\n",
       "      <td>0</td>\n",
       "      <td>0</td>\n",
       "      <td>0</td>\n",
       "      <td>...</td>\n",
       "      <td>4</td>\n",
       "      <td>0</td>\n",
       "      <td>0</td>\n",
       "      <td>0</td>\n",
       "      <td>0</td>\n",
       "      <td>0</td>\n",
       "      <td>0</td>\n",
       "      <td>0</td>\n",
       "      <td>0</td>\n",
       "      <td>0</td>\n",
       "    </tr>\n",
       "    <tr>\n",
       "      <th>...</th>\n",
       "      <td>...</td>\n",
       "      <td>...</td>\n",
       "      <td>...</td>\n",
       "      <td>...</td>\n",
       "      <td>...</td>\n",
       "      <td>...</td>\n",
       "      <td>...</td>\n",
       "      <td>...</td>\n",
       "      <td>...</td>\n",
       "      <td>...</td>\n",
       "      <td>...</td>\n",
       "      <td>...</td>\n",
       "      <td>...</td>\n",
       "      <td>...</td>\n",
       "      <td>...</td>\n",
       "      <td>...</td>\n",
       "      <td>...</td>\n",
       "      <td>...</td>\n",
       "      <td>...</td>\n",
       "      <td>...</td>\n",
       "      <td>...</td>\n",
       "    </tr>\n",
       "    <tr>\n",
       "      <th>Nature722</th>\n",
       "      <td>0</td>\n",
       "      <td>3</td>\n",
       "      <td>0</td>\n",
       "      <td>0</td>\n",
       "      <td>0</td>\n",
       "      <td>0</td>\n",
       "      <td>0</td>\n",
       "      <td>1</td>\n",
       "      <td>0</td>\n",
       "      <td>0</td>\n",
       "      <td>...</td>\n",
       "      <td>0</td>\n",
       "      <td>0</td>\n",
       "      <td>0</td>\n",
       "      <td>0</td>\n",
       "      <td>0</td>\n",
       "      <td>0</td>\n",
       "      <td>0</td>\n",
       "      <td>0</td>\n",
       "      <td>0</td>\n",
       "      <td>0</td>\n",
       "    </tr>\n",
       "    <tr>\n",
       "      <th>Nature730</th>\n",
       "      <td>0</td>\n",
       "      <td>2</td>\n",
       "      <td>0</td>\n",
       "      <td>1</td>\n",
       "      <td>0</td>\n",
       "      <td>0</td>\n",
       "      <td>0</td>\n",
       "      <td>0</td>\n",
       "      <td>0</td>\n",
       "      <td>0</td>\n",
       "      <td>...</td>\n",
       "      <td>0</td>\n",
       "      <td>0</td>\n",
       "      <td>0</td>\n",
       "      <td>1</td>\n",
       "      <td>0</td>\n",
       "      <td>0</td>\n",
       "      <td>0</td>\n",
       "      <td>0</td>\n",
       "      <td>0</td>\n",
       "      <td>0</td>\n",
       "    </tr>\n",
       "    <tr>\n",
       "      <th>Nature994</th>\n",
       "      <td>0</td>\n",
       "      <td>2</td>\n",
       "      <td>0</td>\n",
       "      <td>0</td>\n",
       "      <td>0</td>\n",
       "      <td>0</td>\n",
       "      <td>0</td>\n",
       "      <td>0</td>\n",
       "      <td>0</td>\n",
       "      <td>0</td>\n",
       "      <td>...</td>\n",
       "      <td>4</td>\n",
       "      <td>0</td>\n",
       "      <td>0</td>\n",
       "      <td>0</td>\n",
       "      <td>0</td>\n",
       "      <td>0</td>\n",
       "      <td>0</td>\n",
       "      <td>0</td>\n",
       "      <td>0</td>\n",
       "      <td>0</td>\n",
       "    </tr>\n",
       "    <tr>\n",
       "      <th>Nature158</th>\n",
       "      <td>0</td>\n",
       "      <td>1</td>\n",
       "      <td>0</td>\n",
       "      <td>1</td>\n",
       "      <td>0</td>\n",
       "      <td>0</td>\n",
       "      <td>0</td>\n",
       "      <td>1</td>\n",
       "      <td>0</td>\n",
       "      <td>0</td>\n",
       "      <td>...</td>\n",
       "      <td>0</td>\n",
       "      <td>0</td>\n",
       "      <td>0</td>\n",
       "      <td>0</td>\n",
       "      <td>0</td>\n",
       "      <td>0</td>\n",
       "      <td>0</td>\n",
       "      <td>0</td>\n",
       "      <td>0</td>\n",
       "      <td>0</td>\n",
       "    </tr>\n",
       "    <tr>\n",
       "      <th>Nature439</th>\n",
       "      <td>0</td>\n",
       "      <td>1</td>\n",
       "      <td>0</td>\n",
       "      <td>0</td>\n",
       "      <td>0</td>\n",
       "      <td>0</td>\n",
       "      <td>0</td>\n",
       "      <td>0</td>\n",
       "      <td>0</td>\n",
       "      <td>0</td>\n",
       "      <td>...</td>\n",
       "      <td>0</td>\n",
       "      <td>0</td>\n",
       "      <td>0</td>\n",
       "      <td>0</td>\n",
       "      <td>0</td>\n",
       "      <td>0</td>\n",
       "      <td>0</td>\n",
       "      <td>0</td>\n",
       "      <td>1</td>\n",
       "      <td>0</td>\n",
       "    </tr>\n",
       "  </tbody>\n",
       "</table>\n",
       "<p>571 rows × 23 columns</p>\n",
       "</div>"
      ],
      "text/plain": [
       "            Anthropology  Biology  Business  Chemistry  Computer Science  \\\n",
       "Science113             0        0         0          1                 0   \n",
       "Science149             0        4         0          0                 0   \n",
       "Science16              0        5         0          3                 0   \n",
       "Science192             0        0         0          0                 0   \n",
       "Science23              0        0         0          0                 0   \n",
       "...                  ...      ...       ...        ...               ...   \n",
       "Nature722              0        3         0          0                 0   \n",
       "Nature730              0        2         0          1                 0   \n",
       "Nature994              0        2         0          0                 0   \n",
       "Nature158              0        1         0          1                 0   \n",
       "Nature439              0        1         0          0                 0   \n",
       "\n",
       "            Earth Science  Economics  Engineering and Technology  Geography  \\\n",
       "Science113              0          0                           0          0   \n",
       "Science149              0          0                           1          0   \n",
       "Science16               0          0                           7          0   \n",
       "Science192              0          0                           0          0   \n",
       "Science23               0          0                           0          0   \n",
       "...                   ...        ...                         ...        ...   \n",
       "Nature722               0          0                           1          0   \n",
       "Nature730               0          0                           0          0   \n",
       "Nature994               0          0                           0          0   \n",
       "Nature158               0          0                           1          0   \n",
       "Nature439               0          0                           0          0   \n",
       "\n",
       "            History  ...  Medicine and Health  Performing Arts  Philosophy  \\\n",
       "Science113        0  ...                    1                0           0   \n",
       "Science149        0  ...                    2                0           0   \n",
       "Science16         0  ...                    0                0           0   \n",
       "Science192        0  ...                    0                0           0   \n",
       "Science23         0  ...                    4                0           0   \n",
       "...             ...  ...                  ...              ...         ...   \n",
       "Nature722         0  ...                    0                0           0   \n",
       "Nature730         0  ...                    0                0           0   \n",
       "Nature994         0  ...                    4                0           0   \n",
       "Nature158         0  ...                    0                0           0   \n",
       "Nature439         0  ...                    0                0           0   \n",
       "\n",
       "            Physics  Political Science  Psychology  Social Work  Sociology  \\\n",
       "Science113        1                  0           0            0          0   \n",
       "Science149        0                  0           0            0          0   \n",
       "Science16         0                  0           0            0          0   \n",
       "Science192        0                  0           1            0          1   \n",
       "Science23         0                  0           0            0          0   \n",
       "...             ...                ...         ...          ...        ...   \n",
       "Nature722         0                  0           0            0          0   \n",
       "Nature730         1                  0           0            0          0   \n",
       "Nature994         0                  0           0            0          0   \n",
       "Nature158         0                  0           0            0          0   \n",
       "Nature439         0                  0           0            0          0   \n",
       "\n",
       "            Space Sciences  Visual Arts  \n",
       "Science113               0            0  \n",
       "Science149               0            0  \n",
       "Science16                0            0  \n",
       "Science192               0            0  \n",
       "Science23                0            0  \n",
       "...                    ...          ...  \n",
       "Nature722                0            0  \n",
       "Nature730                0            0  \n",
       "Nature994                0            0  \n",
       "Nature158                0            0  \n",
       "Nature439                1            0  \n",
       "\n",
       "[571 rows x 23 columns]"
      ]
     },
     "execution_count": 41,
     "metadata": {},
     "output_type": "execute_result"
    }
   ],
   "source": [
    "more_than_one_non_zero= Disciplines[(Disciplines != 0).sum(axis=1) > 1]\n",
    "more_than_one_non_zero\n",
    "\n",
    "## Only 323 papers mention disciplines"
   ]
  },
  {
   "cell_type": "code",
   "execution_count": 42,
   "id": "3ca700f9-10f7-4b0c-9077-376c31815f8c",
   "metadata": {},
   "outputs": [
    {
     "data": {
      "image/png": "[encoded data removed]",
      "text/plain": [
       "<Figure size 500x500 with 1 Axes>"
      ]
     },
     "metadata": {},
     "output_type": "display_data"
    }
   ],
   "source": [
    "top_x=7\n",
    "\n",
    "top5=Disciplines.sum().sort_values(ascending=False)[:top_x]\n",
    "top5[\"others\"]=Disciplines.sum().sort_values(ascending=False)[top_x:].sum()\n",
    "top5.plot.pie(figsize=(5,5), title=\"academic fields (mentioned sum in all papers)\", autopct='%1.1f%%')\n",
    "\n",
    "\n",
    "\n",
    "plt.tight_layout()\n",
    "plt.savefig(today+\" disciplines pie.jpg\",dpi=300)\n",
    "\n",
    "# <5% attributed to others"
   ]
  },
  {
   "cell_type": "code",
   "execution_count": 43,
   "id": "e29ad0ee-ab5f-4302-9d68-a2139f6c3aba",
   "metadata": {},
   "outputs": [
    {
     "data": {
      "text/plain": [
       "Biology                       927\n",
       "Engineering and Technology    598\n",
       "Medicine and Health           577\n",
       "Chemistry                     428\n",
       "Space Sciences                239\n",
       "Physics                       225\n",
       "Geography                     189\n",
       "Philosophy                     86\n",
       "Mathematics                    73\n",
       "Languages and Literature       63\n",
       "Psychology                     46\n",
       "Sociology                      36\n",
       "Earth Science                  29\n",
       "Economics                      22\n",
       "Computer Science               10\n",
       "Anthropology                    9\n",
       "History                         8\n",
       "Political Science               5\n",
       "Social Work                     0\n",
       "Law                             0\n",
       "Performing Arts                 0\n",
       "Business                        0\n",
       "Visual Arts                     0\n",
       "dtype: int64"
      ]
     },
     "execution_count": 43,
     "metadata": {},
     "output_type": "execute_result"
    }
   ],
   "source": [
    "Disciplines.sum().sort_values(ascending=False)"
   ]
  },
  {
   "cell_type": "code",
   "execution_count": 44,
   "id": "e7f191be-3d17-4349-9ea8-79fc202001f4",
   "metadata": {
    "scrolled": true
   },
   "outputs": [
    {
     "data": {
      "text/plain": [
       "<Axes: title={'center': 'academic fields (only max one per paper)'}, ylabel='count'>"
      ]
     },
     "execution_count": 44,
     "metadata": {},
     "output_type": "execute_result"
    },
    {
     "data": {
      "image/png": "[encoded data removed]",
      "text/plain": [
       "<Figure size 400x400 with 1 Axes>"
      ]
     },
     "metadata": {},
     "output_type": "display_data"
    }
   ],
   "source": [
    "\n",
    "# look for the max values in each row\n",
    "mxs = Disciplines.eq(Disciplines.max(axis=1), axis=0)\n",
    "mxs_1=mxs[mxs.sum(axis=1)==1]\n",
    "\n",
    "# join the column names of the max values of each row into a single string\n",
    "labels = mxs_1.dot(mxs.columns + ', ').str.rstrip(', ')\n",
    "labels=labels.str.split(\", \")\n",
    "labels=labels[labels.str.len()<7]\n",
    "\n",
    "\n",
    "\n",
    "top_x=7\n",
    "top5=Disciplines2[:top_x]\n",
    "top5[\"others\"]=Disciplines2[top_x:].sum()\n",
    "top5.plot.pie(figsize=(4,4), title=\"academic fields (only max one per paper)\", autopct='%1.1f%%')"
   ]
  },
  {
   "cell_type": "markdown",
   "id": "ad05b96b-ff7e-4934-86f2-20c8997a6929",
   "metadata": {},
   "source": [
    "# Country"
   ]
  },
  {
   "cell_type": "code",
   "execution_count": 46,
   "id": "265a1d75-8669-45bd-8477-42cc9a4e52e6",
   "metadata": {},
   "outputs": [],
   "source": [
    "## Import from her or use existing df\n",
    "\n",
    "# ensure that lists are read as list and not as strings\n",
    "#from ast import literal_eval\n",
    "#columns_to_convert=[\"texts\",\"labels\",\"retraction_counts\",\"has_retraction\",\"has_retraction_label\"]\n",
    "#converters = {col: literal_eval for col in columns_to_convert}\n",
    "\n",
    "#df=pd.read_csv(\"2025-02-23 PDF_import (docling - complete).csv\",index_col=0, converters=converters)\n"
   ]
  },
  {
   "cell_type": "code",
   "execution_count": 47,
   "id": "3b7153fe-5d7b-45ee-8e37-8df78dc76927",
   "metadata": {},
   "outputs": [
    {
     "data": {
      "text/plain": [
       "labels\n",
       "text                   91062\n",
       "section_header         16898\n",
       "list_item               8942\n",
       "caption                 1762\n",
       "page_header              329\n",
       "footnote                 179\n",
       "formula                  147\n",
       "checkbox_unselected       64\n",
       "paragraph                 28\n",
       "code                       4\n",
       "checkbox_selected          4\n",
       "Name: count, dtype: int64"
      ]
     },
     "execution_count": 47,
     "metadata": {},
     "output_type": "execute_result"
    }
   ],
   "source": [
    "df.labels.explode().value_counts()"
   ]
  },
  {
   "cell_type": "code",
   "execution_count": 48,
   "id": "59a11dcd-78e4-476c-8c00-63b86e82450d",
   "metadata": {},
   "outputs": [
    {
     "name": "stderr",
     "output_type": "stream",
     "text": [
      "/var/folders/xb/hcrlz1px0q5byjc3wrssw2lm0000gn/T/ipykernel_13584/4226554866.py:6: FutureWarning: Series.__getitem__ treating keys as positions is deprecated. In a future version, integer keys will always be treated as labels (consistent with DataFrame behavior). To access a value by position, use `ser.iloc[pos]`\n",
      "  df_PDF=pd.DataFrame.from_records(df.apply(labelfilter.filter_texts_by_labels,allowed_labels=allowed_lablels,axis=1))\n"
     ]
    }
   ],
   "source": [
    "# filter text labels:\n",
    "# 1. Filter by a list of allowed lables.\n",
    "# 2. Filter by the method \"till next section header\"\n",
    "allowed_lablels=[\"text\",\"section_header\",\"caption\",\"paragraph\",\"page_header\",\"section_header\"]\n",
    "\n",
    "df_PDF=pd.DataFrame.from_records(df.apply(labelfilter.filter_texts_by_labels,allowed_labels=allowed_lablels,axis=1))\n",
    "neighboring_texts = df_PDF.apply(lambda row: labelfilter.get_neighboring_texts(row['texts'], row['retraction_counts']), axis=1)\n",
    "df_PDF[\"text\"]=neighboring_texts.apply(lambda x: \" \".join(x))\n"
   ]
  },
  {
   "cell_type": "code",
   "execution_count": 49,
   "id": "ab97fa37-44a8-4ec2-8fed-6c40670185f9",
   "metadata": {},
   "outputs": [
    {
     "data": {
      "text/html": [
       "<div>\n",
       "<style scoped>\n",
       "    .dataframe tbody tr th:only-of-type {\n",
       "        vertical-align: middle;\n",
       "    }\n",
       "\n",
       "    .dataframe tbody tr th {\n",
       "        vertical-align: top;\n",
       "    }\n",
       "\n",
       "    .dataframe thead th {\n",
       "        text-align: right;\n",
       "    }\n",
       "</style>\n",
       "<table border=\"1\" class=\"dataframe\">\n",
       "  <thead>\n",
       "    <tr style=\"text-align: right;\">\n",
       "      <th></th>\n",
       "      <th>texts</th>\n",
       "      <th>labels</th>\n",
       "      <th>retraction_counts</th>\n",
       "      <th>text</th>\n",
       "    </tr>\n",
       "  </thead>\n",
       "  <tbody>\n",
       "    <tr>\n",
       "      <th>0</th>\n",
       "      <td>[The Germans Trias i Pujol University Hospital...</td>\n",
       "      <td>[caption, text, text, section_header, text, se...</td>\n",
       "      <td>[0, 0, 0, 0, 0, 0, 0, 0, 1, 0, 0, 0, 0, 0, 0, ...</td>\n",
       "      <td>\"If you, your spouse, your mother gets admitte...</td>\n",
       "    </tr>\n",
       "    <tr>\n",
       "      <th>1</th>\n",
       "      <td>[CAFFE', AURORA, CAFFE', IN DEPTH, Italy'sCovi...</td>\n",
       "      <td>[text, text, text, text, text, section_header,...</td>\n",
       "      <td>[0, 0, 0, 0, 0, 0, 0, 0, 0, 0, 0, 0, 0, 0, 0, ...</td>\n",
       "      <td>Still, the wealth of genomes is just a tiny sa...</td>\n",
       "    </tr>\n",
       "    <tr>\n",
       "      <th>2</th>\n",
       "      <td>[SCIENTIFICPUBLISHING, Elsevier to Editor: Cha...</td>\n",
       "      <td>[section_header, section_header, text, text, t...</td>\n",
       "      <td>[0, 0, 0, 0, 0, 0, 0, 0, 0, 0, 0, 0, 0, 0, 0, ...</td>\n",
       "      <td>Elsevier that your article should be permanent...</td>\n",
       "    </tr>\n",
       "    <tr>\n",
       "      <th>3</th>\n",
       "      <td>[FEATURES, THE PREPRINT DILEMMA, Biologists ar...</td>\n",
       "      <td>[text, section_header, text, section_header, t...</td>\n",
       "      <td>[0, 0, 0, 0, 0, 1, 0, 0, 0, 0, 0, 0, 0, 0, 0, ...</td>\n",
       "      <td>The episode has fueled calls for stricter comm...</td>\n",
       "    </tr>\n",
       "    <tr>\n",
       "      <th>4</th>\n",
       "      <td>[VACCINEMYTHS, False: Vaccination can cause au...</td>\n",
       "      <td>[section_header, section_header, text, text, t...</td>\n",
       "      <td>[0, 0, 1, 0, 0, 0, 0, 0, 0, 0, 0, 0, 0, 0, 1, ...</td>\n",
       "      <td>Several studies have shown that casting doubt ...</td>\n",
       "    </tr>\n",
       "    <tr>\n",
       "      <th>...</th>\n",
       "      <td>...</td>\n",
       "      <td>...</td>\n",
       "      <td>...</td>\n",
       "      <td>...</td>\n",
       "    </tr>\n",
       "    <tr>\n",
       "      <th>2079</th>\n",
       "      <td>[RETRACTION, In view of the fact that the auth...</td>\n",
       "      <td>[section_header, text, text, text, text, text,...</td>\n",
       "      <td>[1, 2, 0, 0, 0, 0, 0, 0, 1, 0, 0, 0, 0, 0, 0, ...</td>\n",
       "      <td>Toshiki Tajima is in theDepartment ofPhysicsan...</td>\n",
       "    </tr>\n",
       "    <tr>\n",
       "      <th>2080</th>\n",
       "      <td>[Retraction, Quantum problems solved through g...</td>\n",
       "      <td>[section_header, section_header, text, text, t...</td>\n",
       "      <td>[1, 0, 0, 0, 2, 0, 0, 0, 0, 0, 0, 0, 0, 0, 0, ...</td>\n",
       "      <td>Quantum problems solved through games Nature 5...</td>\n",
       "    </tr>\n",
       "    <tr>\n",
       "      <th>2081</th>\n",
       "      <td>[RESEARCH, NEWS&amp;VIEWS, RETRACTION, RETRACTEDAR...</td>\n",
       "      <td>[text, text, text, section_header, section_hea...</td>\n",
       "      <td>[0, 0, 1, 1, 0, 0, 0, 2, 0, 0, 0, 0, 0, 0, 0, ...</td>\n",
       "      <td>NEWS&amp;VIEWS In view of the fact that the paper ...</td>\n",
       "    </tr>\n",
       "    <tr>\n",
       "      <th>2082</th>\n",
       "      <td>[correspondence, concern was exclusively over ...</td>\n",
       "      <td>[section_header, text, text, text, section_hea...</td>\n",
       "      <td>[0, 0, 0, 0, 0, 0, 0, 0, 0, 0, 0, 0, 0, 0, 0, ...</td>\n",
       "      <td>The independence of our editorial decision-mak...</td>\n",
       "    </tr>\n",
       "    <tr>\n",
       "      <th>2083</th>\n",
       "      <td>[News &amp; views, this case, the future sperm cel...</td>\n",
       "      <td>[section_header, text, text, text, text, text,...</td>\n",
       "      <td>[0, 0, 0, 0, 0, 0, 0, 0, 0, 0, 0, 0, 0, 0, 0, ...</td>\n",
       "      <td>The authors wish to alert readers to the fact ...</td>\n",
       "    </tr>\n",
       "  </tbody>\n",
       "</table>\n",
       "<p>2084 rows × 4 columns</p>\n",
       "</div>"
      ],
      "text/plain": [
       "                                                  texts  \\\n",
       "0     [The Germans Trias i Pujol University Hospital...   \n",
       "1     [CAFFE', AURORA, CAFFE', IN DEPTH, Italy'sCovi...   \n",
       "2     [SCIENTIFICPUBLISHING, Elsevier to Editor: Cha...   \n",
       "3     [FEATURES, THE PREPRINT DILEMMA, Biologists ar...   \n",
       "4     [VACCINEMYTHS, False: Vaccination can cause au...   \n",
       "...                                                 ...   \n",
       "2079  [RETRACTION, In view of the fact that the auth...   \n",
       "2080  [Retraction, Quantum problems solved through g...   \n",
       "2081  [RESEARCH, NEWS&VIEWS, RETRACTION, RETRACTEDAR...   \n",
       "2082  [correspondence, concern was exclusively over ...   \n",
       "2083  [News & views, this case, the future sperm cel...   \n",
       "\n",
       "                                                 labels  \\\n",
       "0     [caption, text, text, section_header, text, se...   \n",
       "1     [text, text, text, text, text, section_header,...   \n",
       "2     [section_header, section_header, text, text, t...   \n",
       "3     [text, section_header, text, section_header, t...   \n",
       "4     [section_header, section_header, text, text, t...   \n",
       "...                                                 ...   \n",
       "2079  [section_header, text, text, text, text, text,...   \n",
       "2080  [section_header, section_header, text, text, t...   \n",
       "2081  [text, text, text, section_header, section_hea...   \n",
       "2082  [section_header, text, text, text, section_hea...   \n",
       "2083  [section_header, text, text, text, text, text,...   \n",
       "\n",
       "                                      retraction_counts  \\\n",
       "0     [0, 0, 0, 0, 0, 0, 0, 0, 1, 0, 0, 0, 0, 0, 0, ...   \n",
       "1     [0, 0, 0, 0, 0, 0, 0, 0, 0, 0, 0, 0, 0, 0, 0, ...   \n",
       "2     [0, 0, 0, 0, 0, 0, 0, 0, 0, 0, 0, 0, 0, 0, 0, ...   \n",
       "3     [0, 0, 0, 0, 0, 1, 0, 0, 0, 0, 0, 0, 0, 0, 0, ...   \n",
       "4     [0, 0, 1, 0, 0, 0, 0, 0, 0, 0, 0, 0, 0, 0, 1, ...   \n",
       "...                                                 ...   \n",
       "2079  [1, 2, 0, 0, 0, 0, 0, 0, 1, 0, 0, 0, 0, 0, 0, ...   \n",
       "2080  [1, 0, 0, 0, 2, 0, 0, 0, 0, 0, 0, 0, 0, 0, 0, ...   \n",
       "2081  [0, 0, 1, 1, 0, 0, 0, 2, 0, 0, 0, 0, 0, 0, 0, ...   \n",
       "2082  [0, 0, 0, 0, 0, 0, 0, 0, 0, 0, 0, 0, 0, 0, 0, ...   \n",
       "2083  [0, 0, 0, 0, 0, 0, 0, 0, 0, 0, 0, 0, 0, 0, 0, ...   \n",
       "\n",
       "                                                   text  \n",
       "0     \"If you, your spouse, your mother gets admitte...  \n",
       "1     Still, the wealth of genomes is just a tiny sa...  \n",
       "2     Elsevier that your article should be permanent...  \n",
       "3     The episode has fueled calls for stricter comm...  \n",
       "4     Several studies have shown that casting doubt ...  \n",
       "...                                                 ...  \n",
       "2079  Toshiki Tajima is in theDepartment ofPhysicsan...  \n",
       "2080  Quantum problems solved through games Nature 5...  \n",
       "2081  NEWS&VIEWS In view of the fact that the paper ...  \n",
       "2082  The independence of our editorial decision-mak...  \n",
       "2083  The authors wish to alert readers to the fact ...  \n",
       "\n",
       "[2084 rows x 4 columns]"
      ]
     },
     "execution_count": 49,
     "metadata": {},
     "output_type": "execute_result"
    }
   ],
   "source": [
    "df_PDF"
   ]
  },
  {
   "cell_type": "code",
   "execution_count": 50,
   "id": "3be3a276-e491-45e8-9818-87d32f67dfbb",
   "metadata": {},
   "outputs": [
    {
     "name": "stdout",
     "output_type": "stream",
     "text": [
      "fix Demonyms: \n",
      "       Country             Demonym\n",
      "190     Yemen  Yemeni or Yemenite\n",
      "191    Zambia             Zambian\n",
      "192  Zimbabwe          Zimbabwean\n"
     ]
    }
   ],
   "source": [
    "demmonym=pd.read_excel(\"2024-11-14 demonym.xlsx\")\n",
    "# List from: https://www.thoughtco.com/the-names-of-nationalities-4088817\n",
    "\n",
    "print(\"fix Demonyms: \\n\", demmonym.tail(3))\n",
    "demmonym=dict(zip(demmonym.Demonym,demmonym.Country))\n",
    "demmonym={k.replace(\" or \",\"|\").replace(\", \",\"|\").replace(\"/woman\",\"\").replace(\" (collective)\",\"\"):v.split(\"/\",1)[0] for k,v in demmonym.items()}\n",
    "\n",
    "demmonym={f\"({k})(s|ese|ish)?\":v for k,v in demmonym.items()}\n",
    "\n",
    "df_PDF[\"texts\"]=df_PDF.texts.replace(demmonym,regex=True)\n",
    "\n",
    "\n",
    "# tested with \"American\" & Americans --> \"United States of America\""
   ]
  },
  {
   "cell_type": "code",
   "execution_count": 51,
   "id": "3e732f38-131f-484f-913b-4d33475ed795",
   "metadata": {},
   "outputs": [],
   "source": [
    "#!pip install geonamescache\n",
    "#!pip install pycountry\n",
    "\n",
    "import geonamescache\n",
    "import pycountry\n",
    "\n",
    "# Load the geonamescache data\n",
    "gc = geonamescache.GeonamesCache()\n",
    "cities_data = gc.get_cities()\n",
    "\n",
    "# Minimal city population: 100.000\n",
    "\n",
    "# Create a dictionary to map city names to countries\n",
    "city_country_map = {city['name']: pycountry.countries.get(alpha_2=city['countrycode']).name for city in cities_data.values() \n",
    "                    if pycountry.countries.get(alpha_2=city['countrycode']) and city['population']>100000}\n",
    "\n",
    "city_country_map2 = {}\n",
    "city_city_map = {}\n",
    "for city in cities_data.values():\n",
    "    if city['population']>100000:\n",
    "        for alt_name in city['alternatenames']:\n",
    "            alt_name=alt_name.replace(\"The\",\"\")\n",
    "            if len(alt_name)>3 and alt_name[0].isupper():\n",
    "                if pycountry.countries.get(alpha_2=city['countrycode']):\n",
    "                    city_city_map[alt_name]=city[\"name\"]\n",
    "                    city_country_map2[alt_name] = pycountry.countries.get(alpha_2=city['countrycode']).name\n",
    "\n",
    "city_country_map.update(city_country_map2)\n",
    "\n",
    "\n",
    "#refinements:\n",
    "\n",
    "# Dr Baltimore --> remove Baltimore\n",
    "# Human & Genes are not cities in this context\n",
    "# Van --> most likely some Dutch Name artifact (Van Andel & Van Parijs) and not the Turkish City\n",
    "\n",
    "drop_keys=[\"Human\", \"Genes\", \"Baltimore\", \"Van\"]\n",
    "for key in drop_keys:\n",
    "    city_country_map.pop(key, None)\n",
    "    city_country_map2.pop(key, None)\n",
    "    city_city_map.pop(key, None)"
   ]
  },
  {
   "cell_type": "code",
   "execution_count": 52,
   "id": "1290b690-7778-4d88-b8e8-c9e42927c58e",
   "metadata": {},
   "outputs": [],
   "source": [
    "from collections import defaultdict\n",
    "\n",
    "# Alternative to keep all keys\n",
    "Alternative_Names_list = defaultdict(list)\n",
    "\n",
    "for k, v in city_city_map.items():\n",
    "    Alternative_Names_list[v].append(k)\n",
    "    "
   ]
  },
  {
   "cell_type": "code",
   "execution_count": 53,
   "id": "83a8fc45-cf36-4416-92fb-54784a6b4ab0",
   "metadata": {},
   "outputs": [
    {
     "name": "stderr",
     "output_type": "stream",
     "text": [
      "100%|███████████████████████████████████████| 2084/2084 [00:40<00:00, 51.43it/s]\n",
      "100%|████████████████████████████████████| 2084/2084 [00:00<00:00, 10991.27it/s]\n"
     ]
    }
   ],
   "source": [
    "import regex as re\n",
    "countries=list(set(city_country_map.values()))\n",
    "cities=list(set(city_country_map.keys()))\n",
    "\n",
    "\n",
    "# Prepare the regex pattern from the city names\n",
    "\n",
    "city_names_pattern = r\"\\b(\" + '|'.join(re.escape(city) for city in cities) + r\")\\b\"\n",
    "country_names_pattern = r\"(\"+'|'.join(re.escape(country) for country in countries)+\")\" \n",
    "\n",
    "city_pattern = re.compile(city_names_pattern)\n",
    "country_pattern = re.compile(country_names_pattern)\n",
    "\n",
    "import regex as re\n",
    "\n",
    "def keyword_check(text, re_pattern):\n",
    "    if isinstance(text,str):\n",
    "        matches=re.findall(re_pattern,text)\n",
    "        return matches\n",
    "    \n",
    "df_PDF['contains_city']=df_PDF.text.progress_apply(keyword_check, re_pattern=city_names_pattern)\n",
    "df_PDF['contains_country']=df_PDF.text.progress_apply(keyword_check, re_pattern=country_names_pattern)\n",
    "\n",
    "\n"
   ]
  },
  {
   "cell_type": "code",
   "execution_count": 54,
   "id": "56bae94c-61ab-403c-9895-7acb77cbe7e2",
   "metadata": {},
   "outputs": [
    {
     "data": {
      "text/html": [
       "<div>\n",
       "<style scoped>\n",
       "    .dataframe tbody tr th:only-of-type {\n",
       "        vertical-align: middle;\n",
       "    }\n",
       "\n",
       "    .dataframe tbody tr th {\n",
       "        vertical-align: top;\n",
       "    }\n",
       "\n",
       "    .dataframe thead th {\n",
       "        text-align: right;\n",
       "    }\n",
       "</style>\n",
       "<table border=\"1\" class=\"dataframe\">\n",
       "  <thead>\n",
       "    <tr style=\"text-align: right;\">\n",
       "      <th></th>\n",
       "      <th>texts</th>\n",
       "      <th>labels</th>\n",
       "      <th>retraction_counts</th>\n",
       "      <th>text</th>\n",
       "      <th>contains_city</th>\n",
       "      <th>contains_country</th>\n",
       "      <th>city</th>\n",
       "      <th>country_from_city</th>\n",
       "      <th>country_plus_city</th>\n",
       "      <th>Most Common country</th>\n",
       "    </tr>\n",
       "  </thead>\n",
       "  <tbody>\n",
       "    <tr>\n",
       "      <th>0</th>\n",
       "      <td>[The Germans Trias i Pujol University Hospital...</td>\n",
       "      <td>[caption, text, text, section_header, text, se...</td>\n",
       "      <td>[0, 0, 0, 0, 0, 0, 0, 0, 1, 0, 0, 0, 0, 0, 0, ...</td>\n",
       "      <td>\"If you, your spouse, your mother gets admitte...</td>\n",
       "      <td>[Cambridge]</td>\n",
       "      <td>[]</td>\n",
       "      <td>[Cambridge]</td>\n",
       "      <td>[United States]</td>\n",
       "      <td>[United States]</td>\n",
       "      <td>United States</td>\n",
       "    </tr>\n",
       "    <tr>\n",
       "      <th>1</th>\n",
       "      <td>[CAFFE', AURORA, CAFFE', IN DEPTH, Italy'sCovi...</td>\n",
       "      <td>[text, text, text, text, text, section_header,...</td>\n",
       "      <td>[0, 0, 0, 0, 0, 0, 0, 0, 0, 0, 0, 0, 0, 0, 0, ...</td>\n",
       "      <td>Still, the wealth of genomes is just a tiny sa...</td>\n",
       "      <td>[Peking, Glasgow]</td>\n",
       "      <td>[China]</td>\n",
       "      <td>[Beijing, Glasgow]</td>\n",
       "      <td>[China, United Kingdom]</td>\n",
       "      <td>[China, United Kingdom, China]</td>\n",
       "      <td>China</td>\n",
       "    </tr>\n",
       "    <tr>\n",
       "      <th>2</th>\n",
       "      <td>[SCIENTIFICPUBLISHING, Elsevier to Editor: Cha...</td>\n",
       "      <td>[section_header, section_header, text, text, t...</td>\n",
       "      <td>[0, 0, 0, 0, 0, 0, 0, 0, 0, 0, 0, 0, 0, 0, 0, ...</td>\n",
       "      <td>Elsevier that your article should be permanent...</td>\n",
       "      <td>[]</td>\n",
       "      <td>[South Africa]</td>\n",
       "      <td>[]</td>\n",
       "      <td>[]</td>\n",
       "      <td>[South Africa]</td>\n",
       "      <td>South Africa</td>\n",
       "    </tr>\n",
       "    <tr>\n",
       "      <th>3</th>\n",
       "      <td>[FEATURES, THE PREPRINT DILEMMA, Biologists ar...</td>\n",
       "      <td>[text, section_header, text, section_header, t...</td>\n",
       "      <td>[0, 0, 0, 0, 0, 1, 0, 0, 0, 0, 0, 0, 0, 0, 0, ...</td>\n",
       "      <td>The episode has fueled calls for stricter comm...</td>\n",
       "      <td>[New York, Boston, Cambridge, San Francisco]</td>\n",
       "      <td>[Bulgaria]</td>\n",
       "      <td>[New York City, Boston, Cambridge, San Francisco]</td>\n",
       "      <td>[United States, United States, United States, ...</td>\n",
       "      <td>[United States, United States, United States, ...</td>\n",
       "      <td>United States</td>\n",
       "    </tr>\n",
       "    <tr>\n",
       "      <th>4</th>\n",
       "      <td>[VACCINEMYTHS, False: Vaccination can cause au...</td>\n",
       "      <td>[section_header, section_header, text, text, t...</td>\n",
       "      <td>[0, 0, 1, 0, 0, 0, 0, 0, 0, 0, 0, 0, 0, 0, 1, ...</td>\n",
       "      <td>Several studies have shown that casting doubt ...</td>\n",
       "      <td>[Atlanta, Wakefield]</td>\n",
       "      <td>[United Kingdom, Chad]</td>\n",
       "      <td>[Atlanta, Wakefield]</td>\n",
       "      <td>[United States, United Kingdom]</td>\n",
       "      <td>[United States, United Kingdom, United Kingdom...</td>\n",
       "      <td>United Kingdom</td>\n",
       "    </tr>\n",
       "    <tr>\n",
       "      <th>...</th>\n",
       "      <td>...</td>\n",
       "      <td>...</td>\n",
       "      <td>...</td>\n",
       "      <td>...</td>\n",
       "      <td>...</td>\n",
       "      <td>...</td>\n",
       "      <td>...</td>\n",
       "      <td>...</td>\n",
       "      <td>...</td>\n",
       "      <td>...</td>\n",
       "    </tr>\n",
       "    <tr>\n",
       "      <th>2079</th>\n",
       "      <td>[RETRACTION, In view of the fact that the auth...</td>\n",
       "      <td>[section_header, text, text, text, text, text,...</td>\n",
       "      <td>[1, 2, 0, 0, 0, 0, 0, 0, 1, 0, 0, 0, 0, 0, 0, ...</td>\n",
       "      <td>Toshiki Tajima is in theDepartment ofPhysicsan...</td>\n",
       "      <td>[Tajima, Irvine]</td>\n",
       "      <td>[]</td>\n",
       "      <td>[Tajimi, Irvine]</td>\n",
       "      <td>[Japan, United States]</td>\n",
       "      <td>[Japan, United States]</td>\n",
       "      <td>Japan</td>\n",
       "    </tr>\n",
       "    <tr>\n",
       "      <th>2080</th>\n",
       "      <td>[Retraction, Quantum problems solved through g...</td>\n",
       "      <td>[section_header, section_header, text, text, t...</td>\n",
       "      <td>[1, 0, 0, 0, 2, 0, 0, 0, 0, 0, 0, 0, 0, 0, 0, ...</td>\n",
       "      <td>Quantum problems solved through games Nature 5...</td>\n",
       "      <td>[]</td>\n",
       "      <td>[]</td>\n",
       "      <td>[]</td>\n",
       "      <td>[]</td>\n",
       "      <td>[]</td>\n",
       "      <td>None</td>\n",
       "    </tr>\n",
       "    <tr>\n",
       "      <th>2081</th>\n",
       "      <td>[RESEARCH, NEWS&amp;VIEWS, RETRACTION, RETRACTEDAR...</td>\n",
       "      <td>[text, text, text, section_header, section_hea...</td>\n",
       "      <td>[0, 0, 1, 1, 0, 0, 0, 2, 0, 0, 0, 0, 0, 0, 0, ...</td>\n",
       "      <td>NEWS&amp;VIEWS In view of the fact that the paper ...</td>\n",
       "      <td>[]</td>\n",
       "      <td>[]</td>\n",
       "      <td>[]</td>\n",
       "      <td>[]</td>\n",
       "      <td>[]</td>\n",
       "      <td>None</td>\n",
       "    </tr>\n",
       "    <tr>\n",
       "      <th>2082</th>\n",
       "      <td>[correspondence, concern was exclusively over ...</td>\n",
       "      <td>[section_header, text, text, text, section_hea...</td>\n",
       "      <td>[0, 0, 0, 0, 0, 0, 0, 0, 0, 0, 0, 0, 0, 0, 0, ...</td>\n",
       "      <td>The independence of our editorial decision-mak...</td>\n",
       "      <td>[Berkeley]</td>\n",
       "      <td>[]</td>\n",
       "      <td>[Berkeley]</td>\n",
       "      <td>[United States]</td>\n",
       "      <td>[United States]</td>\n",
       "      <td>United States</td>\n",
       "    </tr>\n",
       "    <tr>\n",
       "      <th>2083</th>\n",
       "      <td>[News &amp; views, this case, the future sperm cel...</td>\n",
       "      <td>[section_header, text, text, text, text, text,...</td>\n",
       "      <td>[0, 0, 0, 0, 0, 0, 0, 0, 0, 0, 0, 0, 0, 0, 0, ...</td>\n",
       "      <td>The authors wish to alert readers to the fact ...</td>\n",
       "      <td>[]</td>\n",
       "      <td>[]</td>\n",
       "      <td>[]</td>\n",
       "      <td>[]</td>\n",
       "      <td>[]</td>\n",
       "      <td>None</td>\n",
       "    </tr>\n",
       "  </tbody>\n",
       "</table>\n",
       "<p>2084 rows × 10 columns</p>\n",
       "</div>"
      ],
      "text/plain": [
       "                                                  texts  \\\n",
       "0     [The Germans Trias i Pujol University Hospital...   \n",
       "1     [CAFFE', AURORA, CAFFE', IN DEPTH, Italy'sCovi...   \n",
       "2     [SCIENTIFICPUBLISHING, Elsevier to Editor: Cha...   \n",
       "3     [FEATURES, THE PREPRINT DILEMMA, Biologists ar...   \n",
       "4     [VACCINEMYTHS, False: Vaccination can cause au...   \n",
       "...                                                 ...   \n",
       "2079  [RETRACTION, In view of the fact that the auth...   \n",
       "2080  [Retraction, Quantum problems solved through g...   \n",
       "2081  [RESEARCH, NEWS&VIEWS, RETRACTION, RETRACTEDAR...   \n",
       "2082  [correspondence, concern was exclusively over ...   \n",
       "2083  [News & views, this case, the future sperm cel...   \n",
       "\n",
       "                                                 labels  \\\n",
       "0     [caption, text, text, section_header, text, se...   \n",
       "1     [text, text, text, text, text, section_header,...   \n",
       "2     [section_header, section_header, text, text, t...   \n",
       "3     [text, section_header, text, section_header, t...   \n",
       "4     [section_header, section_header, text, text, t...   \n",
       "...                                                 ...   \n",
       "2079  [section_header, text, text, text, text, text,...   \n",
       "2080  [section_header, section_header, text, text, t...   \n",
       "2081  [text, text, text, section_header, section_hea...   \n",
       "2082  [section_header, text, text, text, section_hea...   \n",
       "2083  [section_header, text, text, text, text, text,...   \n",
       "\n",
       "                                      retraction_counts  \\\n",
       "0     [0, 0, 0, 0, 0, 0, 0, 0, 1, 0, 0, 0, 0, 0, 0, ...   \n",
       "1     [0, 0, 0, 0, 0, 0, 0, 0, 0, 0, 0, 0, 0, 0, 0, ...   \n",
       "2     [0, 0, 0, 0, 0, 0, 0, 0, 0, 0, 0, 0, 0, 0, 0, ...   \n",
       "3     [0, 0, 0, 0, 0, 1, 0, 0, 0, 0, 0, 0, 0, 0, 0, ...   \n",
       "4     [0, 0, 1, 0, 0, 0, 0, 0, 0, 0, 0, 0, 0, 0, 1, ...   \n",
       "...                                                 ...   \n",
       "2079  [1, 2, 0, 0, 0, 0, 0, 0, 1, 0, 0, 0, 0, 0, 0, ...   \n",
       "2080  [1, 0, 0, 0, 2, 0, 0, 0, 0, 0, 0, 0, 0, 0, 0, ...   \n",
       "2081  [0, 0, 1, 1, 0, 0, 0, 2, 0, 0, 0, 0, 0, 0, 0, ...   \n",
       "2082  [0, 0, 0, 0, 0, 0, 0, 0, 0, 0, 0, 0, 0, 0, 0, ...   \n",
       "2083  [0, 0, 0, 0, 0, 0, 0, 0, 0, 0, 0, 0, 0, 0, 0, ...   \n",
       "\n",
       "                                                   text  \\\n",
       "0     \"If you, your spouse, your mother gets admitte...   \n",
       "1     Still, the wealth of genomes is just a tiny sa...   \n",
       "2     Elsevier that your article should be permanent...   \n",
       "3     The episode has fueled calls for stricter comm...   \n",
       "4     Several studies have shown that casting doubt ...   \n",
       "...                                                 ...   \n",
       "2079  Toshiki Tajima is in theDepartment ofPhysicsan...   \n",
       "2080  Quantum problems solved through games Nature 5...   \n",
       "2081  NEWS&VIEWS In view of the fact that the paper ...   \n",
       "2082  The independence of our editorial decision-mak...   \n",
       "2083  The authors wish to alert readers to the fact ...   \n",
       "\n",
       "                                     contains_city        contains_country  \\\n",
       "0                                      [Cambridge]                      []   \n",
       "1                                [Peking, Glasgow]                 [China]   \n",
       "2                                               []          [South Africa]   \n",
       "3     [New York, Boston, Cambridge, San Francisco]              [Bulgaria]   \n",
       "4                             [Atlanta, Wakefield]  [United Kingdom, Chad]   \n",
       "...                                            ...                     ...   \n",
       "2079                              [Tajima, Irvine]                      []   \n",
       "2080                                            []                      []   \n",
       "2081                                            []                      []   \n",
       "2082                                    [Berkeley]                      []   \n",
       "2083                                            []                      []   \n",
       "\n",
       "                                                   city  \\\n",
       "0                                           [Cambridge]   \n",
       "1                                    [Beijing, Glasgow]   \n",
       "2                                                    []   \n",
       "3     [New York City, Boston, Cambridge, San Francisco]   \n",
       "4                                  [Atlanta, Wakefield]   \n",
       "...                                                 ...   \n",
       "2079                                   [Tajimi, Irvine]   \n",
       "2080                                                 []   \n",
       "2081                                                 []   \n",
       "2082                                         [Berkeley]   \n",
       "2083                                                 []   \n",
       "\n",
       "                                      country_from_city  \\\n",
       "0                                       [United States]   \n",
       "1                               [China, United Kingdom]   \n",
       "2                                                    []   \n",
       "3     [United States, United States, United States, ...   \n",
       "4                       [United States, United Kingdom]   \n",
       "...                                                 ...   \n",
       "2079                             [Japan, United States]   \n",
       "2080                                                 []   \n",
       "2081                                                 []   \n",
       "2082                                    [United States]   \n",
       "2083                                                 []   \n",
       "\n",
       "                                      country_plus_city Most Common country  \n",
       "0                                       [United States]       United States  \n",
       "1                        [China, United Kingdom, China]               China  \n",
       "2                                        [South Africa]        South Africa  \n",
       "3     [United States, United States, United States, ...       United States  \n",
       "4     [United States, United Kingdom, United Kingdom...      United Kingdom  \n",
       "...                                                 ...                 ...  \n",
       "2079                             [Japan, United States]               Japan  \n",
       "2080                                                 []                None  \n",
       "2081                                                 []                None  \n",
       "2082                                    [United States]       United States  \n",
       "2083                                                 []                None  \n",
       "\n",
       "[2084 rows x 10 columns]"
      ]
     },
     "execution_count": 54,
     "metadata": {},
     "output_type": "execute_result"
    }
   ],
   "source": [
    "from collections import Counter\n",
    "df_PDF['city']=df_PDF['contains_city'].apply(lambda x: [city_city_map[i] if i in city_city_map else i for i in x ])\n",
    "df_PDF['country_from_city']=df_PDF['contains_city'].apply(lambda x: [city_country_map[i] if i in city_country_map else i for i in x ])\n",
    "df_PDF[\"country_plus_city\"]=df_PDF[\"country_from_city\"]+df_PDF[\"contains_country\"]\n",
    "df_PDF['Most Common country'] = df_PDF[\"country_plus_city\"].apply(lambda x: Counter(x).most_common()[0][0] if len(x)>0 else None)\n",
    "df_PDF\n"
   ]
  },
  {
   "cell_type": "code",
   "execution_count": null,
   "id": "45847101-fb3d-4044-a258-45b4018e5f08",
   "metadata": {},
   "outputs": [],
   "source": [
    "\n"
   ]
  },
  {
   "cell_type": "code",
   "execution_count": 57,
   "id": "e2d7f69a-bc91-41c5-8b96-b20fae9ecd1f",
   "metadata": {},
   "outputs": [
    {
     "data": {
      "image/png": "[encoded data removed]",
      "text/plain": [
       "<Figure size 800x600 with 4 Axes>"
      ]
     },
     "metadata": {},
     "output_type": "display_data"
    }
   ],
   "source": [
    "\n",
    "import matplotlib.pyplot as plt\n",
    "\n",
    "# Create a 2x2 grid of subplots\n",
    "fig, axs = plt.subplots(2, 2, figsize=(8, 6))\n",
    "\n",
    "# Plot 1: Most common countries - without city indicator\n",
    "df_PDF['contains_country'].explode().dropna().value_counts()[:10].plot.barh(\n",
    "    ax=axs[0, 0], title=\"Most common countries (without city indicator)\"\n",
    ")\n",
    "\n",
    "# Plot 2: Most common cities\n",
    "df_PDF['city'].explode().value_counts()[:10].plot.barh(\n",
    "    ax=axs[0, 1], title=\"Most common cities\"\n",
    ")\n",
    "\n",
    "# Plot 3: Most common countries, including city indicator\n",
    "df_PDF[\"country_plus_city\"].explode().value_counts()[:10].plot.barh(\n",
    "    ax=axs[1, 0], title=\"Most common countries (with city indicator)\"\n",
    ")\n",
    "\n",
    "# Plot 4: Most common countries, only one country per paper\n",
    "df_PDF['Most Common country'].value_counts()[:10].plot.barh(\n",
    "    ax=axs[1, 1], title=\"Most common countries (one country per article)\"\n",
    ")\n",
    "\n",
    "# Adjust layout to prevent overlap\n",
    "plt.tight_layout()\n",
    "\n",
    "# Show the plots\n",
    "plt.show()"
   ]
  },
  {
   "cell_type": "code",
   "execution_count": 72,
   "id": "bd0a154e-6b06-4386-ace1-40888d41fb8e",
   "metadata": {},
   "outputs": [],
   "source": [
    "df[\"name\"]=df.index"
   ]
  },
  {
   "cell_type": "code",
   "execution_count": 74,
   "id": "7f18132e-e897-4c77-8c56-99704b46ecd6",
   "metadata": {},
   "outputs": [],
   "source": [
    "df_fields=df[[\"all_jobs\", 'fields','most_common_fields',\"name\"]]\n",
    "df_country=df_PDF[[\"contains_country\",\"country_plus_city\",\"Most Common country\"]]\n",
    "df_country.index=df.index\n",
    "df_results=df_country.join(df_fields)\n",
    "\n",
    "df_results.to_csv(\"2025-04-26 Country_fields results.csv\")"
   ]
  },
  {
   "cell_type": "code",
   "execution_count": null,
   "id": "b0686477-f85f-4e16-813c-936f53cd749c",
   "metadata": {},
   "outputs": [],
   "source": [
    "df_results"
   ]
  }
 ],
 "metadata": {
  "kernelspec": {
   "display_name": "Python 3 (ipykernel)",
   "language": "python",
   "name": "python3"
  },
  "language_info": {
   "codemirror_mode": {
    "name": "ipython",
    "version": 3
   },
   "file_extension": ".py",
   "mimetype": "text/x-python",
   "name": "python",
   "nbconvert_exporter": "python",
   "pygments_lexer": "ipython3",
   "version": "3.13.2"
  }
 },
 "nbformat": 4,
 "nbformat_minor": 5
}

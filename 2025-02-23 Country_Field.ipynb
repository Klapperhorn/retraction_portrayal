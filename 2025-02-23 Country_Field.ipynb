{
 "cells": [
  {
   "cell_type": "code",
   "execution_count": 174,
   "id": "70a71744-1b87-48bf-8be6-e4161bc6505d",
   "metadata": {},
   "outputs": [
    {
     "name": "stdout",
     "output_type": "stream",
     "text": [
      "The autoreload extension is already loaded. To reload it, use:\n",
      "  %reload_ext autoreload\n"
     ]
    }
   ],
   "source": [
    "from collections import Counter\n",
    "\n",
    "\n",
    "import pandas as pd\n",
    "import matplotlib.pyplot as plt\n",
    "\n",
    "from tqdm import tqdm # progress apply :)\n",
    "tqdm.pandas()\n",
    "\n",
    "from datetime import datetime\n",
    "today=datetime.today().strftime('%Y-%m-%d')\n",
    "\n",
    "\n",
    "%load_ext autoreload\n",
    "%autoreload 2\n",
    "def d(l):\n",
    "    pd.set_option('display.max_colwidth', l)\n",
    "\n",
    "\n"
   ]
  },
  {
   "cell_type": "code",
   "execution_count": 175,
   "id": "6ecc24f1-7995-421e-8e80-d81e95ebbeba",
   "metadata": {},
   "outputs": [
    {
     "name": "stdout",
     "output_type": "stream",
     "text": [
      "(1018, 6) 1027\n"
     ]
    }
   ],
   "source": [
    "new_articles=pd.read_excel(\"2025-04-26 Manual Annotation results_Inclusion.xlsx\")[[\"ID\",\"text\"]]\n",
    "with open('2025-06-06_final_data.txt') as txt:\n",
    "    dataID=txt.read().split(\",\")\n",
    "    \n",
    "\n",
    "\n",
    "df=pd.read_json(\"2025-06-06 PDF import filtered.json\")\n",
    "\n",
    "# check if all data is importet\n",
    "df=df[df.index.isin(dataID)]\n",
    "t=df.index.to_list()\n",
    "set(dataID)-set(t)\n",
    "print(df.shape, len(dataID))\n"
   ]
  },
  {
   "cell_type": "code",
   "execution_count": 176,
   "id": "1766e7e5-d276-4959-b6c8-9d35141aafd5",
   "metadata": {},
   "outputs": [
    {
     "data": {
      "text/plain": [
       "Nature507     Dance retraction. An eight-year-old Nature pap...\n",
       "Nature507b    GM study retracted. Bowing to scientists nearu...\n",
       "Nature454     Study retracted. A landmark paper proposing a ...\n",
       "Nature454b    types of mature cells. In 2011,he stunned the ...\n",
       "Name: text, dtype: object"
      ]
     },
     "execution_count": 176,
     "metadata": {},
     "output_type": "execute_result"
    }
   ],
   "source": [
    "df.loc[['Nature507','Nature507b','Nature454','Nature454b']].text"
   ]
  },
  {
   "cell_type": "code",
   "execution_count": 177,
   "id": "94a9bcdd-5c90-4f28-9d5c-4ace1d75229d",
   "metadata": {},
   "outputs": [
    {
     "name": "stderr",
     "output_type": "stream",
     "text": [
      "100%|███████████████████████████████████████| 1018/1018 [00:25<00:00, 39.41it/s]\n"
     ]
    }
   ],
   "source": [
    "import spacy\n",
    "nlp = spacy.load(\"en_core_web_sm\")\n",
    "\n",
    "def extract_nouns(text):\n",
    "    doc = nlp(text)\n",
    "    results=[]\n",
    "    for token in doc:\n",
    "        # Check if the token is a noun\n",
    "        if token.pos_ == \"NOUN\" or token.pos_ ==\"ADJ\"or token.pos_ ==\"PROPN\":\n",
    "\n",
    "            if len(token.text)>2:\n",
    "                results.append(token.lemma_)\n",
    "    \n",
    "    return results\n",
    "\n",
    "\n",
    "# Assuming df is a pandas DataFrame and 'text' is a column in it\n",
    "df[\"noun_adj\"] = df[\"text\"].progress_apply(extract_nouns)"
   ]
  },
  {
   "cell_type": "code",
   "execution_count": 178,
   "id": "fd15733b-1518-41d8-b953-cbc918efc372",
   "metadata": {},
   "outputs": [
    {
     "data": {
      "text/plain": [
       "noun_adj\n",
       "work           660\n",
       "editor         660\n",
       "such           655\n",
       "more           622\n",
       "many           580\n",
       "article        558\n",
       "Nature         548\n",
       "publication    512\n",
       "time           477\n",
       "university     449\n",
       "group          448\n",
       "review         442\n",
       "people         421\n",
       "new            417\n",
       "report         405\n",
       "finding        397\n",
       "last           376\n",
       "team           373\n",
       "experiment     371\n",
       "problem        360\n",
       "Name: count, dtype: int64"
      ]
     },
     "execution_count": 178,
     "metadata": {},
     "output_type": "execute_result"
    }
   ],
   "source": [
    "df[\"noun_adj\"].explode().value_counts()[20:40]"
   ]
  },
  {
   "cell_type": "code",
   "execution_count": 179,
   "id": "0dd4b808-e41b-484d-bf01-f485c5514303",
   "metadata": {},
   "outputs": [
    {
     "data": {
      "text/plain": [
       "31050"
      ]
     },
     "execution_count": 179,
     "metadata": {},
     "output_type": "execute_result"
    }
   ],
   "source": [
    "noun_adj_propn=df[\"noun_adj\"].explode().drop_duplicates().to_list()\n",
    "len(noun_adj_propn)"
   ]
  },
  {
   "cell_type": "markdown",
   "id": "9271a0e3-6d34-4fcf-9295-c2c6df038d71",
   "metadata": {},
   "source": [
    "# Academic Fields"
   ]
  },
  {
   "cell_type": "code",
   "execution_count": 181,
   "id": "64f3579a-66c3-445b-974d-c958d7c1f83d",
   "metadata": {},
   "outputs": [
    {
     "name": "stdout",
     "output_type": "stream",
     "text": [
      "[nan 'Performing Arts' 'Visual Arts' 'History' 'Languages and Literature'\n",
      " 'Law' 'Philosophy' 'Anthropology' 'Economics' 'Geography'\n",
      " 'Political Science' 'Psychology' 'Sociology' 'Social Work' 'Biology'\n",
      " 'Chemistry' 'Earth Science' 'Space Sciences' 'Physics' 'Computer Science'\n",
      " 'Mathematics' 'Business' 'Engineering and Technology'\n",
      " 'Medicine and Health']\n",
      "['Humanities' 'Social Sciences' 'Natural Sciences' 'Formal Sciences'\n",
      " 'Applied Sciences']\n"
     ]
    },
    {
     "data": {
      "text/plain": [
       "Index(['Domain', 'Field', 'Category', 'Subcategory', 'Subject', 'Discipline'], dtype='object')"
      ]
     },
     "execution_count": 181,
     "metadata": {},
     "output_type": "execute_result"
    }
   ],
   "source": [
    "#https://github.com/kyletscheer/academic-disciplines\n",
    "\n",
    "df_academic_fields=pd.read_excel(\"2024-11-14 Academic Disciplines List.xlsx\",index_col=\"ID\")\n",
    "print(df_academic_fields.Field.unique())\n",
    "\n",
    "print(df_academic_fields.Domain.unique())\n",
    "df_academic_fields.columns"
   ]
  },
  {
   "cell_type": "code",
   "execution_count": 182,
   "id": "f5829f5f-c5d4-4728-9a99-2cfcaecbf3f7",
   "metadata": {},
   "outputs": [],
   "source": [
    "df_academic_fields['combined']= df_academic_fields[[\"Field\",'Category', 'Subcategory', 'Subject', 'Discipline']].values.tolist()\n",
    "df_academic_fields=pd.DataFrame(df_academic_fields.groupby(\"Field\")[\"combined\"].agg(lambda x: list(set(sum(x, [])))))"
   ]
  },
  {
   "cell_type": "code",
   "execution_count": 183,
   "id": "ee19eb10-8cc0-4892-93eb-a829dbfe2769",
   "metadata": {},
   "outputs": [
    {
     "data": {
      "text/plain": [
       "Field\n",
       "Anthropology                  [Biological anthropology, Social anthropology,...\n",
       "Biology                       [Molecular genetics, Cetology, Mycology, Micro...\n",
       "Business                      [Finance, Business management, Business, Marke...\n",
       "Chemistry                     [Chemistry, Molecular biology, Surface chemist...\n",
       "Computer Science              [Relational database, Automata theory , Finite...\n",
       "Earth Science                 [Edaphology, Paleontology, Glaciology, Geology...\n",
       "Economics                     [Environmental economics, Econometrics, Applie...\n",
       "Engineering and Technology    [Ceramic engineering, Instructional simulation...\n",
       "Geography                     [Time geography, Emergency management, Oceanog...\n",
       "History                       [Modern history, Indian history , Ancient Gree...\n",
       "Languages and Literature      [American literature, Creative writing, Ancien...\n",
       "Law                           [Legal management, Commercial law, Public inte...\n",
       "Mathematics                   [Algebraic number theory, Affine geometry, Sta...\n",
       "Medicine and Health           [Molecular genetics, Ophthalmology, Orthopedic...\n",
       "Performing Arts               [Dramaturgy, Directing, Church music, Systemat...\n",
       "Philosophy                    [Philosophical logic, Justification, Mathemati...\n",
       "Physics                       [Electromagnetism, Condensed matter physics, G...\n",
       "Political Science             [Peace and conflict studies, Geopolitics , Can...\n",
       "Psychology                    [Biological psychology, Environmental psycholo...\n",
       "Social Work                   [Person-centered therapy, Family therapy, Fina...\n",
       "Sociology                     [Slavic studies, Social constructionism, Mathe...\n",
       "Space Sciences                [Astronomy , Microwave astronomy, Physical cos...\n",
       "Visual Arts                   [Visual Arts, Film , Architectural analytics, ...\n",
       "Name: combined, dtype: object"
      ]
     },
     "execution_count": 183,
     "metadata": {},
     "output_type": "execute_result"
    }
   ],
   "source": [
    "import regex as re\n",
    "df_academic_fields['combined']=df_academic_fields['combined'].apply(lambda x: [re.sub(r' ?\\((.*?)\\) ?',\"\",i) for i in x if isinstance(i,str)])\n",
    "df_academic_fields['combined']=df_academic_fields['combined'].apply(lambda x: [i for i in x if re.search(\" of \",i)==None]) # remove philosophy of AI and taht shit\n",
    "df_academic_fields['combined']"
   ]
  },
  {
   "cell_type": "code",
   "execution_count": 184,
   "id": "77ab2847-df98-4f1d-92d4-979cc05bdadf",
   "metadata": {},
   "outputs": [
    {
     "data": {
      "text/plain": [
       "(22024, 548)"
      ]
     },
     "execution_count": 184,
     "metadata": {},
     "output_type": "execute_result"
    }
   ],
   "source": [
    "all_jobs=\", \".join(set(df_academic_fields['combined'].explode().dropna()))\n",
    "all_jobs_propn=extract_nouns(all_jobs)\n",
    "all_jobs_propn_reduced=set(all_jobs_propn) & set(noun_adj_propn)\n",
    "\n",
    "len(all_jobs), len(all_jobs_propn_reduced)"
   ]
  },
  {
   "cell_type": "code",
   "execution_count": 185,
   "id": "98dc2976-e6b3-4afc-bd02-a9c00ebaf54f",
   "metadata": {},
   "outputs": [
    {
     "data": {
      "text/plain": [
       "['biological',\n",
       " 'anthropology',\n",
       " 'Social',\n",
       " 'anthropology',\n",
       " 'Archaeology',\n",
       " 'Cultural',\n",
       " 'anthropology',\n",
       " 'Anthropology',\n",
       " 'Linguistic',\n",
       " 'anthropology']"
      ]
     },
     "execution_count": 185,
     "metadata": {},
     "output_type": "execute_result"
    }
   ],
   "source": [
    "len(all_jobs_propn_reduced)\n",
    "df_academic_fields['combined'][\"Anthropology\"]\n",
    "\n",
    "extract_nouns(\" \".join(df_academic_fields['combined'][\"Anthropology\"]))"
   ]
  },
  {
   "cell_type": "code",
   "execution_count": 186,
   "id": "12975fe9-d74f-4900-b50f-6439e23f0406",
   "metadata": {},
   "outputs": [],
   "source": [
    "import regex as re\n",
    "pattern=re.compile(\"|\".join(all_jobs_propn_reduced))\n",
    "\n",
    "#exclude_pattern=re.compile(\"|\".join([\"real\",\"^sciences?\",\"^theory\",\"^law\",\"^studies\",\"^time\",\"methods\",\"outline\",\"scientific\",\"free\",\"world\",\"age\",\"non\"]),re.IGNORECASE)\n",
    "\n",
    "def check_if_relevant(text):\n",
    "    if isinstance(text,list):\n",
    "        text=[i for i in text if isinstance(i, str)]\n",
    "        # If none of the pattern lemmata is in the string, then the job is not relevant.\n",
    "        \n",
    "        text = [job for job in text if re.search(pattern, job)]\n",
    "        text = [re.sub(\" or|,\",\" and\",job) for job in text]\n",
    "        text2=([job.split(\" and \") for job in text  if \" and \"  in job ])\n",
    "        text2=[j for i in text2 for j in i]\n",
    "\n",
    "        text.extend(text2)\n",
    "        #text=[i for i in text if re.search(exclude_pattern,i)==None]\n",
    "        text=list(set(text))\n",
    "    return text\n",
    "\n",
    "df_academic_fields['combined_reduced']=df_academic_fields['combined'].apply(check_if_relevant)"
   ]
  },
  {
   "cell_type": "code",
   "execution_count": 187,
   "id": "b60ea8fa-d4de-4cca-89b5-a542f7e0f219",
   "metadata": {},
   "outputs": [
    {
     "data": {
      "text/plain": [
       "Field\n",
       "Anthropology                  [Biological anthropology, Social anthropology,...\n",
       "Biology                       [Forensic entomology, Histopathology, Molecula...\n",
       "Business                      [Finance, Business management, Operations mana...\n",
       "Chemistry                     [Chemistry, Molecular biology, Surface chemist...\n",
       "Computer Science              [Relational database, Finite element analysis,...\n",
       "Earth Science                 [Paleontology, Hydrology / Limnology / Hydroge...\n",
       "Economics                     [Environmental economics, Financial economics,...\n",
       "Engineering and Technology    [Polymer science, Ceramic engineering, Instruc...\n",
       "Geography                     [Time geography, Emergency management, Oceanog...\n",
       "History                       [Modern history, Chinese history, Indian histo...\n",
       "Languages and Literature      [American literature, Ancient literature, Afri...\n",
       "Law                           [Legal management, Commercial law, Public inte...\n",
       "Mathematics                   [Algebraic number theory, Affine geometry, Sta...\n",
       "Medicine and Health           [Oncology, Rheumatology, Molecular genetics, M...\n",
       "Performing Arts               [Woodwinds and brass and and percussion, Churc...\n",
       "Philosophy                    [Philosophical logic, Mathematical logic, Phil...\n",
       "Physics                       [and optical physics, Condensed matter physics...\n",
       "Political Science             [Peace and conflict studies, Canadian politics...\n",
       "Psychology                    [Biological psychology, Environmental psycholo...\n",
       "Social Work                   [Person-centered therapy, Community practice, ...\n",
       "Sociology                     [Women's studies, Sociobiology, Cultural studi...\n",
       "Space Sciences                [Galaxy formation, Microwave astronomy, Physic...\n",
       "Visual Arts                   [Visual Arts, Studio art, Interior architectur...\n",
       "Name: combined_reduced, dtype: object"
      ]
     },
     "execution_count": 187,
     "metadata": {},
     "output_type": "execute_result"
    }
   ],
   "source": [
    "df_academic_fields['combined_reduced']"
   ]
  },
  {
   "cell_type": "code",
   "execution_count": 188,
   "id": "748b0ff8-be2f-44dc-92e1-841aa6715a58",
   "metadata": {},
   "outputs": [],
   "source": [
    "job_ext_dict={\n",
    "    \"y\":[\"ists?\",\"ers?\",\"ians?\", \"ysts?\",\"y\"],\n",
    "    \"chemistry\":[\"Chemists?\"],\n",
    "    \"law\":[\"legal scholars?\",\"legal reseachers?\",\"law scholars?\"],\n",
    "    \"ics\":[\"ists?\",\"isists?\",\"icians?\",\"ics\"], ## but lots of ethics\n",
    "    \" studies\": [\" scholars?\", \" researchers?\",\" scientists?\",\" studies\"],\n",
    "    \" sciences\": [\" scholars?\",\" researchers?\",\" scientists?\",\" sciences\"],\n",
    "    \"ine\":  [\"ists?\",\"ine\"],\n",
    "    \"ion\":[\"ists?\",\"ors?\",\"ion\"],\n",
    "    \"sition\":[\"nists?\",\"ners?\",\"sition\"],\n",
    "    \"design\":[\"designers?\",\"design researchers?\",\"design\"],\n",
    "    \"sis\":[\"ysts?\",\"ists?\",\"sis researchers?\",\"sis scientists?\"],\n",
    "    \"engineering\":[\"engineers?\",\"engineering\"],\n",
    "    \"programming\":[\"programmers?\"]}\n",
    "\n",
    "\n",
    "def add_jobs(job_list):\n",
    "    job_list=list(set(job_list))\n",
    "    new_list=[]\n",
    "    all_keys=re.compile(\"|\".join([k+\"$\" for k in job_ext_dict.keys()]),flags=re.IGNORECASE)\n",
    "\n",
    "    for job in job_list:\n",
    "        important_key=re.search(all_keys,job)\n",
    "        if important_key!=None:\n",
    "\n",
    "            important_key=important_key.group().lower()\n",
    "            #print(important_key)\n",
    "            v=job_ext_dict[important_key]\n",
    "            #print(re.match(all_keys,job))\n",
    "            for v_item in v:\n",
    "                #print(job, v_item,important_key)\n",
    "                new_job=re.sub(important_key+\"$\", v_item, job, flags=re.IGNORECASE)\n",
    "               # print(job,new_job)\n",
    "                new_list.append(new_job)\n",
    "        else:\n",
    "            for i in [\"students?\",\"scholars?\",\"researchers?\",\"scientists?\"]:\n",
    "                new_job=f\"{job} {i}\"\n",
    "                new_list.append(new_job)\n",
    "\n",
    "        \n",
    "\n",
    "    #job_list+=new_list\n",
    "    #new_list+=job_list\n",
    "    return new_list\n",
    "\n",
    "df_academic_fields[\"combined_extended\"]=df_academic_fields[\"combined_reduced\"].apply(add_jobs)\n"
   ]
  },
  {
   "cell_type": "code",
   "execution_count": 189,
   "id": "56251e52-6a52-4524-92b7-da6a6e2ad342",
   "metadata": {},
   "outputs": [
    {
     "name": "stdout",
     "output_type": "stream",
     "text": [
      "3701\n"
     ]
    }
   ],
   "source": [
    "\n",
    "all_jobs=df_academic_fields[\"combined_extended\"].explode().dropna().drop_duplicates()\n",
    "all_jobs_tuple_list = list(zip(all_jobs.index, all_jobs.values))\n",
    "\n",
    "print(len(all_jobs.to_list()))\n",
    "#all_jobs[\"Physics\"].to_list()"
   ]
  },
  {
   "cell_type": "code",
   "execution_count": 190,
   "id": "b1f22d1d-8e3d-4d0b-a43c-bc7d438d1e22",
   "metadata": {},
   "outputs": [
    {
     "name": "stderr",
     "output_type": "stream",
     "text": [
      "100%|███████████████████████████████████████| 1018/1018 [00:14<00:00, 70.93it/s]\n"
     ]
    }
   ],
   "source": [
    "import regex as re\n",
    "\n",
    "all_jobs_ext_regex= re.compile(r\"\\b(\" + \"|\".join(all_jobs) + r\")\\b\"+r\"{i<=2:\\s}(?b)(?e)\", re.IGNORECASE)\n",
    "\n",
    "def keyword_check(text, re_pattern):\n",
    "    if isinstance(text,str):\n",
    "        matches=re.findall(re_pattern,text)\n",
    "        matches=[i for i in matches if i]\n",
    "        return matches\n",
    "\n",
    "df[\"all_jobs\"]=df[\"text\"].progress_apply(keyword_check, re_pattern=all_jobs_ext_regex)\n",
    "\n",
    "#df[\"all_jobs\"]=df[\"text\"].progress_apply(keyword_check, re_pattern=all_jobs_regex)"
   ]
  },
  {
   "cell_type": "code",
   "execution_count": 191,
   "id": "509aa099-394b-4e20-b839-d45163e24b01",
   "metadata": {},
   "outputs": [
    {
     "data": {
      "text/plain": [
       "all_jobs\n",
       "Technology               175\n",
       "Medicine                 136\n",
       "Biology                  114\n",
       "Biologist                 79\n",
       "Physics                   71\n",
       "Engineering               32\n",
       "Chemist                   31\n",
       "Biologists                30\n",
       "Evolution                 27\n",
       "Surgery                   24\n",
       "Social Psychologist       20\n",
       "Physician                 18\n",
       "Microbiologist            18\n",
       "Physicians                18\n",
       "Developmental Biology     17\n",
       "Bioethics                 17\n",
       "Chemists                  16\n",
       "Epidemiologist            15\n",
       "Pathology                 13\n",
       "Oncology                  13\n",
       "Name: count, dtype: int64"
      ]
     },
     "execution_count": 191,
     "metadata": {},
     "output_type": "execute_result"
    }
   ],
   "source": [
    "# Most common Job names in the corpus\n",
    "df[\"all_jobs\"].explode().str.title().value_counts()[:20]"
   ]
  },
  {
   "cell_type": "code",
   "execution_count": 192,
   "id": "6c42828a-7973-487d-ac8a-f9b755a23503",
   "metadata": {},
   "outputs": [
    {
     "name": "stderr",
     "output_type": "stream",
     "text": [
      "100%|███████████████████████████████████████| 1018/1018 [02:46<00:00,  6.10it/s]\n"
     ]
    }
   ],
   "source": [
    "## fixed AMBIGUITY: Consider that the jobs can fit into multiple disciplines: if more than one discipline fits to the job --> ignore!\n",
    "\n",
    "def lookup(s, lookups):\n",
    "    matched_patterns = []  # Initialize an empty list to collect matches\n",
    "    for pattern, value in lookups:\n",
    "        if re.search(value, s, re.IGNORECASE):\n",
    "            matched_patterns.append(pattern) # Append the pattern to the list if there's a match\n",
    "    if len(matched_patterns)==1:\n",
    "        return matched_patterns[0]  # Return the list of matched patterns\n",
    "    else:\n",
    "        return None\n",
    "\n",
    "df[\"fields\"] = df[\"all_jobs\"].progress_apply(lambda x: [lookup(job, all_jobs_tuple_list) for job in x])\n"
   ]
  },
  {
   "cell_type": "code",
   "execution_count": 193,
   "id": "92f2c8fd-ea66-4470-97e6-bebd727c9380",
   "metadata": {},
   "outputs": [
    {
     "data": {
      "text/plain": [
       "<Axes: title={'center': 'academic fields (multiple per paper)'}, ylabel='count'>"
      ]
     },
     "execution_count": 193,
     "metadata": {},
     "output_type": "execute_result"
    },
    {
     "data": {
      "image/png": "[encoded data removed]",
      "text/plain": [
       "<Figure size 400x400 with 1 Axes>"
      ]
     },
     "metadata": {},
     "output_type": "display_data"
    }
   ],
   "source": [
    "Disciplines2=df[\"fields\"] .explode().value_counts()\n",
    "\n",
    "top_x=7\n",
    "top5=Disciplines2[:top_x]\n",
    "top5[\"others\"]=Disciplines2[top_x:].sum()\n",
    "top5.plot.pie(figsize=(4,4), title=\"academic fields (multiple per paper)\", autopct='%1.1f%%')"
   ]
  },
  {
   "cell_type": "code",
   "execution_count": 194,
   "id": "95943382-bfe5-40a6-93ab-952dd5d584ae",
   "metadata": {},
   "outputs": [],
   "source": [
    "\n",
    "# Function to find the most common fields per paper\n",
    "def most_common(fields):\n",
    "    if not fields or all(f is None for f in fields):  # Handle empty or None lists\n",
    "        return []\n",
    "    \n",
    "    # Count occurrences and find the max count\n",
    "    counts = pd.Series(fields).value_counts()\n",
    "    max_count = counts.max()\n",
    "    \n",
    "    # Return all fields with the max count\n",
    "    return counts[counts == max_count].index.tolist()\n",
    "\n",
    "# Apply the function to the 'fields' column\n",
    "df['most_common_fields'] = df[\"fields\"].apply(most_common)"
   ]
  },
  {
   "cell_type": "code",
   "execution_count": 195,
   "id": "dc637e5b-7f69-4419-9203-4e85adc822b8",
   "metadata": {},
   "outputs": [
    {
     "data": {
      "text/plain": [
       "Science113     [Physics, Chemistry]\n",
       "Science116                       []\n",
       "Science119                       []\n",
       "Science149                [Biology]\n",
       "Science159                       []\n",
       "                      ...          \n",
       "Nature1223                       []\n",
       "Nature1358    [Medicine and Health]\n",
       "Nature293                        []\n",
       "Nature507b                       []\n",
       "Nature454b                       []\n",
       "Name: most_common_fields, Length: 1018, dtype: object"
      ]
     },
     "execution_count": 195,
     "metadata": {},
     "output_type": "execute_result"
    }
   ],
   "source": [
    "df['most_common_fields']"
   ]
  },
  {
   "cell_type": "code",
   "execution_count": 196,
   "id": "19a1a2fe-8bf3-4893-a393-3746697cb465",
   "metadata": {},
   "outputs": [
    {
     "data": {
      "text/plain": [
       "<Axes: title={'center': 'academic fields (one per paper)'}, ylabel='count'>"
      ]
     },
     "execution_count": 196,
     "metadata": {},
     "output_type": "execute_result"
    },
    {
     "data": {
      "image/png": "[encoded data removed]",
      "text/plain": [
       "<Figure size 400x400 with 1 Axes>"
      ]
     },
     "metadata": {},
     "output_type": "display_data"
    }
   ],
   "source": [
    "Disciplines3=df['most_common_fields'].explode().value_counts()\n",
    "\n",
    "\n",
    "top_x=7\n",
    "top5=Disciplines3[:top_x]\n",
    "top5[\"others\"]=Disciplines3[top_x:].sum()\n",
    "top5.plot.pie(figsize=(4,4), title=\"academic fields (one per paper)\", autopct='%1.1f%%')"
   ]
  },
  {
   "cell_type": "code",
   "execution_count": 197,
   "id": "06f102e0-81e0-492d-baae-414b6b1a709c",
   "metadata": {},
   "outputs": [
    {
     "data": {
      "text/html": [
       "<div>\n",
       "<style scoped>\n",
       "    .dataframe tbody tr th:only-of-type {\n",
       "        vertical-align: middle;\n",
       "    }\n",
       "\n",
       "    .dataframe tbody tr th {\n",
       "        vertical-align: top;\n",
       "    }\n",
       "\n",
       "    .dataframe thead th {\n",
       "        text-align: right;\n",
       "    }\n",
       "</style>\n",
       "<table border=\"1\" class=\"dataframe\">\n",
       "  <thead>\n",
       "    <tr style=\"text-align: right;\">\n",
       "      <th></th>\n",
       "      <th>fields</th>\n",
       "      <th>all_jobs</th>\n",
       "      <th>most_common_fields</th>\n",
       "    </tr>\n",
       "  </thead>\n",
       "  <tbody>\n",
       "    <tr>\n",
       "      <th>Science113</th>\n",
       "      <td>[Physics, Chemistry]</td>\n",
       "      <td>[physician, pharmacologist]</td>\n",
       "      <td>[Physics, Chemistry]</td>\n",
       "    </tr>\n",
       "    <tr>\n",
       "      <th>Science116</th>\n",
       "      <td>[]</td>\n",
       "      <td>[]</td>\n",
       "      <td>[]</td>\n",
       "    </tr>\n",
       "    <tr>\n",
       "      <th>Science119</th>\n",
       "      <td>[None]</td>\n",
       "      <td>[economist]</td>\n",
       "      <td>[]</td>\n",
       "    </tr>\n",
       "    <tr>\n",
       "      <th>Science149</th>\n",
       "      <td>[Biology, Physics, Biology, Engineering and Te...</td>\n",
       "      <td>[biologists, physics, biologist, Technology, b...</td>\n",
       "      <td>[Biology]</td>\n",
       "    </tr>\n",
       "    <tr>\n",
       "      <th>Science159</th>\n",
       "      <td>[]</td>\n",
       "      <td>[]</td>\n",
       "      <td>[]</td>\n",
       "    </tr>\n",
       "  </tbody>\n",
       "</table>\n",
       "</div>"
      ],
      "text/plain": [
       "                                                       fields  \\\n",
       "Science113                               [Physics, Chemistry]   \n",
       "Science116                                                 []   \n",
       "Science119                                             [None]   \n",
       "Science149  [Biology, Physics, Biology, Engineering and Te...   \n",
       "Science159                                                 []   \n",
       "\n",
       "                                                     all_jobs  \\\n",
       "Science113                        [physician, pharmacologist]   \n",
       "Science116                                                 []   \n",
       "Science119                                        [economist]   \n",
       "Science149  [biologists, physics, biologist, Technology, b...   \n",
       "Science159                                                 []   \n",
       "\n",
       "              most_common_fields  \n",
       "Science113  [Physics, Chemistry]  \n",
       "Science116                    []  \n",
       "Science119                    []  \n",
       "Science149             [Biology]  \n",
       "Science159                    []  "
      ]
     },
     "execution_count": 197,
     "metadata": {},
     "output_type": "execute_result"
    }
   ],
   "source": [
    "df[[\"fields\",\"all_jobs\",'most_common_fields']].head()"
   ]
  },
  {
   "cell_type": "code",
   "execution_count": 198,
   "id": "635c9ab2-a13e-462c-9554-6fd9d2c6999b",
   "metadata": {},
   "outputs": [
    {
     "data": {
      "text/plain": [
       "regex.Regex('\\x08and optical physists?|and optical physisists?|and optical physicians?|and optical physics|Condensed matter physists?|Condensed matter physisists?|Condensed matter physicians?|Condensed matter physics|Fluid dynamists?|Fluid dynamisists?|Fluid dynamicians?|Fluid dynamics|Theoretical physists?|Theoretical physisists?|Theoretical physicians?|Theoretical physics|Statistical mechanists?|Statistical mechanisists?|Statistical mechanicians?|Statistical mechanics|Atomic and molecular and and optical physists?|Atomic and molecular and and optical physisists?|Atomic and molecular and and optical physicians?|Atomic and molecular and and optical physics|Experimental physists?|Experimental physisists?|Experimental physicians?|Experimental physics|Atomic students?|Atomic scholars?|Atomic researchers?|Atomic scientists?|Astrophysists?|Astrophysisists?|Astrophysicians?|Astrophysics|Physists?|Physisists?|Physicians?|Physics|Plasma physists?|Plasma physisists?|Plasma physicians?|Plasma physics|Geophysics\\xa0 students?|Geophysics\\xa0 scholars?|Geophysics\\xa0 researchers?|Geophysics\\xa0 scientists?|Molecular physists?|Molecular physisists?|Molecular physicians?|Molecular physics|Mathematical physists?|Mathematical physisists?|Mathematical physicians?|Mathematical physics|Medical physists?|Medical physisists?|Medical physicians?|Medical physics|Computational physists?|Computational physisists?|Computational physicians?|Computational physics|Mechanists?|Mechanisists?|Mechanicians?|Mechanics|Thermal physists?|Thermal physisists?|Thermal physicians?|Thermal physics|Aerodynamists?|Aerodynamisists?|Aerodynamicians?|Aerodynamics|Elementary particle physists?|Elementary particle physisists?|Elementary particle physicians?|Elementary particle physics|Solid state physists?|Solid state physisists?|Solid state physicians?|Solid state physics|Newtonian dynamists?|Newtonian dynamisists?|Newtonian dynamicians?|Newtonian dynamics|Quantum physists?|Quantum physisists?|Quantum physicians?|Quantum physics|Biophysics\\xa0 students?|Biophysics\\xa0 scholars?|Biophysics\\xa0 researchers?|Biophysics\\xa0 scientists?|Applied physists?|Applied physisists?|Applied physicians?|Applied physics|Optists?|Optisists?|Opticians?|Optics|Thermodynamists?|Thermodynamisists?|Thermodynamicians?|Thermodynamics|molecular students?|molecular scholars?|molecular researchers?|molecular scientists?|Solid mechanists?|Solid mechanisists?|Solid mechanicians?|Solid mechanics|Nuclear physists?|Nuclear physisists?|Nuclear physicians?|Nuclear physics\\x08', flags=regex.I | regex.V0)"
      ]
     },
     "execution_count": 198,
     "metadata": {},
     "output_type": "execute_result"
    }
   ],
   "source": [
    "df_academic_fields[\"combined_extended_regex\"]=df_academic_fields[\"combined_extended\"].apply(lambda x:\"|\".join(x)).str.replace(\"||\",\"|\")\n",
    "\n",
    "#academic_fields_dict_regex={k:re.compile(\"(\" +v + \")\" +r\"{i<=2:\\s}(?b)(?e)\", re.IGNORECASE) for k,v in df_academic_fields[\"combined_extended_regex\"].items()}\n",
    "academic_fields_dict_regex={k:re.compile(\"\\b\"+v+\"\\b\", re.IGNORECASE) for k,v in df_academic_fields[\"combined_extended_regex\"].items()}\n",
    "\n",
    "academic_fields_dict_regex['Physics']"
   ]
  },
  {
   "cell_type": "code",
   "execution_count": 199,
   "id": "1b556032-6f9b-4d89-84be-aec9d754ca52",
   "metadata": {},
   "outputs": [
    {
     "name": "stdout",
     "output_type": "stream",
     "text": [
      "Anthropology\n"
     ]
    },
    {
     "name": "stderr",
     "output_type": "stream",
     "text": [
      "100%|█████████████████████████████████████| 1018/1018 [00:00<00:00, 7073.42it/s]\n"
     ]
    },
    {
     "name": "stdout",
     "output_type": "stream",
     "text": [
      "Biology\n"
     ]
    },
    {
     "name": "stderr",
     "output_type": "stream",
     "text": [
      "100%|██████████████████████████████████████| 1018/1018 [00:02<00:00, 347.70it/s]\n"
     ]
    },
    {
     "name": "stdout",
     "output_type": "stream",
     "text": [
      "Business\n"
     ]
    },
    {
     "name": "stderr",
     "output_type": "stream",
     "text": [
      "100%|████████████████████████████████████| 1018/1018 [00:00<00:00, 16445.72it/s]\n"
     ]
    },
    {
     "name": "stdout",
     "output_type": "stream",
     "text": [
      "Chemistry\n"
     ]
    },
    {
     "name": "stderr",
     "output_type": "stream",
     "text": [
      "100%|██████████████████████████████████████| 1018/1018 [00:01<00:00, 996.03it/s]\n"
     ]
    },
    {
     "name": "stdout",
     "output_type": "stream",
     "text": [
      "Computer Science\n"
     ]
    },
    {
     "name": "stderr",
     "output_type": "stream",
     "text": [
      "100%|██████████████████████████████████████| 1018/1018 [00:04<00:00, 212.11it/s]\n"
     ]
    },
    {
     "name": "stdout",
     "output_type": "stream",
     "text": [
      "Earth Science\n"
     ]
    },
    {
     "name": "stderr",
     "output_type": "stream",
     "text": [
      "100%|█████████████████████████████████████| 1018/1018 [00:00<00:00, 2337.18it/s]\n"
     ]
    },
    {
     "name": "stdout",
     "output_type": "stream",
     "text": [
      "Economics\n"
     ]
    },
    {
     "name": "stderr",
     "output_type": "stream",
     "text": [
      "100%|██████████████████████████████████████| 1018/1018 [00:02<00:00, 408.01it/s]\n"
     ]
    },
    {
     "name": "stdout",
     "output_type": "stream",
     "text": [
      "Engineering and Technology\n"
     ]
    },
    {
     "name": "stderr",
     "output_type": "stream",
     "text": [
      "100%|██████████████████████████████████████| 1018/1018 [00:06<00:00, 166.97it/s]\n"
     ]
    },
    {
     "name": "stdout",
     "output_type": "stream",
     "text": [
      "Geography\n"
     ]
    },
    {
     "name": "stderr",
     "output_type": "stream",
     "text": [
      "100%|█████████████████████████████████████| 1018/1018 [00:01<00:00, 1013.21it/s]\n"
     ]
    },
    {
     "name": "stdout",
     "output_type": "stream",
     "text": [
      "History\n"
     ]
    },
    {
     "name": "stderr",
     "output_type": "stream",
     "text": [
      "100%|██████████████████████████████████████| 1018/1018 [00:01<00:00, 558.14it/s]\n"
     ]
    },
    {
     "name": "stdout",
     "output_type": "stream",
     "text": [
      "Languages and Literature\n"
     ]
    },
    {
     "name": "stderr",
     "output_type": "stream",
     "text": [
      "100%|██████████████████████████████████████| 1018/1018 [00:01<00:00, 909.12it/s]\n"
     ]
    },
    {
     "name": "stdout",
     "output_type": "stream",
     "text": [
      "Law\n"
     ]
    },
    {
     "name": "stderr",
     "output_type": "stream",
     "text": [
      "100%|█████████████████████████████████████| 1018/1018 [00:00<00:00, 1024.82it/s]\n"
     ]
    },
    {
     "name": "stdout",
     "output_type": "stream",
     "text": [
      "Mathematics\n"
     ]
    },
    {
     "name": "stderr",
     "output_type": "stream",
     "text": [
      "100%|██████████████████████████████████████| 1018/1018 [00:05<00:00, 175.47it/s]\n"
     ]
    },
    {
     "name": "stdout",
     "output_type": "stream",
     "text": [
      "Medicine and Health\n"
     ]
    },
    {
     "name": "stderr",
     "output_type": "stream",
     "text": [
      "100%|██████████████████████████████████████| 1018/1018 [00:03<00:00, 259.52it/s]\n"
     ]
    },
    {
     "name": "stdout",
     "output_type": "stream",
     "text": [
      "Performing Arts\n"
     ]
    },
    {
     "name": "stderr",
     "output_type": "stream",
     "text": [
      "100%|██████████████████████████████████████| 1018/1018 [00:01<00:00, 852.00it/s]\n"
     ]
    },
    {
     "name": "stdout",
     "output_type": "stream",
     "text": [
      "Philosophy\n"
     ]
    },
    {
     "name": "stderr",
     "output_type": "stream",
     "text": [
      "100%|██████████████████████████████████████| 1018/1018 [00:01<00:00, 639.26it/s]\n"
     ]
    },
    {
     "name": "stdout",
     "output_type": "stream",
     "text": [
      "Physics\n"
     ]
    },
    {
     "name": "stderr",
     "output_type": "stream",
     "text": [
      "100%|██████████████████████████████████████| 1018/1018 [00:01<00:00, 859.16it/s]\n"
     ]
    },
    {
     "name": "stdout",
     "output_type": "stream",
     "text": [
      "Political Science\n"
     ]
    },
    {
     "name": "stderr",
     "output_type": "stream",
     "text": [
      "100%|█████████████████████████████████████| 1018/1018 [00:00<00:00, 2467.45it/s]\n"
     ]
    },
    {
     "name": "stdout",
     "output_type": "stream",
     "text": [
      "Psychology\n"
     ]
    },
    {
     "name": "stderr",
     "output_type": "stream",
     "text": [
      "100%|██████████████████████████████████████| 1018/1018 [00:03<00:00, 269.04it/s]\n"
     ]
    },
    {
     "name": "stdout",
     "output_type": "stream",
     "text": [
      "Social Work\n"
     ]
    },
    {
     "name": "stderr",
     "output_type": "stream",
     "text": [
      "100%|█████████████████████████████████████| 1018/1018 [00:00<00:00, 7649.70it/s]\n"
     ]
    },
    {
     "name": "stdout",
     "output_type": "stream",
     "text": [
      "Sociology\n"
     ]
    },
    {
     "name": "stderr",
     "output_type": "stream",
     "text": [
      "100%|██████████████████████████████████████| 1018/1018 [00:03<00:00, 294.50it/s]\n"
     ]
    },
    {
     "name": "stdout",
     "output_type": "stream",
     "text": [
      "Space Sciences\n"
     ]
    },
    {
     "name": "stderr",
     "output_type": "stream",
     "text": [
      "100%|██████████████████████████████████████| 1018/1018 [00:01<00:00, 827.79it/s]\n"
     ]
    },
    {
     "name": "stdout",
     "output_type": "stream",
     "text": [
      "Visual Arts\n"
     ]
    },
    {
     "name": "stderr",
     "output_type": "stream",
     "text": [
      "100%|█████████████████████████████████████| 1018/1018 [00:00<00:00, 2271.94it/s]\n"
     ]
    }
   ],
   "source": [
    "#fields_regex={k: re.compile(\"(\" + \"|\".join(v) + \")\" +r\"{i<=2:\\s}(?b)(?e)\", re.IGNORECASE) for k, v in academic_fields.items()}\n",
    "#fields_regex={k: re.compile(\"(\" + \"|\".join(v) + \")\" +r\"{i<=2:\\s}(?b)(?e)\", re.IGNORECASE) for k, v in fields_dict.items()}\n",
    "\n",
    "\n",
    "def keyword_check(text, re_pattern):\n",
    "    if isinstance(text,str):\n",
    "        matches=re.findall(re_pattern,text)\n",
    "\n",
    "        return len(matches)\n",
    "\n",
    "for k, v in academic_fields_dict_regex.items():\n",
    "    print(k)\n",
    "    df[k]=df[\"text\"].progress_apply(keyword_check, re_pattern=v)"
   ]
  },
  {
   "cell_type": "code",
   "execution_count": 200,
   "id": "ee1a1b0e-2024-4cc3-b2e4-dbedc7dd8d25",
   "metadata": {},
   "outputs": [
    {
     "data": {
      "text/html": [
       "<div>\n",
       "<style scoped>\n",
       "    .dataframe tbody tr th:only-of-type {\n",
       "        vertical-align: middle;\n",
       "    }\n",
       "\n",
       "    .dataframe tbody tr th {\n",
       "        vertical-align: top;\n",
       "    }\n",
       "\n",
       "    .dataframe thead th {\n",
       "        text-align: right;\n",
       "    }\n",
       "</style>\n",
       "<table border=\"1\" class=\"dataframe\">\n",
       "  <thead>\n",
       "    <tr style=\"text-align: right;\">\n",
       "      <th></th>\n",
       "      <th>Anthropology</th>\n",
       "      <th>Biology</th>\n",
       "      <th>Business</th>\n",
       "      <th>Chemistry</th>\n",
       "      <th>Computer Science</th>\n",
       "      <th>Earth Science</th>\n",
       "      <th>Economics</th>\n",
       "      <th>Engineering and Technology</th>\n",
       "      <th>Geography</th>\n",
       "      <th>History</th>\n",
       "      <th>...</th>\n",
       "      <th>Medicine and Health</th>\n",
       "      <th>Performing Arts</th>\n",
       "      <th>Philosophy</th>\n",
       "      <th>Physics</th>\n",
       "      <th>Political Science</th>\n",
       "      <th>Psychology</th>\n",
       "      <th>Social Work</th>\n",
       "      <th>Sociology</th>\n",
       "      <th>Space Sciences</th>\n",
       "      <th>Visual Arts</th>\n",
       "    </tr>\n",
       "  </thead>\n",
       "  <tbody>\n",
       "    <tr>\n",
       "      <th>Science113</th>\n",
       "      <td>0</td>\n",
       "      <td>0</td>\n",
       "      <td>0</td>\n",
       "      <td>1</td>\n",
       "      <td>0</td>\n",
       "      <td>0</td>\n",
       "      <td>0</td>\n",
       "      <td>0</td>\n",
       "      <td>0</td>\n",
       "      <td>0</td>\n",
       "      <td>...</td>\n",
       "      <td>1</td>\n",
       "      <td>0</td>\n",
       "      <td>0</td>\n",
       "      <td>1</td>\n",
       "      <td>0</td>\n",
       "      <td>0</td>\n",
       "      <td>0</td>\n",
       "      <td>0</td>\n",
       "      <td>0</td>\n",
       "      <td>0</td>\n",
       "    </tr>\n",
       "    <tr>\n",
       "      <th>Science116</th>\n",
       "      <td>0</td>\n",
       "      <td>0</td>\n",
       "      <td>0</td>\n",
       "      <td>0</td>\n",
       "      <td>0</td>\n",
       "      <td>0</td>\n",
       "      <td>0</td>\n",
       "      <td>0</td>\n",
       "      <td>0</td>\n",
       "      <td>0</td>\n",
       "      <td>...</td>\n",
       "      <td>0</td>\n",
       "      <td>0</td>\n",
       "      <td>0</td>\n",
       "      <td>0</td>\n",
       "      <td>0</td>\n",
       "      <td>0</td>\n",
       "      <td>0</td>\n",
       "      <td>0</td>\n",
       "      <td>0</td>\n",
       "      <td>0</td>\n",
       "    </tr>\n",
       "    <tr>\n",
       "      <th>Science119</th>\n",
       "      <td>0</td>\n",
       "      <td>0</td>\n",
       "      <td>0</td>\n",
       "      <td>0</td>\n",
       "      <td>0</td>\n",
       "      <td>0</td>\n",
       "      <td>1</td>\n",
       "      <td>0</td>\n",
       "      <td>0</td>\n",
       "      <td>0</td>\n",
       "      <td>...</td>\n",
       "      <td>0</td>\n",
       "      <td>0</td>\n",
       "      <td>0</td>\n",
       "      <td>0</td>\n",
       "      <td>0</td>\n",
       "      <td>0</td>\n",
       "      <td>0</td>\n",
       "      <td>0</td>\n",
       "      <td>0</td>\n",
       "      <td>0</td>\n",
       "    </tr>\n",
       "    <tr>\n",
       "      <th>Science149</th>\n",
       "      <td>0</td>\n",
       "      <td>4</td>\n",
       "      <td>0</td>\n",
       "      <td>0</td>\n",
       "      <td>0</td>\n",
       "      <td>0</td>\n",
       "      <td>0</td>\n",
       "      <td>1</td>\n",
       "      <td>0</td>\n",
       "      <td>0</td>\n",
       "      <td>...</td>\n",
       "      <td>1</td>\n",
       "      <td>0</td>\n",
       "      <td>0</td>\n",
       "      <td>1</td>\n",
       "      <td>0</td>\n",
       "      <td>0</td>\n",
       "      <td>0</td>\n",
       "      <td>0</td>\n",
       "      <td>0</td>\n",
       "      <td>0</td>\n",
       "    </tr>\n",
       "    <tr>\n",
       "      <th>Science159</th>\n",
       "      <td>0</td>\n",
       "      <td>0</td>\n",
       "      <td>0</td>\n",
       "      <td>0</td>\n",
       "      <td>0</td>\n",
       "      <td>0</td>\n",
       "      <td>0</td>\n",
       "      <td>1</td>\n",
       "      <td>0</td>\n",
       "      <td>0</td>\n",
       "      <td>...</td>\n",
       "      <td>0</td>\n",
       "      <td>0</td>\n",
       "      <td>0</td>\n",
       "      <td>0</td>\n",
       "      <td>0</td>\n",
       "      <td>0</td>\n",
       "      <td>0</td>\n",
       "      <td>0</td>\n",
       "      <td>0</td>\n",
       "      <td>0</td>\n",
       "    </tr>\n",
       "    <tr>\n",
       "      <th>...</th>\n",
       "      <td>...</td>\n",
       "      <td>...</td>\n",
       "      <td>...</td>\n",
       "      <td>...</td>\n",
       "      <td>...</td>\n",
       "      <td>...</td>\n",
       "      <td>...</td>\n",
       "      <td>...</td>\n",
       "      <td>...</td>\n",
       "      <td>...</td>\n",
       "      <td>...</td>\n",
       "      <td>...</td>\n",
       "      <td>...</td>\n",
       "      <td>...</td>\n",
       "      <td>...</td>\n",
       "      <td>...</td>\n",
       "      <td>...</td>\n",
       "      <td>...</td>\n",
       "      <td>...</td>\n",
       "      <td>...</td>\n",
       "      <td>...</td>\n",
       "    </tr>\n",
       "    <tr>\n",
       "      <th>Nature1223</th>\n",
       "      <td>0</td>\n",
       "      <td>0</td>\n",
       "      <td>0</td>\n",
       "      <td>0</td>\n",
       "      <td>0</td>\n",
       "      <td>0</td>\n",
       "      <td>0</td>\n",
       "      <td>0</td>\n",
       "      <td>0</td>\n",
       "      <td>0</td>\n",
       "      <td>...</td>\n",
       "      <td>0</td>\n",
       "      <td>0</td>\n",
       "      <td>0</td>\n",
       "      <td>1</td>\n",
       "      <td>0</td>\n",
       "      <td>0</td>\n",
       "      <td>0</td>\n",
       "      <td>0</td>\n",
       "      <td>0</td>\n",
       "      <td>0</td>\n",
       "    </tr>\n",
       "    <tr>\n",
       "      <th>Nature1358</th>\n",
       "      <td>0</td>\n",
       "      <td>0</td>\n",
       "      <td>0</td>\n",
       "      <td>0</td>\n",
       "      <td>0</td>\n",
       "      <td>0</td>\n",
       "      <td>0</td>\n",
       "      <td>0</td>\n",
       "      <td>0</td>\n",
       "      <td>0</td>\n",
       "      <td>...</td>\n",
       "      <td>1</td>\n",
       "      <td>0</td>\n",
       "      <td>0</td>\n",
       "      <td>0</td>\n",
       "      <td>0</td>\n",
       "      <td>0</td>\n",
       "      <td>0</td>\n",
       "      <td>0</td>\n",
       "      <td>0</td>\n",
       "      <td>0</td>\n",
       "    </tr>\n",
       "    <tr>\n",
       "      <th>Nature293</th>\n",
       "      <td>0</td>\n",
       "      <td>0</td>\n",
       "      <td>0</td>\n",
       "      <td>0</td>\n",
       "      <td>0</td>\n",
       "      <td>0</td>\n",
       "      <td>0</td>\n",
       "      <td>1</td>\n",
       "      <td>0</td>\n",
       "      <td>0</td>\n",
       "      <td>...</td>\n",
       "      <td>0</td>\n",
       "      <td>0</td>\n",
       "      <td>0</td>\n",
       "      <td>0</td>\n",
       "      <td>0</td>\n",
       "      <td>0</td>\n",
       "      <td>0</td>\n",
       "      <td>0</td>\n",
       "      <td>0</td>\n",
       "      <td>0</td>\n",
       "    </tr>\n",
       "    <tr>\n",
       "      <th>Nature507b</th>\n",
       "      <td>0</td>\n",
       "      <td>0</td>\n",
       "      <td>0</td>\n",
       "      <td>0</td>\n",
       "      <td>0</td>\n",
       "      <td>0</td>\n",
       "      <td>0</td>\n",
       "      <td>0</td>\n",
       "      <td>0</td>\n",
       "      <td>0</td>\n",
       "      <td>...</td>\n",
       "      <td>0</td>\n",
       "      <td>0</td>\n",
       "      <td>0</td>\n",
       "      <td>0</td>\n",
       "      <td>0</td>\n",
       "      <td>0</td>\n",
       "      <td>0</td>\n",
       "      <td>0</td>\n",
       "      <td>0</td>\n",
       "      <td>0</td>\n",
       "    </tr>\n",
       "    <tr>\n",
       "      <th>Nature454b</th>\n",
       "      <td>0</td>\n",
       "      <td>0</td>\n",
       "      <td>0</td>\n",
       "      <td>0</td>\n",
       "      <td>0</td>\n",
       "      <td>0</td>\n",
       "      <td>0</td>\n",
       "      <td>0</td>\n",
       "      <td>0</td>\n",
       "      <td>0</td>\n",
       "      <td>...</td>\n",
       "      <td>0</td>\n",
       "      <td>0</td>\n",
       "      <td>0</td>\n",
       "      <td>0</td>\n",
       "      <td>0</td>\n",
       "      <td>0</td>\n",
       "      <td>0</td>\n",
       "      <td>0</td>\n",
       "      <td>0</td>\n",
       "      <td>0</td>\n",
       "    </tr>\n",
       "  </tbody>\n",
       "</table>\n",
       "<p>1018 rows × 23 columns</p>\n",
       "</div>"
      ],
      "text/plain": [
       "            Anthropology  Biology  Business  Chemistry  Computer Science  \\\n",
       "Science113             0        0         0          1                 0   \n",
       "Science116             0        0         0          0                 0   \n",
       "Science119             0        0         0          0                 0   \n",
       "Science149             0        4         0          0                 0   \n",
       "Science159             0        0         0          0                 0   \n",
       "...                  ...      ...       ...        ...               ...   \n",
       "Nature1223             0        0         0          0                 0   \n",
       "Nature1358             0        0         0          0                 0   \n",
       "Nature293              0        0         0          0                 0   \n",
       "Nature507b             0        0         0          0                 0   \n",
       "Nature454b             0        0         0          0                 0   \n",
       "\n",
       "            Earth Science  Economics  Engineering and Technology  Geography  \\\n",
       "Science113              0          0                           0          0   \n",
       "Science116              0          0                           0          0   \n",
       "Science119              0          1                           0          0   \n",
       "Science149              0          0                           1          0   \n",
       "Science159              0          0                           1          0   \n",
       "...                   ...        ...                         ...        ...   \n",
       "Nature1223              0          0                           0          0   \n",
       "Nature1358              0          0                           0          0   \n",
       "Nature293               0          0                           1          0   \n",
       "Nature507b              0          0                           0          0   \n",
       "Nature454b              0          0                           0          0   \n",
       "\n",
       "            History  ...  Medicine and Health  Performing Arts  Philosophy  \\\n",
       "Science113        0  ...                    1                0           0   \n",
       "Science116        0  ...                    0                0           0   \n",
       "Science119        0  ...                    0                0           0   \n",
       "Science149        0  ...                    1                0           0   \n",
       "Science159        0  ...                    0                0           0   \n",
       "...             ...  ...                  ...              ...         ...   \n",
       "Nature1223        0  ...                    0                0           0   \n",
       "Nature1358        0  ...                    1                0           0   \n",
       "Nature293         0  ...                    0                0           0   \n",
       "Nature507b        0  ...                    0                0           0   \n",
       "Nature454b        0  ...                    0                0           0   \n",
       "\n",
       "            Physics  Political Science  Psychology  Social Work  Sociology  \\\n",
       "Science113        1                  0           0            0          0   \n",
       "Science116        0                  0           0            0          0   \n",
       "Science119        0                  0           0            0          0   \n",
       "Science149        1                  0           0            0          0   \n",
       "Science159        0                  0           0            0          0   \n",
       "...             ...                ...         ...          ...        ...   \n",
       "Nature1223        1                  0           0            0          0   \n",
       "Nature1358        0                  0           0            0          0   \n",
       "Nature293         0                  0           0            0          0   \n",
       "Nature507b        0                  0           0            0          0   \n",
       "Nature454b        0                  0           0            0          0   \n",
       "\n",
       "            Space Sciences  Visual Arts  \n",
       "Science113               0            0  \n",
       "Science116               0            0  \n",
       "Science119               0            0  \n",
       "Science149               0            0  \n",
       "Science159               0            0  \n",
       "...                    ...          ...  \n",
       "Nature1223               0            0  \n",
       "Nature1358               0            0  \n",
       "Nature293                0            0  \n",
       "Nature507b               0            0  \n",
       "Nature454b               0            0  \n",
       "\n",
       "[1018 rows x 23 columns]"
      ]
     },
     "execution_count": 200,
     "metadata": {},
     "output_type": "execute_result"
    }
   ],
   "source": [
    "Disciplines=df[df_academic_fields.index]\n",
    "Disciplines"
   ]
  },
  {
   "cell_type": "code",
   "execution_count": 201,
   "id": "e36d384b-85f3-4db0-858c-d09880baf285",
   "metadata": {},
   "outputs": [
    {
     "data": {
      "text/html": [
       "<div>\n",
       "<style scoped>\n",
       "    .dataframe tbody tr th:only-of-type {\n",
       "        vertical-align: middle;\n",
       "    }\n",
       "\n",
       "    .dataframe tbody tr th {\n",
       "        vertical-align: top;\n",
       "    }\n",
       "\n",
       "    .dataframe thead th {\n",
       "        text-align: right;\n",
       "    }\n",
       "</style>\n",
       "<table border=\"1\" class=\"dataframe\">\n",
       "  <thead>\n",
       "    <tr style=\"text-align: right;\">\n",
       "      <th></th>\n",
       "      <th>Anthropology</th>\n",
       "      <th>Biology</th>\n",
       "      <th>Business</th>\n",
       "      <th>Chemistry</th>\n",
       "      <th>Computer Science</th>\n",
       "      <th>Earth Science</th>\n",
       "      <th>Economics</th>\n",
       "      <th>Engineering and Technology</th>\n",
       "      <th>Geography</th>\n",
       "      <th>History</th>\n",
       "      <th>...</th>\n",
       "      <th>Medicine and Health</th>\n",
       "      <th>Performing Arts</th>\n",
       "      <th>Philosophy</th>\n",
       "      <th>Physics</th>\n",
       "      <th>Political Science</th>\n",
       "      <th>Psychology</th>\n",
       "      <th>Social Work</th>\n",
       "      <th>Sociology</th>\n",
       "      <th>Space Sciences</th>\n",
       "      <th>Visual Arts</th>\n",
       "    </tr>\n",
       "  </thead>\n",
       "  <tbody>\n",
       "    <tr>\n",
       "      <th>Science113</th>\n",
       "      <td>0</td>\n",
       "      <td>0</td>\n",
       "      <td>0</td>\n",
       "      <td>1</td>\n",
       "      <td>0</td>\n",
       "      <td>0</td>\n",
       "      <td>0</td>\n",
       "      <td>0</td>\n",
       "      <td>0</td>\n",
       "      <td>0</td>\n",
       "      <td>...</td>\n",
       "      <td>1</td>\n",
       "      <td>0</td>\n",
       "      <td>0</td>\n",
       "      <td>1</td>\n",
       "      <td>0</td>\n",
       "      <td>0</td>\n",
       "      <td>0</td>\n",
       "      <td>0</td>\n",
       "      <td>0</td>\n",
       "      <td>0</td>\n",
       "    </tr>\n",
       "    <tr>\n",
       "      <th>Science149</th>\n",
       "      <td>0</td>\n",
       "      <td>4</td>\n",
       "      <td>0</td>\n",
       "      <td>0</td>\n",
       "      <td>0</td>\n",
       "      <td>0</td>\n",
       "      <td>0</td>\n",
       "      <td>1</td>\n",
       "      <td>0</td>\n",
       "      <td>0</td>\n",
       "      <td>...</td>\n",
       "      <td>1</td>\n",
       "      <td>0</td>\n",
       "      <td>0</td>\n",
       "      <td>1</td>\n",
       "      <td>0</td>\n",
       "      <td>0</td>\n",
       "      <td>0</td>\n",
       "      <td>0</td>\n",
       "      <td>0</td>\n",
       "      <td>0</td>\n",
       "    </tr>\n",
       "    <tr>\n",
       "      <th>Science16</th>\n",
       "      <td>0</td>\n",
       "      <td>5</td>\n",
       "      <td>0</td>\n",
       "      <td>2</td>\n",
       "      <td>0</td>\n",
       "      <td>0</td>\n",
       "      <td>0</td>\n",
       "      <td>7</td>\n",
       "      <td>0</td>\n",
       "      <td>0</td>\n",
       "      <td>...</td>\n",
       "      <td>0</td>\n",
       "      <td>0</td>\n",
       "      <td>0</td>\n",
       "      <td>0</td>\n",
       "      <td>0</td>\n",
       "      <td>0</td>\n",
       "      <td>0</td>\n",
       "      <td>0</td>\n",
       "      <td>0</td>\n",
       "      <td>0</td>\n",
       "    </tr>\n",
       "    <tr>\n",
       "      <th>Science192</th>\n",
       "      <td>0</td>\n",
       "      <td>0</td>\n",
       "      <td>0</td>\n",
       "      <td>0</td>\n",
       "      <td>0</td>\n",
       "      <td>0</td>\n",
       "      <td>0</td>\n",
       "      <td>0</td>\n",
       "      <td>0</td>\n",
       "      <td>0</td>\n",
       "      <td>...</td>\n",
       "      <td>0</td>\n",
       "      <td>0</td>\n",
       "      <td>0</td>\n",
       "      <td>0</td>\n",
       "      <td>0</td>\n",
       "      <td>1</td>\n",
       "      <td>0</td>\n",
       "      <td>1</td>\n",
       "      <td>0</td>\n",
       "      <td>0</td>\n",
       "    </tr>\n",
       "    <tr>\n",
       "      <th>Science248</th>\n",
       "      <td>0</td>\n",
       "      <td>2</td>\n",
       "      <td>0</td>\n",
       "      <td>0</td>\n",
       "      <td>0</td>\n",
       "      <td>0</td>\n",
       "      <td>0</td>\n",
       "      <td>1</td>\n",
       "      <td>0</td>\n",
       "      <td>0</td>\n",
       "      <td>...</td>\n",
       "      <td>0</td>\n",
       "      <td>0</td>\n",
       "      <td>0</td>\n",
       "      <td>0</td>\n",
       "      <td>0</td>\n",
       "      <td>0</td>\n",
       "      <td>0</td>\n",
       "      <td>0</td>\n",
       "      <td>0</td>\n",
       "      <td>0</td>\n",
       "    </tr>\n",
       "    <tr>\n",
       "      <th>...</th>\n",
       "      <td>...</td>\n",
       "      <td>...</td>\n",
       "      <td>...</td>\n",
       "      <td>...</td>\n",
       "      <td>...</td>\n",
       "      <td>...</td>\n",
       "      <td>...</td>\n",
       "      <td>...</td>\n",
       "      <td>...</td>\n",
       "      <td>...</td>\n",
       "      <td>...</td>\n",
       "      <td>...</td>\n",
       "      <td>...</td>\n",
       "      <td>...</td>\n",
       "      <td>...</td>\n",
       "      <td>...</td>\n",
       "      <td>...</td>\n",
       "      <td>...</td>\n",
       "      <td>...</td>\n",
       "      <td>...</td>\n",
       "      <td>...</td>\n",
       "    </tr>\n",
       "    <tr>\n",
       "      <th>Nature976</th>\n",
       "      <td>0</td>\n",
       "      <td>0</td>\n",
       "      <td>0</td>\n",
       "      <td>0</td>\n",
       "      <td>0</td>\n",
       "      <td>0</td>\n",
       "      <td>0</td>\n",
       "      <td>2</td>\n",
       "      <td>0</td>\n",
       "      <td>0</td>\n",
       "      <td>...</td>\n",
       "      <td>0</td>\n",
       "      <td>0</td>\n",
       "      <td>0</td>\n",
       "      <td>0</td>\n",
       "      <td>0</td>\n",
       "      <td>0</td>\n",
       "      <td>0</td>\n",
       "      <td>0</td>\n",
       "      <td>1</td>\n",
       "      <td>0</td>\n",
       "    </tr>\n",
       "    <tr>\n",
       "      <th>Nature979</th>\n",
       "      <td>0</td>\n",
       "      <td>6</td>\n",
       "      <td>0</td>\n",
       "      <td>0</td>\n",
       "      <td>0</td>\n",
       "      <td>0</td>\n",
       "      <td>0</td>\n",
       "      <td>0</td>\n",
       "      <td>0</td>\n",
       "      <td>0</td>\n",
       "      <td>...</td>\n",
       "      <td>0</td>\n",
       "      <td>0</td>\n",
       "      <td>0</td>\n",
       "      <td>0</td>\n",
       "      <td>0</td>\n",
       "      <td>0</td>\n",
       "      <td>0</td>\n",
       "      <td>0</td>\n",
       "      <td>3</td>\n",
       "      <td>0</td>\n",
       "    </tr>\n",
       "    <tr>\n",
       "      <th>Nature983</th>\n",
       "      <td>0</td>\n",
       "      <td>2</td>\n",
       "      <td>0</td>\n",
       "      <td>0</td>\n",
       "      <td>0</td>\n",
       "      <td>0</td>\n",
       "      <td>0</td>\n",
       "      <td>1</td>\n",
       "      <td>0</td>\n",
       "      <td>0</td>\n",
       "      <td>...</td>\n",
       "      <td>1</td>\n",
       "      <td>0</td>\n",
       "      <td>0</td>\n",
       "      <td>0</td>\n",
       "      <td>0</td>\n",
       "      <td>0</td>\n",
       "      <td>0</td>\n",
       "      <td>0</td>\n",
       "      <td>0</td>\n",
       "      <td>0</td>\n",
       "    </tr>\n",
       "    <tr>\n",
       "      <th>Nature985</th>\n",
       "      <td>0</td>\n",
       "      <td>1</td>\n",
       "      <td>0</td>\n",
       "      <td>0</td>\n",
       "      <td>0</td>\n",
       "      <td>0</td>\n",
       "      <td>0</td>\n",
       "      <td>1</td>\n",
       "      <td>0</td>\n",
       "      <td>0</td>\n",
       "      <td>...</td>\n",
       "      <td>0</td>\n",
       "      <td>0</td>\n",
       "      <td>0</td>\n",
       "      <td>0</td>\n",
       "      <td>0</td>\n",
       "      <td>0</td>\n",
       "      <td>0</td>\n",
       "      <td>0</td>\n",
       "      <td>0</td>\n",
       "      <td>0</td>\n",
       "    </tr>\n",
       "    <tr>\n",
       "      <th>Nature986</th>\n",
       "      <td>0</td>\n",
       "      <td>1</td>\n",
       "      <td>0</td>\n",
       "      <td>0</td>\n",
       "      <td>0</td>\n",
       "      <td>0</td>\n",
       "      <td>0</td>\n",
       "      <td>1</td>\n",
       "      <td>0</td>\n",
       "      <td>0</td>\n",
       "      <td>...</td>\n",
       "      <td>1</td>\n",
       "      <td>0</td>\n",
       "      <td>0</td>\n",
       "      <td>0</td>\n",
       "      <td>0</td>\n",
       "      <td>0</td>\n",
       "      <td>0</td>\n",
       "      <td>0</td>\n",
       "      <td>0</td>\n",
       "      <td>0</td>\n",
       "    </tr>\n",
       "  </tbody>\n",
       "</table>\n",
       "<p>293 rows × 23 columns</p>\n",
       "</div>"
      ],
      "text/plain": [
       "            Anthropology  Biology  Business  Chemistry  Computer Science  \\\n",
       "Science113             0        0         0          1                 0   \n",
       "Science149             0        4         0          0                 0   \n",
       "Science16              0        5         0          2                 0   \n",
       "Science192             0        0         0          0                 0   \n",
       "Science248             0        2         0          0                 0   \n",
       "...                  ...      ...       ...        ...               ...   \n",
       "Nature976              0        0         0          0                 0   \n",
       "Nature979              0        6         0          0                 0   \n",
       "Nature983              0        2         0          0                 0   \n",
       "Nature985              0        1         0          0                 0   \n",
       "Nature986              0        1         0          0                 0   \n",
       "\n",
       "            Earth Science  Economics  Engineering and Technology  Geography  \\\n",
       "Science113              0          0                           0          0   \n",
       "Science149              0          0                           1          0   \n",
       "Science16               0          0                           7          0   \n",
       "Science192              0          0                           0          0   \n",
       "Science248              0          0                           1          0   \n",
       "...                   ...        ...                         ...        ...   \n",
       "Nature976               0          0                           2          0   \n",
       "Nature979               0          0                           0          0   \n",
       "Nature983               0          0                           1          0   \n",
       "Nature985               0          0                           1          0   \n",
       "Nature986               0          0                           1          0   \n",
       "\n",
       "            History  ...  Medicine and Health  Performing Arts  Philosophy  \\\n",
       "Science113        0  ...                    1                0           0   \n",
       "Science149        0  ...                    1                0           0   \n",
       "Science16         0  ...                    0                0           0   \n",
       "Science192        0  ...                    0                0           0   \n",
       "Science248        0  ...                    0                0           0   \n",
       "...             ...  ...                  ...              ...         ...   \n",
       "Nature976         0  ...                    0                0           0   \n",
       "Nature979         0  ...                    0                0           0   \n",
       "Nature983         0  ...                    1                0           0   \n",
       "Nature985         0  ...                    0                0           0   \n",
       "Nature986         0  ...                    1                0           0   \n",
       "\n",
       "            Physics  Political Science  Psychology  Social Work  Sociology  \\\n",
       "Science113        1                  0           0            0          0   \n",
       "Science149        1                  0           0            0          0   \n",
       "Science16         0                  0           0            0          0   \n",
       "Science192        0                  0           1            0          1   \n",
       "Science248        0                  0           0            0          0   \n",
       "...             ...                ...         ...          ...        ...   \n",
       "Nature976         0                  0           0            0          0   \n",
       "Nature979         0                  0           0            0          0   \n",
       "Nature983         0                  0           0            0          0   \n",
       "Nature985         0                  0           0            0          0   \n",
       "Nature986         0                  0           0            0          0   \n",
       "\n",
       "            Space Sciences  Visual Arts  \n",
       "Science113               0            0  \n",
       "Science149               0            0  \n",
       "Science16                0            0  \n",
       "Science192               0            0  \n",
       "Science248               0            0  \n",
       "...                    ...          ...  \n",
       "Nature976                1            0  \n",
       "Nature979                3            0  \n",
       "Nature983                0            0  \n",
       "Nature985                0            0  \n",
       "Nature986                0            0  \n",
       "\n",
       "[293 rows x 23 columns]"
      ]
     },
     "execution_count": 201,
     "metadata": {},
     "output_type": "execute_result"
    }
   ],
   "source": [
    "more_than_one_non_zero= Disciplines[(Disciplines != 0).sum(axis=1) > 1]\n",
    "more_than_one_non_zero\n",
    "\n",
    "## Only 323 papers mention disciplines"
   ]
  },
  {
   "cell_type": "code",
   "execution_count": 202,
   "id": "3ca700f9-10f7-4b0c-9077-376c31815f8c",
   "metadata": {},
   "outputs": [
    {
     "data": {
      "image/png": "[encoded data removed]",
      "text/plain": [
       "<Figure size 500x500 with 1 Axes>"
      ]
     },
     "metadata": {},
     "output_type": "display_data"
    }
   ],
   "source": [
    "top_x=7\n",
    "\n",
    "top5=Disciplines.sum().sort_values(ascending=False)[:top_x]\n",
    "top5[\"others\"]=Disciplines.sum().sort_values(ascending=False)[top_x:].sum()\n",
    "top5.plot.pie(figsize=(5,5), title=\"academic fields (mentioned sum in all papers)\", autopct='%1.1f%%')\n",
    "\n",
    "\n",
    "\n",
    "plt.tight_layout()\n",
    "plt.savefig(today+\" disciplines pie.jpg\",dpi=300)\n",
    "\n",
    "# <5% attributed to others"
   ]
  },
  {
   "cell_type": "code",
   "execution_count": 203,
   "id": "e29ad0ee-ab5f-4302-9d68-a2139f6c3aba",
   "metadata": {},
   "outputs": [
    {
     "data": {
      "text/plain": [
       "Biology                       521\n",
       "Medicine and Health           394\n",
       "Engineering and Technology    340\n",
       "Physics                       150\n",
       "Space Sciences                 89\n",
       "Chemistry                      76\n",
       "Sociology                      43\n",
       "Psychology                     38\n",
       "Philosophy                     33\n",
       "Geography                      31\n",
       "Earth Science                  21\n",
       "Economics                      19\n",
       "Anthropology                   17\n",
       "Computer Science                7\n",
       "Mathematics                     6\n",
       "Political Science               4\n",
       "Languages and Literature        2\n",
       "History                         2\n",
       "Social Work                     0\n",
       "Law                             0\n",
       "Performing Arts                 0\n",
       "Business                        0\n",
       "Visual Arts                     0\n",
       "dtype: int64"
      ]
     },
     "execution_count": 203,
     "metadata": {},
     "output_type": "execute_result"
    }
   ],
   "source": [
    "Disciplines.sum().sort_values(ascending=False)"
   ]
  },
  {
   "cell_type": "code",
   "execution_count": 204,
   "id": "e7f191be-3d17-4349-9ea8-79fc202001f4",
   "metadata": {},
   "outputs": [
    {
     "data": {
      "text/plain": [
       "<Axes: title={'center': 'academic fields (only max one per paper)'}, ylabel='count'>"
      ]
     },
     "execution_count": 204,
     "metadata": {},
     "output_type": "execute_result"
    },
    {
     "data": {
      "image/png": "[encoded data removed]",
      "text/plain": [
       "<Figure size 400x400 with 1 Axes>"
      ]
     },
     "metadata": {},
     "output_type": "display_data"
    }
   ],
   "source": [
    "\n",
    "# look for the max values in each row\n",
    "mxs = Disciplines.eq(Disciplines.max(axis=1), axis=0)\n",
    "mxs_1=mxs[mxs.sum(axis=1)==1]\n",
    "\n",
    "# join the column names of the max values of each row into a single string\n",
    "labels = mxs_1.dot(mxs.columns + ', ').str.rstrip(', ')\n",
    "labels=labels.str.split(\", \")\n",
    "labels=labels[labels.str.len()<7]\n",
    "\n",
    "\n",
    "\n",
    "top_x=7\n",
    "top5=Disciplines2[:top_x]\n",
    "top5[\"others\"]=Disciplines2[top_x:].sum()\n",
    "top5.plot.pie(figsize=(4,4), title=\"academic fields (only max one per paper)\", autopct='%1.1f%%')"
   ]
  },
  {
   "cell_type": "markdown",
   "id": "ad05b96b-ff7e-4934-86f2-20c8997a6929",
   "metadata": {},
   "source": [
    "# Country"
   ]
  },
  {
   "cell_type": "code",
   "execution_count": 206,
   "id": "265a1d75-8669-45bd-8477-42cc9a4e52e6",
   "metadata": {},
   "outputs": [],
   "source": [
    "## Import from her or use existing df\n",
    "\n",
    "# ensure that lists are read as list and not as strings\n",
    "#from ast import literal_eval\n",
    "#columns_to_convert=[\"texts\",\"labels\",\"retraction_counts\",\"has_retraction\",\"has_retraction_label\"]\n",
    "#converters = {col: literal_eval for col in columns_to_convert}\n",
    "\n",
    "#df=pd.read_csv(\"2025-02-23 PDF_import (docling - complete).csv\",index_col=0, converters=converters)\n"
   ]
  },
  {
   "cell_type": "code",
   "execution_count": 207,
   "id": "3b7153fe-5d7b-45ee-8e37-8df78dc76927",
   "metadata": {},
   "outputs": [
    {
     "data": {
      "text/plain": [
       "labels\n",
       "text                   39859\n",
       "section_header          9052\n",
       "list_item               2525\n",
       "caption                  755\n",
       "page_header              228\n",
       "checkbox_unselected       56\n",
       "footnote                  47\n",
       "paragraph                 28\n",
       "checkbox_selected          4\n",
       "formula                    1\n",
       "code                       1\n",
       "Name: count, dtype: int64"
      ]
     },
     "execution_count": 207,
     "metadata": {},
     "output_type": "execute_result"
    }
   ],
   "source": [
    "df.labels.explode().value_counts()"
   ]
  },
  {
   "cell_type": "code",
   "execution_count": 208,
   "id": "59a11dcd-78e4-476c-8c00-63b86e82450d",
   "metadata": {},
   "outputs": [],
   "source": [
    "# filter text labels:\n",
    "# 1. Filter by a list of allowed lables.\n",
    "# 2. Filter by the method \"till next section header\"\n",
    "#allowed_lablels=[\"text\",\"section_header\",\"caption\",\"paragraph\",\"page_header\",\"section_header\"]\n",
    "\n",
    "#df=pd.DataFrame.from_records(df.apply(labelfilter.filter_texts_by_labels,allowed_labels=allowed_lablels,axis=1))\n",
    "#neighboring_texts = df.apply(lambda row: labelfilter.get_neighboring_texts(row['texts'], row['retraction_counts']), axis=1)\n",
    "#df[\"text\"]=neighboring_texts.apply(lambda x: \" \".join(x))\n"
   ]
  },
  {
   "cell_type": "code",
   "execution_count": null,
   "id": "ab97fa37-44a8-4ec2-8fed-6c40670185f9",
   "metadata": {},
   "outputs": [],
   "source": []
  },
  {
   "cell_type": "code",
   "execution_count": 209,
   "id": "3be3a276-e491-45e8-9818-87d32f67dfbb",
   "metadata": {},
   "outputs": [
    {
     "name": "stdout",
     "output_type": "stream",
     "text": [
      "fix Demonyms: \n",
      "       Country             Demonym\n",
      "190     Yemen  Yemeni or Yemenite\n",
      "191    Zambia             Zambian\n",
      "192  Zimbabwe          Zimbabwean\n"
     ]
    }
   ],
   "source": [
    "demmonym=pd.read_excel(\"2024-11-14 demonym.xlsx\")\n",
    "# List from: https://www.thoughtco.com/the-names-of-nationalities-4088817\n",
    "\n",
    "print(\"fix Demonyms: \\n\", demmonym.tail(3))\n",
    "demmonym=dict(zip(demmonym.Demonym,demmonym.Country))\n",
    "demmonym={k.replace(\" or \",\"|\").replace(\", \",\"|\").replace(\"/woman\",\"\").replace(\" (collective)\",\"\"):v.split(\"/\",1)[0] for k,v in demmonym.items()}\n",
    "\n",
    "demmonym={f\"({k})(s|ese|ish)?\":v for k,v in demmonym.items()}\n",
    "\n",
    "df[\"text\"]=df.text.replace(demmonym,regex=True)\n",
    "\n",
    "\n",
    "# tested with \"American\" & Americans --> \"United States of America\""
   ]
  },
  {
   "cell_type": "code",
   "execution_count": 210,
   "id": "3e732f38-131f-484f-913b-4d33475ed795",
   "metadata": {},
   "outputs": [],
   "source": [
    "#!pip install geonamescache\n",
    "#!pip install pycountry\n",
    "\n",
    "import geonamescache\n",
    "import pycountry\n",
    "\n",
    "# Load the geonamescache data\n",
    "gc = geonamescache.GeonamesCache()\n",
    "cities_data = gc.get_cities()\n",
    "\n",
    "# Minimal city population: 100.000\n",
    "\n",
    "# Create a dictionary to map city names to countries\n",
    "city_country_map = {city['name']: pycountry.countries.get(alpha_2=city['countrycode']).name for city in cities_data.values() \n",
    "                    if pycountry.countries.get(alpha_2=city['countrycode']) and city['population']>100000}\n",
    "\n",
    "city_country_map2 = {}\n",
    "city_city_map = {}\n",
    "for city in cities_data.values():\n",
    "    if city['population']>100000:\n",
    "        for alt_name in city['alternatenames']:\n",
    "            alt_name=alt_name.replace(\"The\",\"\")\n",
    "            if len(alt_name)>3 and alt_name[0].isupper():\n",
    "                if pycountry.countries.get(alpha_2=city['countrycode']):\n",
    "                    city_city_map[alt_name]=city[\"name\"]\n",
    "                    city_country_map2[alt_name] = pycountry.countries.get(alpha_2=city['countrycode']).name\n",
    "\n",
    "city_country_map.update(city_country_map2)\n",
    "\n",
    "\n",
    "#refinements:\n",
    "\n",
    "# Dr Baltimore --> remove Baltimore\n",
    "# Human & Genes are not cities in this context\n",
    "# Van --> most likely some Dutch Name artifact (Van Andel & Van Parijs) and not the Turkish City\n",
    "\n",
    "drop_keys=[\"Human\", \"Genes\", \"Baltimore\", \"Van\"]\n",
    "for key in drop_keys:\n",
    "    city_country_map.pop(key, None)\n",
    "    city_country_map2.pop(key, None)\n",
    "    city_city_map.pop(key, None)"
   ]
  },
  {
   "cell_type": "code",
   "execution_count": 211,
   "id": "1290b690-7778-4d88-b8e8-c9e42927c58e",
   "metadata": {},
   "outputs": [],
   "source": [
    "from collections import defaultdict\n",
    "\n",
    "# Alternative to keep all keys\n",
    "Alternative_Names_list = defaultdict(list)\n",
    "\n",
    "for k, v in city_city_map.items():\n",
    "    Alternative_Names_list[v].append(k)\n",
    "    "
   ]
  },
  {
   "cell_type": "code",
   "execution_count": 212,
   "id": "83a8fc45-cf36-4416-92fb-54784a6b4ab0",
   "metadata": {},
   "outputs": [
    {
     "name": "stderr",
     "output_type": "stream",
     "text": [
      "100%|███████████████████████████████████████| 1018/1018 [00:18<00:00, 54.41it/s]\n",
      "100%|████████████████████████████████████| 1018/1018 [00:00<00:00, 11560.44it/s]\n"
     ]
    }
   ],
   "source": [
    "import regex as re\n",
    "countries=list(set(city_country_map.values()))\n",
    "cities=list(set(city_country_map.keys()))\n",
    "\n",
    "\n",
    "# Prepare the regex pattern from the city names\n",
    "\n",
    "city_names_pattern = r\"\\b(\" + '|'.join(re.escape(city) for city in cities) + r\")\\b\"\n",
    "country_names_pattern = r\"(\"+'|'.join(re.escape(country) for country in countries)+\")\" \n",
    "\n",
    "city_pattern = re.compile(city_names_pattern)\n",
    "country_pattern = re.compile(country_names_pattern)\n",
    "\n",
    "import regex as re\n",
    "\n",
    "def keyword_check(text, re_pattern):\n",
    "    if isinstance(text,str):\n",
    "        matches=re.findall(re_pattern,text)\n",
    "        return matches\n",
    "    \n",
    "df['contains_city']=df.text.progress_apply(keyword_check, re_pattern=city_names_pattern)\n",
    "df['contains_country']=df.text.progress_apply(keyword_check, re_pattern=country_names_pattern)\n",
    "\n",
    "\n"
   ]
  },
  {
   "cell_type": "code",
   "execution_count": 213,
   "id": "d20a3629-6453-4931-88a7-93a443b4c41a",
   "metadata": {},
   "outputs": [
    {
     "data": {
      "text/plain": [
       "Science113                                       []\n",
       "Science116                           [China, China]\n",
       "Science119                           [South Africa]\n",
       "Science149                               [Bulgaria]\n",
       "Science159    [United States, United Kingdom, Chad]\n",
       "                              ...                  \n",
       "Nature1223                           [Japan, Japan]\n",
       "Nature1358                                       []\n",
       "Nature293                            [China, China]\n",
       "Nature507b                                       []\n",
       "Nature454b                                       []\n",
       "Name: contains_country, Length: 1018, dtype: object"
      ]
     },
     "execution_count": 213,
     "metadata": {},
     "output_type": "execute_result"
    }
   ],
   "source": [
    "df['contains_country']"
   ]
  },
  {
   "cell_type": "code",
   "execution_count": 214,
   "id": "56bae94c-61ab-403c-9895-7acb77cbe7e2",
   "metadata": {},
   "outputs": [
    {
     "data": {
      "text/plain": [
       "Most Common country_city\n",
       "United States     312\n",
       "China              68\n",
       "Japan              67\n",
       "United Kingdom     56\n",
       "Germany            41\n",
       "                 ... \n",
       "Sierra Leone        1\n",
       "Turkmenistan        1\n",
       "Bulgaria            1\n",
       "Congo               1\n",
       "Croatia             1\n",
       "Name: count, Length: 64, dtype: int64"
      ]
     },
     "execution_count": 214,
     "metadata": {},
     "output_type": "execute_result"
    }
   ],
   "source": [
    "from collections import Counter\n",
    "df['city']=df['contains_city'].apply(lambda x: [city_city_map[i] if i in city_city_map else i for i in x ])\n",
    "df['country_from_city']=df['contains_city'].apply(lambda x: [city_country_map[i] if i in city_country_map else i for i in x ])\n",
    "df[\"country_plus_city\"]=df[\"country_from_city\"]+df[\"contains_country\"]\n",
    "df['Most Common country_city'] = df[\"country_plus_city\"].apply(lambda x: Counter(x).most_common()[0][0] if len(x)>0 else None)\n",
    "df['Most Common country_no_city'] = df['contains_country'].apply(lambda x: Counter(x).most_common()[0][0] if len(x)>0 else None)\n",
    "\n",
    "df[['Most Common country_city','Most Common country_no_city']]\n",
    "df['Most Common country_city'].value_counts()\n"
   ]
  },
  {
   "cell_type": "code",
   "execution_count": null,
   "id": "45847101-fb3d-4044-a258-45b4018e5f08",
   "metadata": {},
   "outputs": [],
   "source": [
    "\n"
   ]
  },
  {
   "cell_type": "code",
   "execution_count": 215,
   "id": "e2d7f69a-bc91-41c5-8b96-b20fae9ecd1f",
   "metadata": {},
   "outputs": [
    {
     "ename": "KeyError",
     "evalue": "'Most Common country'",
     "output_type": "error",
     "traceback": [
      "\u001b[0;31m---------------------------------------------------------------------------\u001b[0m",
      "\u001b[0;31mKeyError\u001b[0m                                  Traceback (most recent call last)",
      "File \u001b[0;32m/opt/anaconda3/lib/python3.12/site-packages/pandas/core/indexes/base.py:3805\u001b[0m, in \u001b[0;36mIndex.get_loc\u001b[0;34m(self, key)\u001b[0m\n\u001b[1;32m   3804\u001b[0m \u001b[38;5;28;01mtry\u001b[39;00m:\n\u001b[0;32m-> 3805\u001b[0m     \u001b[38;5;28;01mreturn\u001b[39;00m \u001b[38;5;28mself\u001b[39m\u001b[38;5;241m.\u001b[39m_engine\u001b[38;5;241m.\u001b[39mget_loc(casted_key)\n\u001b[1;32m   3806\u001b[0m \u001b[38;5;28;01mexcept\u001b[39;00m \u001b[38;5;167;01mKeyError\u001b[39;00m \u001b[38;5;28;01mas\u001b[39;00m err:\n",
      "File \u001b[0;32mindex.pyx:167\u001b[0m, in \u001b[0;36mpandas._libs.index.IndexEngine.get_loc\u001b[0;34m()\u001b[0m\n",
      "File \u001b[0;32mindex.pyx:196\u001b[0m, in \u001b[0;36mpandas._libs.index.IndexEngine.get_loc\u001b[0;34m()\u001b[0m\n",
      "File \u001b[0;32mpandas/_libs/hashtable_class_helper.pxi:7081\u001b[0m, in \u001b[0;36mpandas._libs.hashtable.PyObjectHashTable.get_item\u001b[0;34m()\u001b[0m\n",
      "File \u001b[0;32mpandas/_libs/hashtable_class_helper.pxi:7089\u001b[0m, in \u001b[0;36mpandas._libs.hashtable.PyObjectHashTable.get_item\u001b[0;34m()\u001b[0m\n",
      "\u001b[0;31mKeyError\u001b[0m: 'Most Common country'",
      "\nThe above exception was the direct cause of the following exception:\n",
      "\u001b[0;31mKeyError\u001b[0m                                  Traceback (most recent call last)",
      "Cell \u001b[0;32mIn[215], line 22\u001b[0m\n\u001b[1;32m     17\u001b[0m df[\u001b[38;5;124m\"\u001b[39m\u001b[38;5;124mcountry_plus_city\u001b[39m\u001b[38;5;124m\"\u001b[39m]\u001b[38;5;241m.\u001b[39mexplode()\u001b[38;5;241m.\u001b[39mvalue_counts()[:\u001b[38;5;241m10\u001b[39m]\u001b[38;5;241m.\u001b[39mplot\u001b[38;5;241m.\u001b[39mbarh(\n\u001b[1;32m     18\u001b[0m     ax\u001b[38;5;241m=\u001b[39maxs[\u001b[38;5;241m1\u001b[39m, \u001b[38;5;241m0\u001b[39m], title\u001b[38;5;241m=\u001b[39m\u001b[38;5;124m\"\u001b[39m\u001b[38;5;124mMost common countries (with city indicator)\u001b[39m\u001b[38;5;124m\"\u001b[39m\n\u001b[1;32m     19\u001b[0m )\n\u001b[1;32m     21\u001b[0m \u001b[38;5;66;03m# Plot 4: Most common countries, only one country per paper\u001b[39;00m\n\u001b[0;32m---> 22\u001b[0m df[\u001b[38;5;124m'\u001b[39m\u001b[38;5;124mMost Common country\u001b[39m\u001b[38;5;124m'\u001b[39m]\u001b[38;5;241m.\u001b[39mvalue_counts()[:\u001b[38;5;241m10\u001b[39m]\u001b[38;5;241m.\u001b[39mplot\u001b[38;5;241m.\u001b[39mbarh(\n\u001b[1;32m     23\u001b[0m     ax\u001b[38;5;241m=\u001b[39maxs[\u001b[38;5;241m1\u001b[39m, \u001b[38;5;241m1\u001b[39m], title\u001b[38;5;241m=\u001b[39m\u001b[38;5;124m\"\u001b[39m\u001b[38;5;124mMost common countries (one country per article)\u001b[39m\u001b[38;5;124m\"\u001b[39m\n\u001b[1;32m     24\u001b[0m )\n\u001b[1;32m     26\u001b[0m \u001b[38;5;66;03m# Adjust layout to prevent overlap\u001b[39;00m\n\u001b[1;32m     27\u001b[0m plt\u001b[38;5;241m.\u001b[39mtight_layout()\n",
      "File \u001b[0;32m/opt/anaconda3/lib/python3.12/site-packages/pandas/core/frame.py:4102\u001b[0m, in \u001b[0;36mDataFrame.__getitem__\u001b[0;34m(self, key)\u001b[0m\n\u001b[1;32m   4100\u001b[0m \u001b[38;5;28;01mif\u001b[39;00m \u001b[38;5;28mself\u001b[39m\u001b[38;5;241m.\u001b[39mcolumns\u001b[38;5;241m.\u001b[39mnlevels \u001b[38;5;241m>\u001b[39m \u001b[38;5;241m1\u001b[39m:\n\u001b[1;32m   4101\u001b[0m     \u001b[38;5;28;01mreturn\u001b[39;00m \u001b[38;5;28mself\u001b[39m\u001b[38;5;241m.\u001b[39m_getitem_multilevel(key)\n\u001b[0;32m-> 4102\u001b[0m indexer \u001b[38;5;241m=\u001b[39m \u001b[38;5;28mself\u001b[39m\u001b[38;5;241m.\u001b[39mcolumns\u001b[38;5;241m.\u001b[39mget_loc(key)\n\u001b[1;32m   4103\u001b[0m \u001b[38;5;28;01mif\u001b[39;00m is_integer(indexer):\n\u001b[1;32m   4104\u001b[0m     indexer \u001b[38;5;241m=\u001b[39m [indexer]\n",
      "File \u001b[0;32m/opt/anaconda3/lib/python3.12/site-packages/pandas/core/indexes/base.py:3812\u001b[0m, in \u001b[0;36mIndex.get_loc\u001b[0;34m(self, key)\u001b[0m\n\u001b[1;32m   3807\u001b[0m     \u001b[38;5;28;01mif\u001b[39;00m \u001b[38;5;28misinstance\u001b[39m(casted_key, \u001b[38;5;28mslice\u001b[39m) \u001b[38;5;129;01mor\u001b[39;00m (\n\u001b[1;32m   3808\u001b[0m         \u001b[38;5;28misinstance\u001b[39m(casted_key, abc\u001b[38;5;241m.\u001b[39mIterable)\n\u001b[1;32m   3809\u001b[0m         \u001b[38;5;129;01mand\u001b[39;00m \u001b[38;5;28many\u001b[39m(\u001b[38;5;28misinstance\u001b[39m(x, \u001b[38;5;28mslice\u001b[39m) \u001b[38;5;28;01mfor\u001b[39;00m x \u001b[38;5;129;01min\u001b[39;00m casted_key)\n\u001b[1;32m   3810\u001b[0m     ):\n\u001b[1;32m   3811\u001b[0m         \u001b[38;5;28;01mraise\u001b[39;00m InvalidIndexError(key)\n\u001b[0;32m-> 3812\u001b[0m     \u001b[38;5;28;01mraise\u001b[39;00m \u001b[38;5;167;01mKeyError\u001b[39;00m(key) \u001b[38;5;28;01mfrom\u001b[39;00m \u001b[38;5;21;01merr\u001b[39;00m\n\u001b[1;32m   3813\u001b[0m \u001b[38;5;28;01mexcept\u001b[39;00m \u001b[38;5;167;01mTypeError\u001b[39;00m:\n\u001b[1;32m   3814\u001b[0m     \u001b[38;5;66;03m# If we have a listlike key, _check_indexing_error will raise\u001b[39;00m\n\u001b[1;32m   3815\u001b[0m     \u001b[38;5;66;03m#  InvalidIndexError. Otherwise we fall through and re-raise\u001b[39;00m\n\u001b[1;32m   3816\u001b[0m     \u001b[38;5;66;03m#  the TypeError.\u001b[39;00m\n\u001b[1;32m   3817\u001b[0m     \u001b[38;5;28mself\u001b[39m\u001b[38;5;241m.\u001b[39m_check_indexing_error(key)\n",
      "\u001b[0;31mKeyError\u001b[0m: 'Most Common country'"
     ]
    },
    {
     "data": {
      "image/png": "[encoded data removed]",
      "text/plain": [
       "<Figure size 800x600 with 4 Axes>"
      ]
     },
     "metadata": {},
     "output_type": "display_data"
    }
   ],
   "source": [
    "\n",
    "import matplotlib.pyplot as plt\n",
    "\n",
    "# Create a 2x2 grid of subplots\n",
    "fig, axs = plt.subplots(2, 2, figsize=(8, 6))\n",
    "\n",
    "# Plot 1: Most common countries - without city indicator\n",
    "df['contains_country'].explode().dropna().value_counts()[:10].plot.barh(\n",
    "    ax=axs[0, 0], title=\"Most common countries (without city indicator)\"\n",
    ")\n",
    "\n",
    "# Plot 2: Most common cities\n",
    "df['city'].explode().value_counts()[:10].plot.barh(\n",
    "    ax=axs[0, 1], title=\"Most common cities\"\n",
    ")\n",
    "\n",
    "# Plot 3: Most common countries, including city indicator\n",
    "df[\"country_plus_city\"].explode().value_counts()[:10].plot.barh(\n",
    "    ax=axs[1, 0], title=\"Most common countries (with city indicator)\"\n",
    ")\n",
    "\n",
    "# Plot 4: Most common countries, only one country per paper\n",
    "df['Most Common country'].value_counts()[:10].plot.barh(\n",
    "    ax=axs[1, 1], title=\"Most common countries (one country per article)\"\n",
    ")\n",
    "\n",
    "# Adjust layout to prevent overlap\n",
    "plt.tight_layout()\n",
    "\n",
    "# Show the plots\n",
    "plt.show()"
   ]
  },
  {
   "cell_type": "code",
   "execution_count": null,
   "id": "fe7c37d2-6e76-43de-ac5c-d98b7bef8e2f",
   "metadata": {},
   "outputs": [],
   "source": [
    "df['Most Common country_no_city'].value_counts()[:10]"
   ]
  },
  {
   "cell_type": "code",
   "execution_count": null,
   "id": "bd0a154e-6b06-4386-ace1-40888d41fb8e",
   "metadata": {},
   "outputs": [],
   "source": [
    "df[\"name\"]=df.index"
   ]
  },
  {
   "cell_type": "code",
   "execution_count": null,
   "id": "7f18132e-e897-4c77-8c56-99704b46ecd6",
   "metadata": {},
   "outputs": [],
   "source": [
    "relevat_rows=[\"contains_country\",\"country_plus_city\",\"Most Common country\",\"Most Common country_no_city\",\"all_jobs\", 'fields','most_common_fields',\"name\"]\n",
    "df[relevat_rows].to_csv(\"2025-06-07 Country_fields results.csv\")\n",
    "df[relevat_rows].to_json(\"2025-06-07 Country_fields results.json\")"
   ]
  },
  {
   "cell_type": "code",
   "execution_count": null,
   "id": "b0686477-f85f-4e16-813c-936f53cd749c",
   "metadata": {},
   "outputs": [],
   "source": [
    "df[relevat_rows]"
   ]
  }
 ],
 "metadata": {
  "kernelspec": {
   "display_name": "Python [conda env:base] *",
   "language": "python",
   "name": "conda-base-py"
  },
  "language_info": {
   "codemirror_mode": {
    "name": "ipython",
    "version": 3
   },
   "file_extension": ".py",
   "mimetype": "text/x-python",
   "name": "python",
   "nbconvert_exporter": "python",
   "pygments_lexer": "ipython3",
   "version": "3.12.2"
  }
 },
 "nbformat": 4,
 "nbformat_minor": 5
}

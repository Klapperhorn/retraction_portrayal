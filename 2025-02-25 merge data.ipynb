{
 "cells": [
  {
   "cell_type": "code",
   "execution_count": 1,
   "id": "ed0875e6-ae2c-45be-9a61-ad295f90c4c2",
   "metadata": {},
   "outputs": [],
   "source": [
    "from collections import Counter\n",
    "import pandas as pd\n",
    "import matplotlib.pyplot as plt\n",
    "\n",
    "from tqdm import tqdm # progress apply :)\n",
    "tqdm.pandas()\n",
    "\n",
    "%load_ext autoreload\n",
    "%autoreload 2\n",
    "def d(l):\n",
    "    pd.set_option('display.max_colwidth', l)\n",
    "\n"
   ]
  },
  {
   "cell_type": "code",
   "execution_count": 3,
   "id": "1b1db5f4-af6f-404d-a1a0-6145a2dfa1a6",
   "metadata": {},
   "outputs": [],
   "source": [
    "new_articles=pd.read_excel(\"2025-04-26 Manual Annotation results_Inclusion.xlsx\")[\"ID\"].to_list()\n"
   ]
  },
  {
   "cell_type": "code",
   "execution_count": 15,
   "id": "cc66d8f7-ef53-4e35-834f-490b63b4fcb5",
   "metadata": {},
   "outputs": [],
   "source": [
    "# ensure that lists are read as list and not as strings\n",
    "from ast import literal_eval\n",
    "columns_to_convert=[\"texts\",\"labels\",\"retraction_counts\",\"has_retraction\",\"has_retraction_label\",\"contains_country\",\"country_plus_city\",'fields']\n",
    "converters = {col: literal_eval for col in columns_to_convert}\n",
    "\n",
    "df_country_fields=pd.read_csv(\"2025-04-26 Country_fields results.csv\",index_col=0, converters=converters)\n",
    "df_dict=pd.read_csv(\"2025-04-26 data with dict_approach.csv\",index_col=0, converters=converters)\n",
    "df_GPT4=pd.read_csv('2025-04-03 full data with GPT4o-mini_response.csv', converters=converters)\n",
    "df_GPT4[\"name\"]=df_GPT4.path.str.split(\"\\\\\").apply(lambda x: x[-1].split(\".\")[0])\n",
    "df_dict['name']=df_dict.index"
   ]
  },
  {
   "cell_type": "code",
   "execution_count": 13,
   "id": "ebcc2ad7-4f72-413d-a8de-f1d1ed76f987",
   "metadata": {},
   "outputs": [],
   "source": []
  },
  {
   "cell_type": "code",
   "execution_count": 7,
   "id": "a814f665-6c2f-4cc2-aa6c-fd3fe8bba5ca",
   "metadata": {},
   "outputs": [
    {
     "data": {
      "text/plain": [
       "16"
      ]
     },
     "execution_count": 7,
     "metadata": {},
     "output_type": "execute_result"
    }
   ],
   "source": [
    "df_country_fields[df_country_fields.name.isin(new_articles)].shape[0]"
   ]
  },
  {
   "cell_type": "code",
   "execution_count": 64,
   "id": "3d570df9-e71a-4a63-b346-2b8c1c70d33c",
   "metadata": {},
   "outputs": [
    {
     "name": "stdout",
     "output_type": "stream",
     "text": [
      "Nature1223 False\n",
      "Nature1358 True\n",
      "Nature293 True\n",
      "Science138 True\n",
      "Science297 True\n",
      "Science328 True\n",
      "Science329 True\n",
      "Science370 True\n",
      "Science378 True\n",
      "Science384 True\n",
      "Science421 True\n",
      "Science426 True\n",
      "Science58 True\n",
      "Science645 True\n",
      "Science928 True\n",
      "Science188 True\n",
      "Science735 True\n"
     ]
    }
   ],
   "source": [
    "for i in new_articles:\n",
    "    print(i, i in df_country_fields.name)"
   ]
  },
  {
   "cell_type": "code",
   "execution_count": 17,
   "id": "2a1c01d1-7102-4256-8da3-367414a0d262",
   "metadata": {},
   "outputs": [
    {
     "name": "stdout",
     "output_type": "stream",
     "text": [
      "GPT files 17 17\n",
      "dict approach 17 17\n",
      "country fields 16 17\n"
     ]
    }
   ],
   "source": [
    "# Check if also the new articles are in the processed collections\n",
    "print(\"GPT files\",df_GPT4[df_GPT4.name.isin(new_articles)].shape[0],len(new_articles))\n",
    "print(\"dict approach\",df_dict[df_dict.name.isin(new_articles)].shape[0],len(new_articles))\n",
    "print(\"country fields\",df_country_fields[df_country_fields.name.isin(new_articles)].shape[0],len(new_articles))"
   ]
  },
  {
   "cell_type": "code",
   "execution_count": 19,
   "id": "e468f9e0-5d12-4dfe-acc6-de05e51f709b",
   "metadata": {},
   "outputs": [],
   "source": [
    "df_meta_data=pd.read_excel(\"2025-04-25 all_Meta_Data.xlsx\")[['ID', 'Doi_x', 'journal', 'Title', 'Date', 'Year', 'Type',\n",
    "       'Type Recoded', 'confirmed_2024', '9. retained for analysis (revised)']]\n",
    "df_meta_data.rename(columns={\"ID\": \"name\",\"Doi_x\": \"Doi\"},inplace=True)"
   ]
  },
  {
   "cell_type": "code",
   "execution_count": null,
   "id": "9f6e947a-cd27-4c0f-8c81-87fcdec4d8a1",
   "metadata": {},
   "outputs": [],
   "source": [
    "\n"
   ]
  },
  {
   "cell_type": "code",
   "execution_count": 22,
   "id": "8e59b972-113b-41b2-ba33-536d1bd07d26",
   "metadata": {},
   "outputs": [],
   "source": [
    "# Start with the first DataFrame\n",
    "\n",
    "df_merged = df_meta_data\n",
    "\n",
    "# Iteratively merge the remaining DataFrames on the \"name\" column\n",
    "for df in [df_GPT4,df_country_fields ,df_dict]:\n",
    "    df_merged = pd.merge(df_merged, df, on=\"name\", how=\"outer\")\n",
    "# df_merged[df_merged[\"Year\"].isna()][df_old.columns].to_excel(\"2025_02_04 missing_date_DOI_Type_recoded.xlsx\")"
   ]
  },
  {
   "cell_type": "code",
   "execution_count": 52,
   "id": "f013bf36-51d7-4146-9b29-8645fa125e07",
   "metadata": {},
   "outputs": [],
   "source": [
    "df_merged.rename(columns={\"text_x\":\"text\"},inplace=True)\n",
    "df=df_merged[df_merged[\"9. retained for analysis (revised)\"]]"
   ]
  },
  {
   "cell_type": "code",
   "execution_count": 46,
   "id": "81485f5d-29de-4af1-a834-50259d4e925b",
   "metadata": {},
   "outputs": [],
   "source": []
  },
  {
   "cell_type": "code",
   "execution_count": 54,
   "id": "967d90fe-ce17-4d1f-985b-f6013da57745",
   "metadata": {},
   "outputs": [
    {
     "data": {
      "text/plain": [
       "1963"
      ]
     },
     "execution_count": 54,
     "metadata": {},
     "output_type": "execute_result"
    }
   ],
   "source": [
    "df.Year.min()"
   ]
  },
  {
   "cell_type": "markdown",
   "id": "819ebd83-8df6-4237-a76d-1d04e0e769cd",
   "metadata": {},
   "source": [
    "# Add manual Annotation (classification)"
   ]
  },
  {
   "cell_type": "code",
   "execution_count": 56,
   "id": "ca70ac54-5cb2-4df8-9b9f-e7a9731e9a96",
   "metadata": {},
   "outputs": [],
   "source": [
    "df[[\"text\",\"explanation\"]].sample(10).to_excel(\"2025-04-26 Sample for manual annotation.xlsx\")"
   ]
  },
  {
   "cell_type": "code",
   "execution_count": 58,
   "id": "92ddd8fd-2704-4889-ad77-b1b4bedaef76",
   "metadata": {},
   "outputs": [],
   "source": [
    "import pandas as pd\n",
    "\n",
    "# Load Excel files and set 'name' as the index\n",
    "dfm = pd.read_excel(\"2025-02-24 Sample for manual annotation_filled.xlsx\")[[\"name\",\"Max code\"]]\n",
    "dfm2 = pd.read_excel(\"2025-03-07 Sample for manual annotation filled.xlsx\")[[\"name\",\"Max code\"]]\n",
    "dfm3 = pd.read_excel(\"2025-03-07 2nd Sample for manual annotation filled.xlsx\")[[\"name\",\"Max code\"]]\n",
    "\n",
    "# Concatenate DataFrames, drop rows with NaN in 'Max code', and remove duplicate indices\n",
    "df_annotated = pd.concat([dfm, dfm2,dfm3], axis=0).dropna(subset=[\"Max code\"])\n",
    "df_annotated = df_annotated[~df_annotated.index.duplicated(keep=\"first\")]\n",
    "\n",
    "\n",
    "\n",
    "df_final=pd.merge(df,df_annotated,on=\"name\",how=\"left\")"
   ]
  },
  {
   "cell_type": "code",
   "execution_count": 60,
   "id": "5611891c-66ad-4156-af79-532d85ca9352",
   "metadata": {},
   "outputs": [],
   "source": [
    "#df_final=df_final.dropna(subset=\"Year\")\n",
    "df_final.sort_values(\"name\").to_json(\"2025-04-26 Merged_Data.json\", date_format='iso')\n",
    "df_final.sort_values(\"name\").to_excel(\"2025-04-26 Merged_Data.xlsx\")"
   ]
  },
  {
   "cell_type": "code",
   "execution_count": 34,
   "id": "df88b557-e20f-40d7-bcfd-7badd2247ad3",
   "metadata": {},
   "outputs": [
    {
     "data": {
      "text/plain": [
       "0      2023-06-22\n",
       "1      2021-06-09\n",
       "2      2005-09-24\n",
       "3      2005-09-21\n",
       "4      2005-06-22\n",
       "          ...    \n",
       "1010   2022-03-24\n",
       "1011   2022-03-24\n",
       "1012   2022-02-03\n",
       "1013   2021-11-25\n",
       "1014   2021-11-04\n",
       "Name: Date, Length: 1015, dtype: datetime64[ns]"
      ]
     },
     "execution_count": 34,
     "metadata": {},
     "output_type": "execute_result"
    }
   ],
   "source": [
    "df_final[\"Date\"]"
   ]
  },
  {
   "cell_type": "code",
   "execution_count": 64,
   "id": "6ee80cda-3c30-4a77-9ede-144b5887adf3",
   "metadata": {},
   "outputs": [
    {
     "data": {
      "text/html": [
       "<div>\n",
       "<style scoped>\n",
       "    .dataframe tbody tr th:only-of-type {\n",
       "        vertical-align: middle;\n",
       "    }\n",
       "\n",
       "    .dataframe tbody tr th {\n",
       "        vertical-align: top;\n",
       "    }\n",
       "\n",
       "    .dataframe thead th {\n",
       "        text-align: right;\n",
       "    }\n",
       "</style>\n",
       "<table border=\"1\" class=\"dataframe\">\n",
       "  <thead>\n",
       "    <tr style=\"text-align: right;\">\n",
       "      <th></th>\n",
       "      <th>name</th>\n",
       "      <th>Doi</th>\n",
       "      <th>journal_x</th>\n",
       "      <th>Title</th>\n",
       "      <th>Date</th>\n",
       "      <th>Year</th>\n",
       "      <th>Type</th>\n",
       "      <th>Type Recoded</th>\n",
       "      <th>confirmed_2024</th>\n",
       "      <th>9. retained for analysis (revised)</th>\n",
       "      <th>...</th>\n",
       "      <th>NoStopwords</th>\n",
       "      <th>Nouns_Verbs</th>\n",
       "      <th>misconduct</th>\n",
       "      <th>mistake</th>\n",
       "      <th>retract</th>\n",
       "      <th>n_misconduct</th>\n",
       "      <th>n_mistake</th>\n",
       "      <th>n_retract</th>\n",
       "      <th>dict_topic</th>\n",
       "      <th>Max code</th>\n",
       "    </tr>\n",
       "  </thead>\n",
       "  <tbody>\n",
       "  </tbody>\n",
       "</table>\n",
       "<p>0 rows × 59 columns</p>\n",
       "</div>"
      ],
      "text/plain": [
       "Empty DataFrame\n",
       "Columns: [name, Doi, journal_x, Title, Date, Year, Type, Type Recoded, confirmed_2024, 9. retained for analysis (revised), path_x, folder_x, journal_y, texts_x, labels_x, retraction_counts_x, has_retraction_x, retract_tokens_x, has_retraction_label_x, filtered_texts, neighboring_texts, texts_until_section_header, text, relevant, retraction_context, retraction_explanation, category, explanation, contains_country, country_plus_city, Most Common country, all_jobs, fields, most_common_fields, path_y, folder_y, journal, texts_y, labels_y, retraction_counts_y, has_retraction_y, retract_tokens_y, has_retraction_label_y, text_y, sentiment, keywords_likely, keywords_only, keywords_filtered, Lemmata, NoStopwords, Nouns_Verbs, misconduct, mistake, retract, n_misconduct, n_mistake, n_retract, dict_topic, Max code]\n",
       "Index: []\n",
       "\n",
       "[0 rows x 59 columns]"
      ]
     },
     "execution_count": 64,
     "metadata": {},
     "output_type": "execute_result"
    }
   ],
   "source": [
    "df_final[df_final.text.isna()]"
   ]
  }
 ],
 "metadata": {
  "kernelspec": {
   "display_name": "Python [conda env:base] *",
   "language": "python",
   "name": "conda-base-py"
  },
  "language_info": {
   "codemirror_mode": {
    "name": "ipython",
    "version": 3
   },
   "file_extension": ".py",
   "mimetype": "text/x-python",
   "name": "python",
   "nbconvert_exporter": "python",
   "pygments_lexer": "ipython3",
   "version": "3.12.2"
  }
 },
 "nbformat": 4,
 "nbformat_minor": 5
}
